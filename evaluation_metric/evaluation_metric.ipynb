{
 "cells": [
  {
   "cell_type": "markdown",
   "id": "dad2d6cd",
   "metadata": {},
   "source": [
    "#### Getting Predicted Data"
   ]
  },
  {
   "cell_type": "code",
   "execution_count": 1,
   "id": "acd0389f",
   "metadata": {},
   "outputs": [
    {
     "name": "stderr",
     "output_type": "stream",
     "text": [
      "<>:4: SyntaxWarning: invalid escape sequence '\\s'\n",
      "<>:4: SyntaxWarning: invalid escape sequence '\\s'\n",
      "C:\\Users\\joshu\\AppData\\Local\\Temp\\ipykernel_14788\\508343493.py:4: SyntaxWarning: invalid escape sequence '\\s'\n",
      "  predicted_data = pd.read_parquet('../model\\sample_predictions.parquet')\n"
     ]
    },
    {
     "data": {
      "text/html": [
       "<div>\n",
       "<style scoped>\n",
       "    .dataframe tbody tr th:only-of-type {\n",
       "        vertical-align: middle;\n",
       "    }\n",
       "\n",
       "    .dataframe tbody tr th {\n",
       "        vertical-align: top;\n",
       "    }\n",
       "\n",
       "    .dataframe thead th {\n",
       "        text-align: right;\n",
       "    }\n",
       "</style>\n",
       "<table border=\"1\" class=\"dataframe\">\n",
       "  <thead>\n",
       "    <tr style=\"text-align: right;\">\n",
       "      <th></th>\n",
       "      <th>median</th>\n",
       "    </tr>\n",
       "  </thead>\n",
       "  <tbody>\n",
       "    <tr>\n",
       "      <th>E01000001</th>\n",
       "      <td>0.0</td>\n",
       "    </tr>\n",
       "    <tr>\n",
       "      <th>E01000002</th>\n",
       "      <td>0.0</td>\n",
       "    </tr>\n",
       "    <tr>\n",
       "      <th>E01000003</th>\n",
       "      <td>0.0</td>\n",
       "    </tr>\n",
       "    <tr>\n",
       "      <th>E01000005</th>\n",
       "      <td>0.0</td>\n",
       "    </tr>\n",
       "    <tr>\n",
       "      <th>E01000006</th>\n",
       "      <td>0.0</td>\n",
       "    </tr>\n",
       "    <tr>\n",
       "      <th>...</th>\n",
       "      <td>...</td>\n",
       "    </tr>\n",
       "    <tr>\n",
       "      <th>E01035688</th>\n",
       "      <td>0.0</td>\n",
       "    </tr>\n",
       "    <tr>\n",
       "      <th>E01035689</th>\n",
       "      <td>0.0</td>\n",
       "    </tr>\n",
       "    <tr>\n",
       "      <th>E01035690</th>\n",
       "      <td>1.0</td>\n",
       "    </tr>\n",
       "    <tr>\n",
       "      <th>E01035691</th>\n",
       "      <td>1.0</td>\n",
       "    </tr>\n",
       "    <tr>\n",
       "      <th>E01035692</th>\n",
       "      <td>2.0</td>\n",
       "    </tr>\n",
       "  </tbody>\n",
       "</table>\n",
       "<p>4964 rows × 1 columns</p>\n",
       "</div>"
      ],
      "text/plain": [
       "           median\n",
       "E01000001     0.0\n",
       "E01000002     0.0\n",
       "E01000003     0.0\n",
       "E01000005     0.0\n",
       "E01000006     0.0\n",
       "...           ...\n",
       "E01035688     0.0\n",
       "E01035689     0.0\n",
       "E01035690     1.0\n",
       "E01035691     1.0\n",
       "E01035692     2.0\n",
       "\n",
       "[4964 rows x 1 columns]"
      ]
     },
     "execution_count": 1,
     "metadata": {},
     "output_type": "execute_result"
    }
   ],
   "source": [
    "import pandas as pd\n",
    "import numpy as np\n",
    "\n",
    "predicted_data = pd.read_parquet('../model\\sample_predictions.parquet')\n",
    "predicted_data"
   ]
  },
  {
   "cell_type": "markdown",
   "id": "80b9e69c",
   "metadata": {},
   "source": [
    "#### Getting Observed Data"
   ]
  },
  {
   "cell_type": "code",
   "execution_count": 2,
   "id": "18fa185d",
   "metadata": {},
   "outputs": [
    {
     "data": {
      "text/html": [
       "<div>\n",
       "<style scoped>\n",
       "    .dataframe tbody tr th:only-of-type {\n",
       "        vertical-align: middle;\n",
       "    }\n",
       "\n",
       "    .dataframe tbody tr th {\n",
       "        vertical-align: top;\n",
       "    }\n",
       "\n",
       "    .dataframe thead th {\n",
       "        text-align: right;\n",
       "    }\n",
       "</style>\n",
       "<table border=\"1\" class=\"dataframe\">\n",
       "  <thead>\n",
       "    <tr style=\"text-align: right;\">\n",
       "      <th></th>\n",
       "      <th>count</th>\n",
       "    </tr>\n",
       "    <tr>\n",
       "      <th>LSOA code</th>\n",
       "      <th></th>\n",
       "    </tr>\n",
       "  </thead>\n",
       "  <tbody>\n",
       "    <tr>\n",
       "      <th>E01000003</th>\n",
       "      <td>1</td>\n",
       "    </tr>\n",
       "    <tr>\n",
       "      <th>E01000005</th>\n",
       "      <td>1</td>\n",
       "    </tr>\n",
       "    <tr>\n",
       "      <th>E01000007</th>\n",
       "      <td>4</td>\n",
       "    </tr>\n",
       "    <tr>\n",
       "      <th>E01000009</th>\n",
       "      <td>1</td>\n",
       "    </tr>\n",
       "    <tr>\n",
       "      <th>E01000013</th>\n",
       "      <td>2</td>\n",
       "    </tr>\n",
       "    <tr>\n",
       "      <th>...</th>\n",
       "      <td>...</td>\n",
       "    </tr>\n",
       "    <tr>\n",
       "      <th>E01035716</th>\n",
       "      <td>14</td>\n",
       "    </tr>\n",
       "    <tr>\n",
       "      <th>E01035717</th>\n",
       "      <td>6</td>\n",
       "    </tr>\n",
       "    <tr>\n",
       "      <th>E01035718</th>\n",
       "      <td>3</td>\n",
       "    </tr>\n",
       "    <tr>\n",
       "      <th>E01035719</th>\n",
       "      <td>1</td>\n",
       "    </tr>\n",
       "    <tr>\n",
       "      <th>E01035722</th>\n",
       "      <td>3</td>\n",
       "    </tr>\n",
       "  </tbody>\n",
       "</table>\n",
       "<p>2325 rows × 1 columns</p>\n",
       "</div>"
      ],
      "text/plain": [
       "           count\n",
       "LSOA code       \n",
       "E01000003      1\n",
       "E01000005      1\n",
       "E01000007      4\n",
       "E01000009      1\n",
       "E01000013      2\n",
       "...          ...\n",
       "E01035716     14\n",
       "E01035717      6\n",
       "E01035718      3\n",
       "E01035719      1\n",
       "E01035722      3\n",
       "\n",
       "[2325 rows x 1 columns]"
      ]
     },
     "execution_count": 2,
     "metadata": {},
     "output_type": "execute_result"
    }
   ],
   "source": [
    "# Load the CSV files\n",
    "metropolitan_df = pd.read_csv('observed_data/2025-03-metropolitan-street.csv')\n",
    "city_of_london_df = pd.read_csv('observed_data/2025-03-city-of-london-street.csv')\n",
    "\n",
    "# Combine both dataframes\n",
    "combined_df = pd.concat([metropolitan_df, city_of_london_df], ignore_index=True)\n",
    "\n",
    "# Filter to only include burglaries\n",
    "burglary_df = combined_df[combined_df['Crime type'].str.lower() == 'burglary']\n",
    "\n",
    "# Count the number of burglaries per LSOA\n",
    "burglary_counts = burglary_df['LSOA code'].value_counts().reset_index()\n",
    "burglary_counts.columns = ['LSOA code', 'count']\n",
    "burglary_counts.set_index('LSOA code', inplace=True)\n",
    "burglary_counts = burglary_counts.sort_index(ascending=True)\n",
    "\n",
    "observed_data = burglary_counts\n",
    "observed_data = observed_data.reset_index().set_index('LSOA code')[['count']]\n",
    "\n",
    "observed_data"
   ]
  },
  {
   "cell_type": "markdown",
   "id": "4a86003f",
   "metadata": {},
   "source": [
    "#### Function for Evaluation Metric"
   ]
  },
  {
   "cell_type": "markdown",
   "id": "bc6da27d",
   "metadata": {},
   "source": [
    "######"
   ]
  },
  {
   "cell_type": "markdown",
   "id": "5bac5ff4",
   "metadata": {},
   "source": [
    "##### RMSE "
   ]
  },
  {
   "cell_type": "code",
   "execution_count": 10,
   "id": "f7c50abe",
   "metadata": {},
   "outputs": [],
   "source": [
    "list_of_lsoa = predicted_data.index.tolist()\n",
    "\n",
    "def compute_rmse(predictions, lsoa_codes, observed_df):\n",
    "    \"\"\"\n",
    "    Compute CRPS between predicted samples and observed burglary counts.\n",
    "\n",
    "    Parameters:\n",
    "    - predictions: np.ndarray of shape (n_samples, n_LSOAs)\n",
    "    - lsoa_codes: list of LSOA codes in the same order as columns of `predictions`\n",
    "    - observed_df: DataFrame or Series indexed by LSOA with counts\n",
    "\n",
    "    Returns:\n",
    "    - average CRPS score over all LSOAs\n",
    "    \"\"\"\n",
    "    def rmse_single(pred_samples, obs):\n",
    "        pred_samples = np.asarray(pred_samples)\n",
    "        term1 = np.mean((pred_samples - obs)**2)\n",
    "        term2 = 0.5 * np.mean(np.abs(pred_samples[:, None] - pred_samples[None, :]))\n",
    "        return term1 - term2\n",
    "\n",
    "    all_lsoas = pd.Series(0, index=lsoa_codes)\n",
    "\n",
    "    # Accept either a DataFrame with 'count' or a Series\n",
    "    if isinstance(observed_df, pd.DataFrame):\n",
    "        observed_series = observed_df['count']\n",
    "    else:\n",
    "        observed_series = observed_df\n",
    "\n",
    "    observed_aligned = all_lsoas.copy()\n",
    "    observed_aligned.update(observed_series)\n",
    "\n",
    "    rmse_scores = []\n",
    "    for i, lsoa in enumerate(lsoa_codes):\n",
    "        obs = observed_aligned[lsoa]\n",
    "        rmse = rmse_single(predictions[:, i], obs)\n",
    "        rmse_scores.append(rmse)\n",
    "\n",
    "    return np.mean(rmse_scores)\n",
    "\n"
   ]
  },
  {
   "cell_type": "code",
   "execution_count": 12,
   "id": "d1b45e69",
   "metadata": {},
   "outputs": [
    {
     "name": "stdout",
     "output_type": "stream",
     "text": [
      "rmse Score: 0.5356\n"
     ]
    }
   ],
   "source": [
    "# list_of_lsoa must match predicted_data.columns exactly\n",
    "list_of_lsoa = predicted_data.columns.tolist()\n",
    "\n",
    "# Compute CRPS\n",
    "rmse_score = compute_rmse(predicted_data.to_numpy(), list_of_lsoa, observed_data)\n",
    "print(f\"rmse Score: {rmse_score:.4f}\")\n"
   ]
  },
  {
   "cell_type": "markdown",
   "id": "36088690",
   "metadata": {},
   "source": [
    "average predictive distribution is, on average, 0.54 units away from the true crime count (in a probabilistic sense).\n",
    "\n",
    "- predicts crime 0.54+- away from true prediction"
   ]
  },
  {
   "cell_type": "markdown",
   "id": "0a7c3e84",
   "metadata": {},
   "source": [
    "##### CRPS"
   ]
  },
  {
   "cell_type": "markdown",
   "id": "3cc99789",
   "metadata": {},
   "source": []
  }
 ],
 "metadata": {
  "kernelspec": {
   "display_name": "Python 3",
   "language": "python",
   "name": "python3"
  },
  "language_info": {
   "codemirror_mode": {
    "name": "ipython",
    "version": 3
   },
   "file_extension": ".py",
   "mimetype": "text/x-python",
   "name": "python",
   "nbconvert_exporter": "python",
   "pygments_lexer": "ipython3",
   "version": "3.12.3"
  }
 },
 "nbformat": 4,
 "nbformat_minor": 5
}
