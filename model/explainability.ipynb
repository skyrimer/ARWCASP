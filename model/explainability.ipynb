{
 "cells": [
  {
   "cell_type": "code",
   "execution_count": 1,
   "id": "9b358c23",
   "metadata": {},
   "outputs": [
    {
     "name": "stderr",
     "output_type": "stream",
     "text": [
      "c:\\MiniConda\\envs\\py311\\Lib\\site-packages\\geopandas\\geodataframe.py:1819: PerformanceWarning: DataFrame is highly fragmented.  This is usually the result of calling `frame.insert` many times, which has poor performance.  Consider joining all columns at once using pd.concat(axis=1) instead. To get a de-fragmented frame, use `newframe = frame.copy()`\n",
      "  super().__setitem__(key, value)\n",
      "c:\\MiniConda\\envs\\py311\\Lib\\site-packages\\geopandas\\geodataframe.py:1819: PerformanceWarning: DataFrame is highly fragmented.  This is usually the result of calling `frame.insert` many times, which has poor performance.  Consider joining all columns at once using pd.concat(axis=1) instead. To get a de-fragmented frame, use `newframe = frame.copy()`\n",
      "  super().__setitem__(key, value)\n",
      "c:\\MiniConda\\envs\\py311\\Lib\\site-packages\\geopandas\\geodataframe.py:1819: PerformanceWarning: DataFrame is highly fragmented.  This is usually the result of calling `frame.insert` many times, which has poor performance.  Consider joining all columns at once using pd.concat(axis=1) instead. To get a de-fragmented frame, use `newframe = frame.copy()`\n",
      "  super().__setitem__(key, value)\n",
      "c:\\MiniConda\\envs\\py311\\Lib\\site-packages\\geopandas\\geodataframe.py:1819: PerformanceWarning: DataFrame is highly fragmented.  This is usually the result of calling `frame.insert` many times, which has poor performance.  Consider joining all columns at once using pd.concat(axis=1) instead. To get a de-fragmented frame, use `newframe = frame.copy()`\n",
      "  super().__setitem__(key, value)\n",
      "c:\\MiniConda\\envs\\py311\\Lib\\site-packages\\geopandas\\geodataframe.py:1819: PerformanceWarning: DataFrame is highly fragmented.  This is usually the result of calling `frame.insert` many times, which has poor performance.  Consider joining all columns at once using pd.concat(axis=1) instead. To get a de-fragmented frame, use `newframe = frame.copy()`\n",
      "  super().__setitem__(key, value)\n",
      "c:\\MiniConda\\envs\\py311\\Lib\\site-packages\\geopandas\\geodataframe.py:1819: PerformanceWarning: DataFrame is highly fragmented.  This is usually the result of calling `frame.insert` many times, which has poor performance.  Consider joining all columns at once using pd.concat(axis=1) instead. To get a de-fragmented frame, use `newframe = frame.copy()`\n",
      "  super().__setitem__(key, value)\n"
     ]
    }
   ],
   "source": [
    "from data_prep.data_prep import prepare_all_data\n",
    "from training.training import prepare_model_data\n",
    "from model import burglary_model\n",
    "from utils.utils import single_out_last, setup_reproducibility\n",
    "from pipeline import train_and_evaluate_model\n",
    "model_tuple, occupation_mappings,ward_idx_map = prepare_all_data(\"../merged_data.parquet\", \"lsoa\")"
   ]
  },
  {
   "cell_type": "code",
   "execution_count": 2,
   "id": "a47d6cf3",
   "metadata": {},
   "outputs": [
    {
     "name": "stdout",
     "output_type": "stream",
     "text": [
      "Using device: cuda\n"
     ]
    }
   ],
   "source": [
    "device = setup_reproducibility(42)\n",
    "print(f'Using device: {device}')\n",
    "training_data, testing_data = single_out_last(model_tuple[0])"
   ]
  },
  {
   "cell_type": "code",
   "execution_count": 3,
   "id": "8432c48a",
   "metadata": {},
   "outputs": [],
   "source": [
    "\n",
    "# model_tuple = (\n",
    "#     model_tuple[0],\n",
    "# ['Ethnic Group|BAME (%)', 'Car or van availability|No cars or vans in household (%)', 'Public Transport Accessibility Levels|Number of people in each PTAL level:|4', 'n_neighbors', 'Public Transport Accessibility Levels|Number of people in each PTAL level:|3', 'Public Transport Accessibility Levels|% 0-1 (poor access)|Level3_65', 'Household Composition|% One person household', 'Public Transport Accessibility Levels|Number of people in each PTAL level:|6a', 'Ethnic Group|Asian/Asian British (%)', 'Public Transport Accessibility Levels|Number of people in each PTAL level:|2', 'Ethnic Group|Black/African/Caribbean/Black British (%)', 'Public Transport Accessibility Levels|Number of people in each PTAL level:|6b', 'Car or van availability|1 car or van in household (%)', 'Ethnic Group|Other ethnic group (%)', 'Tenure|Owned with a mortgage or loan (%)', 'Car or van availability|2 cars or vans in household (%)'],\n",
    "# ['Mid-year Population Estimates|All Ages', 'Mid-year Population Estimates|Aged 0-15', 'Index of Multiple Deprivation (IMD) Rank (where 1 is most deprived)', 'Education, Skills and Training Rank (where 1 is most deprived)', 'Mid-year Population Estimates|Aged 45-64', 'Employment Rank (where 1 is most deprived)', 'Income Rank (where 1 is most deprived)'],\n",
    "# [\"post_corona\", \"month_sin\"],\n",
    "# ['time_log'],\n",
    "# ['lag_1'],\n",
    "# ['lag1_diff_neighbors', 'lag1_mean_neighbors', 'lag_1_x_n_neighbors']\n",
    "# )"
   ]
  },
  {
   "cell_type": "code",
   "execution_count": 4,
   "id": "e36fbde5",
   "metadata": {},
   "outputs": [],
   "source": [
    "# # Without interaction terms,\n",
    "# # rmse          1.675789\n",
    "# # mae           0.897979\n",
    "# # crps          0.343265\n",
    "to_include = [\n",
    "    'Public Transport Accessibility Levels|Number of people in each PTAL level:|6b',\n",
    "     'Ethnic Group|White (%)', 'Ethnic Group|Black/African/Caribbean/Black British (%)',\n",
    "     'Household Composition|% Couple household with dependent children',\n",
    "     'Household Composition|% One person household',\n",
    "      'area',\n",
    "     'Public Transport Accessibility Levels|Average Score|Level3_64',\n",
    "     'Tenure|Social rented (%)', 'n_neighbors',\n",
    "     'Mid-year Population Estimates|Aged 16-29',\n",
    "     'Mid-year Population Estimates|Aged 0-15',\n",
    "     'Mid-year Population Estimates|All Ages',\n",
    "     'Barriers to Housing and Services Rank (where 1 is most deprived)',\n",
    "]\n",
    "model_tuple = (\n",
    "    model_tuple[0],\n",
    "    ['Public Transport Accessibility Levels|Number of people in each PTAL level:|6b',\n",
    "     'Ethnic Group|White (%)', 'Ethnic Group|Black/African/Caribbean/Black British (%)',\n",
    "     'Household Composition|% Couple household with dependent children',\n",
    "     'Household Composition|% One person household',\n",
    "      'area',\n",
    "     'Public Transport Accessibility Levels|Average Score|Level3_64',\n",
    "     'Tenure|Social rented (%)', 'n_neighbors',],\n",
    "    ['Mid-year Population Estimates|Aged 16-29',\n",
    "     'Mid-year Population Estimates|Aged 0-15',\n",
    "     'Mid-year Population Estimates|All Ages',\n",
    "     'Barriers to Housing and Services Rank (where 1 is most deprived)',\n",
    "     *[\n",
    "    elem\n",
    "    for elem in model_tuple[0]\n",
    "    if elem.endswith(\"_x_post_corona\")\n",
    "       and any(inc in elem for inc in to_include)\n",
    "],\n",
    "     ],\n",
    "    [\"during_corona\", \"post_corona\", \"month_sin\"],\n",
    "    ['time_log'],\n",
    "    ['lag_1',],\n",
    "    ['lag1_median_neighbors'],\n",
    ")"
   ]
  },
  {
   "cell_type": "code",
   "execution_count": 5,
   "id": "188ddd34",
   "metadata": {},
   "outputs": [],
   "source": [
    "# Without interaction terms,\n",
    "# model_tuple = (\n",
    "#     model_tuple[0],\n",
    "#     ['Public Transport Accessibility Levels|Number of people in each PTAL level:|6b',\n",
    "#      'Ethnic Group|White (%)', 'Ethnic Group|Black/African/Caribbean/Black British (%)',\n",
    "#      'Household Composition|% Couple household with dependent children',\n",
    "#      'Household Composition|% One person household',\n",
    "#      'area',\n",
    "#      'Public Transport Accessibility Levels|Average Score|Level3_64',\n",
    "#      'Tenure|Social rented (%)', 'n_neighbors',],\n",
    "#     ['Mid-year Population Estimates|Aged 16-29',\n",
    "#      'Mid-year Population Estimates|Aged 0-15',\n",
    "#      'Mid-year Population Estimates|All Ages',\n",
    "#      'Barriers to Housing and Services Rank (where 1 is most deprived)',\n",
    "#      *[elem for elem in model_tuple[0] if elem.endswith(\"_x_post_corona\") or elem.endswith(\"_x_during_corona\")]],\n",
    "#     [\"during_corona\", \"post_corona\", \"month_sin\"],\n",
    "#     ['time_log'],\n",
    "#     ['lag_1',],\n",
    "#     ['lag1_median_neighbors'],\n",
    "# )\n",
    "# model_tuple = (\n",
    "#     model_tuple[0],\n",
    "#     ['Public Transport Accessibility Levels|Number of people in each PTAL level:|6b',\n",
    "#      'Ethnic Group|White (%)', 'Ethnic Group|Black/African/Caribbean/Black British (%)',\n",
    "#      'Household Composition|% Couple household with dependent children',\n",
    "#      'Household Composition|% One person household',\n",
    "#      'area',\n",
    "#      'Public Transport Accessibility Levels|Average Score|Level3_64',\n",
    "#      'Tenure|Social rented (%)', 'n_neighbors',],\n",
    "# ['Emergency locations_x_post_corona',\n",
    "#  'Ethnic Group|White (%)_x_post_corona',\n",
    "#  'Households|All households_x_post_corona',\n",
    "#  'Household Composition|% One person household_x_post_corona',\n",
    "#  'Tenure|Owned with a mortgage or loan (%)_x_post_corona',\n",
    "#  'lag_1_x_post_corona',\n",
    "#  'lag_3_x_post_corona',\n",
    "#  r'Household Composition|% Lone parent household_x_post_corona',\n",
    "#  'roll_3_mean_x_post_corona',\n",
    "#  'Mid-year Population Estimates|Aged 0-15_x_post_corona',\n",
    "#  'Car or van availability|Cars per household_x_post_corona',\n",
    "#  'Income Rank (where 1 is most deprived)_x_post_corona',\n",
    "#  'Health Deprivation and Disability Rank (where 1 is most deprived)_x_post_corona',\n",
    "#  'Food locations_x_post_corona',\n",
    "#  'Employment Rank (where 1 is most deprived)_x_post_corona',\n",
    "#  'lag_4_x_post_corona',\n",
    "#  'Mid-year Population Estimates|Aged 0-15',\n",
    "#  'Dwelling type|Flat, maisonette or apartment (%)_x_post_corona',\n",
    "#  'Mid-year Population Estimates|All Ages',\n",
    "#  'Barriers to Housing and Services Rank (where 1 is most deprived)_x_post_corona',\n",
    "#  'Parking locations_x_post_corona',\n",
    "#  'Education, Skills and Training Rank (where 1 is most deprived)_x_post_corona'],\n",
    "#     [\"during_corona\", \"post_corona\", \"month_sin\"],\n",
    "#     ['time_log'],\n",
    "#     ['lag_1',],\n",
    "#     ['lag1_median_neighbors'],\n",
    "# )\n",
    "# model_tuple = (\n",
    "#     model_tuple[0],\n",
    "#     ['Public Transport Accessibility Levels|Number of people in each PTAL level:|6b',\n",
    "#      'Ethnic Group|White (%)', 'Ethnic Group|Black/African/Caribbean/Black British (%)',\n",
    "#      'Household Composition|% Couple household with dependent children',\n",
    "#      'Household Composition|% One person household',\n",
    "#      'area',\n",
    "#      'Public Transport Accessibility Levels|Average Score|Level3_64',\n",
    "#      'Tenure|Social rented (%)', 'n_neighbors',],\n",
    "# ['Household Composition|% One person household_x_post_corona',\n",
    "#  r'Household Composition|% Lone parent household_x_post_corona',\n",
    "#  'Mid-year Population Estimates|Aged 0-15_x_post_corona',\n",
    "#  'roll_3_mean_x_post_corona',\n",
    "#  'Employment Rank (where 1 is most deprived)_x_post_corona',\n",
    "#  'Income Rank (where 1 is most deprived)_x_post_corona',\n",
    "#  'Tenure|Owned with a mortgage or loan (%)_x_post_corona',\n",
    "#  'lag_4_x_post_corona',\n",
    "#  'Car or van availability|Cars per household_x_post_corona',\n",
    "#  'lag_1_x_post_corona',\n",
    "#  'Food locations_x_post_corona'],\n",
    "#     [\"during_corona\", \"post_corona\", \"month_sin\"],\n",
    "#     ['time_log'],\n",
    "#     ['lag_1',],\n",
    "#     ['lag1_median_neighbors'],\n",
    "# )"
   ]
  },
  {
   "cell_type": "code",
   "execution_count": null,
   "id": "40bd0686",
   "metadata": {},
   "outputs": [],
   "source": []
  },
  {
   "cell_type": "code",
   "execution_count": 6,
   "id": "3f202617",
   "metadata": {},
   "outputs": [],
   "source": [
    "# # Without interaction terms,\n",
    "# model_tuple = (\n",
    "#     model_tuple[0],\n",
    "#     ['Public Transport Accessibility Levels|Number of people in each PTAL level:|6b', 'Ethnic Group|White (%)', 'Ethnic Group|Black/African/Caribbean/Black British (%)', 'Household Composition|% Couple household with dependent children', 'Household Composition|% One person household', 'area', 'Public Transport Accessibility Levels|Average Score|Level3_64', 'Tenure|Social rented (%)', 'n_neighbors',],\n",
    "#     ['Mid-year Population Estimates|Aged 16-29', 'Mid-year Population Estimates|Aged 0-15', 'Mid-year Population Estimates|All Ages', 'Barriers to Housing and Services Rank (where 1 is most deprived)', 'Education, Skills and Training Rank (where 1 is most deprived)'],\n",
    "#     # ['Mid-year Population Estimates|All Ages', 'Education, Skills and Training Rank (where 1 is most deprived)', 'Employment Rank (where 1 is most deprived)', 'Living Environment Rank (where 1 is most deprived)'],\n",
    "#     [\"during_corona\", \"post_corona\", \"month_sin\"],\n",
    "#     ['time_log'],\n",
    "#     ['lag_1',],\n",
    "#     ['lag1_median_neighbors'],\n",
    "# )"
   ]
  },
  {
   "cell_type": "code",
   "execution_count": 7,
   "id": "2a650f5f",
   "metadata": {},
   "outputs": [],
   "source": [
    "# (['Car or van availability|Cars per household',\n",
    "#   'Dwelling type|Flat, maisonette or apartment (%)',\n",
    "#   'Education locations',\n",
    "#   'Emergency locations',\n",
    "#   'Entertainment locations',\n",
    "#   'Ethnic Group|Asian/Asian British (%)',\n",
    "#   'Ethnic Group|Black/African/Caribbean/Black British (%)',\n",
    "#   'Ethnic Group|Mixed/multiple ethnic groups (%)',\n",
    "#   'Ethnic Group|White (%)',\n",
    "#   'Food locations',\n",
    "#   'Household Composition|% Couple household with dependent children',\n",
    "#   'Household Composition|% Couple household without dependent children',\n",
    "#   'Household Composition|% Lone parent household',\n",
    "#   'Household Composition|% One person household',\n",
    "#   'Households|All households',\n",
    "#   'Leisure locations',\n",
    "#   'Parking locations',\n",
    "#   'Public Transport Accessibility Levels|Average Score|Level3_64',\n",
    "#   'Public Transport Accessibility Levels|Number of people in each PTAL level:|5',\n",
    "#   'Public Transport Accessibility Levels|Number of people in each PTAL level:|6a',\n",
    "#   'Public Transport Accessibility Levels|Number of people in each PTAL level:|6b',\n",
    "#   'Public transport locations',\n",
    "#   'Shopping locations',\n",
    "#   'Tenure|Owned with a mortgage or loan (%)',\n",
    "#   'Tenure|Private rented (%)',\n",
    "#   'Tenure|Social rented (%)',\n",
    "#   'area',\n",
    "#   'n_neighbors'],\n",
    "#  ['Barriers to Housing and Services Rank (where 1 is most deprived)',\n",
    "#   'Education, Skills and Training Rank (where 1 is most deprived)',\n",
    "#   'Employment Rank (where 1 is most deprived)',\n",
    "#   'Health Deprivation and Disability Rank (where 1 is most deprived)',\n",
    "#   'Income Rank (where 1 is most deprived)',\n",
    "#   'Living Environment Rank (where 1 is most deprived)',\n",
    "#   'Mid-year Population Estimates|Aged 0-15',],\n",
    "#  ['during_corona', 'month_sin', 'post_corona'],\n",
    "#  ['time_log'],\n",
    "#  ['lag_1',\n",
    "#   'lag_2',\n",
    "#   'lag_3',\n",
    "#   'lag_4',\n",
    "#   'roll_12_mean',\n",
    "#   'roll_3_mean',\n",
    "#   'roll_6_mean'],\n",
    "#  ['lag1_median_neighbors', 'lag1_sum_neighbors'])"
   ]
  },
  {
   "cell_type": "code",
   "execution_count": 8,
   "id": "fe49a07c",
   "metadata": {},
   "outputs": [
    {
     "name": "stderr",
     "output_type": "stream",
     "text": [
      "Training SVI: 100%|██████████| 971/971 [03:33<00:00,  4.55it/s]\n"
     ]
    }
   ],
   "source": [
    "train_data = prepare_model_data(training_data, *model_tuple[1:], device, ward_idx_map=ward_idx_map)\n",
    "test_data = prepare_model_data(testing_data, *model_tuple[1:], device, train_data[\"means\"], train_data[\"stds\"], ward_idx_map)\n",
    "\n",
    "evaluation_metrics, svi, svi.guide, prediction_tester = train_and_evaluate_model(train_data, test_data, burglary_model, occupation_mappings[1], testing_steps=5000)"
   ]
  },
  {
   "cell_type": "code",
   "execution_count": 9,
   "id": "55046ad5",
   "metadata": {},
   "outputs": [
    {
     "name": "stderr",
     "output_type": "stream",
     "text": [
      "Training SVI:   0%|          | 2/971 [00:36<4:58:24, 18.48s/it]\n"
     ]
    },
    {
     "ename": "KeyboardInterrupt",
     "evalue": "",
     "output_type": "error",
     "traceback": [
      "\u001b[31m---------------------------------------------------------------------------\u001b[39m",
      "\u001b[31mKeyboardInterrupt\u001b[39m                         Traceback (most recent call last)",
      "\u001b[36mCell\u001b[39m\u001b[36m \u001b[39m\u001b[32mIn[9]\u001b[39m\u001b[32m, line 2\u001b[39m\n\u001b[32m      1\u001b[39m \u001b[38;5;28;01mfrom\u001b[39;00m\u001b[38;5;250m \u001b[39m\u001b[34;01mpipeline\u001b[39;00m\u001b[38;5;250m \u001b[39m\u001b[38;5;28;01mimport\u001b[39;00m cross_validate_time_splits\n\u001b[32m----> \u001b[39m\u001b[32m2\u001b[39m results = \u001b[43mcross_validate_time_splits\u001b[49m\u001b[43m(\u001b[49m\u001b[43mmodel_tuple\u001b[49m\u001b[43m,\u001b[49m\u001b[43m \u001b[49m\u001b[33;43m\"\u001b[39;49m\u001b[33;43mtime_s\u001b[39;49m\u001b[33;43m\"\u001b[39;49m\u001b[43m,\u001b[49m\u001b[43m \u001b[49m\u001b[32;43m12\u001b[39;49m\u001b[43m,\u001b[49m\u001b[43m \u001b[49m\u001b[43mburglary_model\u001b[49m\u001b[43m,\u001b[49m\n\u001b[32m      3\u001b[39m \u001b[43m                           \u001b[49m\u001b[43moccupation_mappings\u001b[49m\u001b[43m[\u001b[49m\u001b[32;43m1\u001b[39;49m\u001b[43m]\u001b[49m\u001b[43m,\u001b[49m\u001b[43m \u001b[49m\u001b[43mdevice\u001b[49m\u001b[43m,\u001b[49m\u001b[43m \u001b[49m\u001b[43mward_idx_map\u001b[49m\u001b[43m)\u001b[49m\n\u001b[32m      4\u001b[39m \u001b[38;5;28mprint\u001b[39m(results[\u001b[32m0\u001b[39m].mean())\n\u001b[32m      5\u001b[39m results[\u001b[32m0\u001b[39m]\n",
      "\u001b[36mFile \u001b[39m\u001b[32mc:\\Users\\Chekm\\Jupiter\\ARWCASP\\model\\pipeline.py:83\u001b[39m, in \u001b[36mcross_validate_time_splits\u001b[39m\u001b[34m(model_tuple, time_col, n_splits, burglary_model, occupation_map, device, ward_idx_map)\u001b[39m\n\u001b[32m     73\u001b[39m test_data = prepare_model_data(\n\u001b[32m     74\u001b[39m     test_df,\n\u001b[32m     75\u001b[39m     *model_tuple[\u001b[32m1\u001b[39m:],\n\u001b[32m   (...)\u001b[39m\u001b[32m     79\u001b[39m     ward_idx_map=ward_idx_map\n\u001b[32m     80\u001b[39m )\n\u001b[32m     82\u001b[39m \u001b[38;5;66;03m# Train & evaluate\u001b[39;00m\n\u001b[32m---> \u001b[39m\u001b[32m83\u001b[39m evaluation_metrics, _, _, _ = \u001b[43mtrain_and_evaluate_model\u001b[49m\u001b[43m(\u001b[49m\n\u001b[32m     84\u001b[39m \u001b[43m    \u001b[49m\u001b[43mtrain_data\u001b[49m\u001b[43m,\u001b[49m\n\u001b[32m     85\u001b[39m \u001b[43m    \u001b[49m\u001b[43mtest_data\u001b[49m\u001b[43m,\u001b[49m\n\u001b[32m     86\u001b[39m \u001b[43m    \u001b[49m\u001b[43mburglary_model\u001b[49m\u001b[43m,\u001b[49m\n\u001b[32m     87\u001b[39m \u001b[43m    \u001b[49m\u001b[43moccupation_map\u001b[49m\n\u001b[32m     88\u001b[39m \u001b[43m\u001b[49m\u001b[43m)\u001b[49m\n\u001b[32m     90\u001b[39m \u001b[38;5;66;03m# Record metrics along with split info\u001b[39;00m\n\u001b[32m     91\u001b[39m record = {\n\u001b[32m     92\u001b[39m     \u001b[33m\"\u001b[39m\u001b[33mtrain_time\u001b[39m\u001b[33m\"\u001b[39m: train_time,\n\u001b[32m     93\u001b[39m     \u001b[33m\"\u001b[39m\u001b[33mtest_time\u001b[39m\u001b[33m\"\u001b[39m:  test_time,\n\u001b[32m     94\u001b[39m     **evaluation_metrics\n\u001b[32m     95\u001b[39m }\n",
      "\u001b[36mFile \u001b[39m\u001b[32mc:\\Users\\Chekm\\Jupiter\\ARWCASP\\model\\pipeline.py:33\u001b[39m, in \u001b[36mtrain_and_evaluate_model\u001b[39m\u001b[34m(training_data, testing_data, model_function, inx_to_occupation_map, guide_type, guide_rank, lr, elbo_type, renyi_alpha, num_particles, training_steps, testing_steps)\u001b[39m\n\u001b[32m     23\u001b[39m pyro.clear_param_store()\n\u001b[32m     25\u001b[39m svi = create_learner(model_function,\n\u001b[32m     26\u001b[39m                      guide_type=guide_type,\n\u001b[32m     27\u001b[39m                      guide_rank=guide_rank,\n\u001b[32m   (...)\u001b[39m\u001b[32m     30\u001b[39m                      renyi_alpha=renyi_alpha,\n\u001b[32m     31\u001b[39m                      num_particles=num_particles)\n\u001b[32m---> \u001b[39m\u001b[32m33\u001b[39m _ = \u001b[43mtrain_model\u001b[49m\u001b[43m(\u001b[49m\u001b[43mtraining_data\u001b[49m\u001b[43m,\u001b[49m\u001b[43m \u001b[49m\u001b[43msvi\u001b[49m\u001b[43m,\u001b[49m\u001b[43m \u001b[49m\u001b[43mnum_steps\u001b[49m\u001b[43m=\u001b[49m\u001b[43mtraining_steps\u001b[49m\u001b[43m)\u001b[49m\n\u001b[32m     34\u001b[39m prediction_tester = PredictionTester(\n\u001b[32m     35\u001b[39m     testing_data, burglary_model, svi.guide, inx_to_occupation_map)\n\u001b[32m     36\u001b[39m prediction_tester.predict(testing_steps)\n",
      "\u001b[36mFile \u001b[39m\u001b[32mc:\\Users\\Chekm\\Jupiter\\ARWCASP\\model\\training\\training.py:179\u001b[39m, in \u001b[36mtrain_model\u001b[39m\u001b[34m(data, svi, num_steps)\u001b[39m\n\u001b[32m    177\u001b[39m \u001b[38;5;66;03m# Training loop\u001b[39;00m\n\u001b[32m    178\u001b[39m \u001b[38;5;28;01mfor\u001b[39;00m _ \u001b[38;5;129;01min\u001b[39;00m tqdm(\u001b[38;5;28mrange\u001b[39m(num_steps), desc=\u001b[33m\"\u001b[39m\u001b[33mTraining SVI\u001b[39m\u001b[33m\"\u001b[39m):\n\u001b[32m--> \u001b[39m\u001b[32m179\u001b[39m     loss = \u001b[43msvi\u001b[49m\u001b[43m.\u001b[49m\u001b[43mstep\u001b[49m\u001b[43m(\u001b[49m\n\u001b[32m    180\u001b[39m \u001b[43m        \u001b[49m\u001b[43moccupation_idx\u001b[49m\u001b[43m,\u001b[49m\n\u001b[32m    181\u001b[39m \u001b[43m        \u001b[49m\u001b[43mward_idx\u001b[49m\u001b[43m,\u001b[49m\n\u001b[32m    182\u001b[39m \u001b[43m        \u001b[49m\u001b[43mX_static\u001b[49m\u001b[43m,\u001b[49m\n\u001b[32m    183\u001b[39m \u001b[43m        \u001b[49m\u001b[43mX_dynamic\u001b[49m\u001b[43m,\u001b[49m\n\u001b[32m    184\u001b[39m \u001b[43m        \u001b[49m\u001b[43mX_seasonal\u001b[49m\u001b[43m,\u001b[49m\n\u001b[32m    185\u001b[39m \u001b[43m        \u001b[49m\u001b[43mX_time_trend\u001b[49m\u001b[43m,\u001b[49m\n\u001b[32m    186\u001b[39m \u001b[43m        \u001b[49m\u001b[43mX_temporal\u001b[49m\u001b[43m,\u001b[49m\n\u001b[32m    187\u001b[39m \u001b[43m        \u001b[49m\u001b[43mX_spatial\u001b[49m\u001b[43m,\u001b[49m\n\u001b[32m    188\u001b[39m \u001b[43m        \u001b[49m\u001b[43my\u001b[49m\n\u001b[32m    189\u001b[39m \u001b[43m    \u001b[49m\u001b[43m)\u001b[49m\n\u001b[32m    190\u001b[39m     losses.append(loss)\n\u001b[32m    191\u001b[39m \u001b[38;5;28;01mreturn\u001b[39;00m svi, losses, data[\u001b[33m\"\u001b[39m\u001b[33mmeans\u001b[39m\u001b[33m\"\u001b[39m], data[\u001b[33m\"\u001b[39m\u001b[33mstds\u001b[39m\u001b[33m\"\u001b[39m]\n",
      "\u001b[36mFile \u001b[39m\u001b[32mc:\\MiniConda\\envs\\py311\\Lib\\site-packages\\pyro\\infer\\svi.py:145\u001b[39m, in \u001b[36mSVI.step\u001b[39m\u001b[34m(self, *args, **kwargs)\u001b[39m\n\u001b[32m    143\u001b[39m \u001b[38;5;66;03m# get loss and compute gradients\u001b[39;00m\n\u001b[32m    144\u001b[39m \u001b[38;5;28;01mwith\u001b[39;00m poutine.trace(param_only=\u001b[38;5;28;01mTrue\u001b[39;00m) \u001b[38;5;28;01mas\u001b[39;00m param_capture:\n\u001b[32m--> \u001b[39m\u001b[32m145\u001b[39m     loss = \u001b[38;5;28;43mself\u001b[39;49m\u001b[43m.\u001b[49m\u001b[43mloss_and_grads\u001b[49m\u001b[43m(\u001b[49m\u001b[38;5;28;43mself\u001b[39;49m\u001b[43m.\u001b[49m\u001b[43mmodel\u001b[49m\u001b[43m,\u001b[49m\u001b[43m \u001b[49m\u001b[38;5;28;43mself\u001b[39;49m\u001b[43m.\u001b[49m\u001b[43mguide\u001b[49m\u001b[43m,\u001b[49m\u001b[43m \u001b[49m\u001b[43m*\u001b[49m\u001b[43margs\u001b[49m\u001b[43m,\u001b[49m\u001b[43m \u001b[49m\u001b[43m*\u001b[49m\u001b[43m*\u001b[49m\u001b[43mkwargs\u001b[49m\u001b[43m)\u001b[49m\n\u001b[32m    147\u001b[39m params = \u001b[38;5;28mset\u001b[39m(\n\u001b[32m    148\u001b[39m     site[\u001b[33m\"\u001b[39m\u001b[33mvalue\u001b[39m\u001b[33m\"\u001b[39m].unconstrained() \u001b[38;5;28;01mfor\u001b[39;00m site \u001b[38;5;129;01min\u001b[39;00m param_capture.trace.nodes.values()\n\u001b[32m    149\u001b[39m )\n\u001b[32m    151\u001b[39m \u001b[38;5;66;03m# actually perform gradient steps\u001b[39;00m\n\u001b[32m    152\u001b[39m \u001b[38;5;66;03m# torch.optim objects gets instantiated for any params that haven't been seen yet\u001b[39;00m\n",
      "\u001b[36mFile \u001b[39m\u001b[32mc:\\MiniConda\\envs\\py311\\Lib\\site-packages\\pyro\\infer\\trace_elbo.py:250\u001b[39m, in \u001b[36mJitTrace_ELBO.loss_and_grads\u001b[39m\u001b[34m(self, model, guide, *args, **kwargs)\u001b[39m\n\u001b[32m    249\u001b[39m \u001b[38;5;28;01mdef\u001b[39;00m\u001b[38;5;250m \u001b[39m\u001b[34mloss_and_grads\u001b[39m(\u001b[38;5;28mself\u001b[39m, model, guide, *args, **kwargs):\n\u001b[32m--> \u001b[39m\u001b[32m250\u001b[39m     loss, surrogate_loss = \u001b[38;5;28;43mself\u001b[39;49m\u001b[43m.\u001b[49m\u001b[43mloss_and_surrogate_loss\u001b[49m\u001b[43m(\u001b[49m\n\u001b[32m    251\u001b[39m \u001b[43m        \u001b[49m\u001b[43mmodel\u001b[49m\u001b[43m,\u001b[49m\u001b[43m \u001b[49m\u001b[43mguide\u001b[49m\u001b[43m,\u001b[49m\u001b[43m \u001b[49m\u001b[43m*\u001b[49m\u001b[43margs\u001b[49m\u001b[43m,\u001b[49m\u001b[43m \u001b[49m\u001b[43m*\u001b[49m\u001b[43m*\u001b[49m\u001b[43mkwargs\u001b[49m\n\u001b[32m    252\u001b[39m \u001b[43m    \u001b[49m\u001b[43m)\u001b[49m\n\u001b[32m    253\u001b[39m     surrogate_loss.backward()\n\u001b[32m    254\u001b[39m     loss = loss.item()\n",
      "\u001b[36mFile \u001b[39m\u001b[32mc:\\MiniConda\\envs\\py311\\Lib\\site-packages\\pyro\\infer\\trace_elbo.py:239\u001b[39m, in \u001b[36mJitTrace_ELBO.loss_and_surrogate_loss\u001b[39m\u001b[34m(self, model, guide, *args, **kwargs)\u001b[39m\n\u001b[32m    235\u001b[39m         \u001b[38;5;28;01mreturn\u001b[39;00m loss, surrogate_loss\n\u001b[32m    237\u001b[39m     \u001b[38;5;28mself\u001b[39m._loss_and_surrogate_loss = loss_and_surrogate_loss\n\u001b[32m--> \u001b[39m\u001b[32m239\u001b[39m \u001b[38;5;28;01mreturn\u001b[39;00m \u001b[38;5;28;43mself\u001b[39;49m\u001b[43m.\u001b[49m\u001b[43m_loss_and_surrogate_loss\u001b[49m\u001b[43m(\u001b[49m\u001b[43m*\u001b[49m\u001b[43margs\u001b[49m\u001b[43m,\u001b[49m\u001b[43m \u001b[49m\u001b[43m*\u001b[49m\u001b[43m*\u001b[49m\u001b[43mkwargs\u001b[49m\u001b[43m)\u001b[49m\n",
      "\u001b[36mFile \u001b[39m\u001b[32mc:\\MiniConda\\envs\\py311\\Lib\\site-packages\\pyro\\ops\\jit.py:120\u001b[39m, in \u001b[36mCompiledFunction.__call__\u001b[39m\u001b[34m(self, *args, **kwargs)\u001b[39m\n\u001b[32m    118\u001b[39m \u001b[38;5;28;01mwith\u001b[39;00m poutine.block(hide=\u001b[38;5;28mself\u001b[39m._param_names):\n\u001b[32m    119\u001b[39m     \u001b[38;5;28;01mwith\u001b[39;00m poutine.trace(param_only=\u001b[38;5;28;01mTrue\u001b[39;00m) \u001b[38;5;28;01mas\u001b[39;00m param_capture:\n\u001b[32m--> \u001b[39m\u001b[32m120\u001b[39m         ret = \u001b[38;5;28;43mself\u001b[39;49m\u001b[43m.\u001b[49m\u001b[43mcompiled\u001b[49m\u001b[43m[\u001b[49m\u001b[43mkey\u001b[49m\u001b[43m]\u001b[49m\u001b[43m(\u001b[49m\u001b[43m*\u001b[49m\u001b[43mparams_and_args\u001b[49m\u001b[43m)\u001b[49m\n\u001b[32m    122\u001b[39m \u001b[38;5;28;01mfor\u001b[39;00m name \u001b[38;5;129;01min\u001b[39;00m param_capture.trace.nodes.keys():\n\u001b[32m    123\u001b[39m     \u001b[38;5;28;01mif\u001b[39;00m name \u001b[38;5;129;01mnot\u001b[39;00m \u001b[38;5;129;01min\u001b[39;00m \u001b[38;5;28mself\u001b[39m._param_names:\n",
      "\u001b[31mKeyboardInterrupt\u001b[39m: "
     ]
    }
   ],
   "source": [
    "from pipeline import cross_validate_time_splits\n",
    "results = cross_validate_time_splits(model_tuple, \"time_s\", 12, burglary_model,\n",
    "                           occupation_mappings[1], device, ward_idx_map)\n",
    "print(results[0].mean())\n",
    "results[0]"
   ]
  },
  {
   "cell_type": "markdown",
   "id": "71bfb577",
   "metadata": {},
   "source": [
    "# Explainability"
   ]
  },
  {
   "cell_type": "code",
   "execution_count": 10,
   "id": "122de216",
   "metadata": {},
   "outputs": [],
   "source": [
    "# posterior predictive samples:   preds  (shape: [S, N])   – integers\n",
    "# posterior rate samples:         lam    (shape: [S, N])   – reals\n",
    "# design-matrix DataFrame:        X_df   (one row per LSOA month)\n",
    "# original GeoJSON for LSOAs:     lsoa_geo\n",
    "import geopandas as gpd\n",
    "preds = prediction_tester.predictions[\"obs\"].cpu().numpy()    # shape (1000, N)\n",
    "lam   = prediction_tester.predictions[\"lam\"].cpu().numpy()    # shape (1000, N)\n",
    "X_df = testing_data.copy()\n",
    "X_df[\"lsoa\"] = X_df[\"occupation_idx\"].map(occupation_mappings[1])\n",
    "lsoa_geo = gpd.read_file(\"../processed_data/LSOA boundaries.geojson\")"
   ]
  },
  {
   "cell_type": "code",
   "execution_count": 11,
   "id": "1aee52a2",
   "metadata": {},
   "outputs": [
    {
     "data": {
      "text/plain": [
       "171       E01000001\n",
       "343       E01000002\n",
       "515       E01000003\n",
       "687       E01000005\n",
       "859       E01000006\n",
       "            ...    \n",
       "853119    E01035688\n",
       "853291    E01035689\n",
       "853463    E01035690\n",
       "853635    E01035691\n",
       "853807    E01035692\n",
       "Name: lsoa, Length: 4964, dtype: object"
      ]
     },
     "execution_count": 11,
     "metadata": {},
     "output_type": "execute_result"
    }
   ],
   "source": [
    "X_df[\"lsoa\"]"
   ]
  },
  {
   "cell_type": "code",
   "execution_count": 12,
   "id": "de2af68b",
   "metadata": {},
   "outputs": [],
   "source": [
    "lsoa_geo = lsoa_geo[[\"LSOA21CD\", \"geometry\"]].rename(columns={\"LSOA21CD\": \"lsoa\"}).copy()"
   ]
  },
  {
   "cell_type": "code",
   "execution_count": 13,
   "id": "ec7e6459",
   "metadata": {},
   "outputs": [
    {
     "data": {
      "text/plain": [
       "171       0.0\n",
       "343       0.0\n",
       "515       1.0\n",
       "687       1.0\n",
       "859       0.0\n",
       "         ... \n",
       "853119    4.0\n",
       "853291    0.0\n",
       "853463    4.0\n",
       "853635    0.0\n",
       "853807    3.0\n",
       "Name: burglaries, Length: 4964, dtype: float32"
      ]
     },
     "execution_count": 13,
     "metadata": {},
     "output_type": "execute_result"
    }
   ],
   "source": [
    "X_df[\"burglaries\"]"
   ]
  },
  {
   "cell_type": "code",
   "execution_count": 14,
   "id": "f2fbba1e",
   "metadata": {},
   "outputs": [
    {
     "data": {
      "text/html": [
       "<div>\n",
       "<style scoped>\n",
       "    .dataframe tbody tr th:only-of-type {\n",
       "        vertical-align: middle;\n",
       "    }\n",
       "\n",
       "    .dataframe tbody tr th {\n",
       "        vertical-align: top;\n",
       "    }\n",
       "\n",
       "    .dataframe thead th {\n",
       "        text-align: right;\n",
       "    }\n",
       "</style>\n",
       "<table border=\"1\" class=\"dataframe\">\n",
       "  <thead>\n",
       "    <tr style=\"text-align: right;\">\n",
       "      <th></th>\n",
       "      <th>burglaries</th>\n",
       "    </tr>\n",
       "    <tr>\n",
       "      <th>lsoa</th>\n",
       "      <th></th>\n",
       "    </tr>\n",
       "  </thead>\n",
       "  <tbody>\n",
       "    <tr>\n",
       "      <th>E01000001</th>\n",
       "      <td>0.0</td>\n",
       "    </tr>\n",
       "    <tr>\n",
       "      <th>E01000002</th>\n",
       "      <td>0.0</td>\n",
       "    </tr>\n",
       "    <tr>\n",
       "      <th>E01000003</th>\n",
       "      <td>1.0</td>\n",
       "    </tr>\n",
       "    <tr>\n",
       "      <th>E01000005</th>\n",
       "      <td>1.0</td>\n",
       "    </tr>\n",
       "    <tr>\n",
       "      <th>E01000006</th>\n",
       "      <td>0.0</td>\n",
       "    </tr>\n",
       "    <tr>\n",
       "      <th>...</th>\n",
       "      <td>...</td>\n",
       "    </tr>\n",
       "    <tr>\n",
       "      <th>E01035688</th>\n",
       "      <td>4.0</td>\n",
       "    </tr>\n",
       "    <tr>\n",
       "      <th>E01035689</th>\n",
       "      <td>0.0</td>\n",
       "    </tr>\n",
       "    <tr>\n",
       "      <th>E01035690</th>\n",
       "      <td>4.0</td>\n",
       "    </tr>\n",
       "    <tr>\n",
       "      <th>E01035691</th>\n",
       "      <td>0.0</td>\n",
       "    </tr>\n",
       "    <tr>\n",
       "      <th>E01035692</th>\n",
       "      <td>3.0</td>\n",
       "    </tr>\n",
       "  </tbody>\n",
       "</table>\n",
       "<p>4964 rows × 1 columns</p>\n",
       "</div>"
      ],
      "text/plain": [
       "           burglaries\n",
       "lsoa                 \n",
       "E01000001         0.0\n",
       "E01000002         0.0\n",
       "E01000003         1.0\n",
       "E01000005         1.0\n",
       "E01000006         0.0\n",
       "...               ...\n",
       "E01035688         4.0\n",
       "E01035689         0.0\n",
       "E01035690         4.0\n",
       "E01035691         0.0\n",
       "E01035692         3.0\n",
       "\n",
       "[4964 rows x 1 columns]"
      ]
     },
     "execution_count": 14,
     "metadata": {},
     "output_type": "execute_result"
    }
   ],
   "source": [
    "X_df[[\"occupation_idx\", \"burglaries\"]].assign(lsoa=X_df[\"occupation_idx\"].map(occupation_mappings[1])).set_index(\"lsoa\")[[\"burglaries\"]]"
   ]
  },
  {
   "cell_type": "code",
   "execution_count": 15,
   "id": "b1adbd65",
   "metadata": {},
   "outputs": [
    {
     "data": {
      "text/plain": [
       "median\n",
       "0.0       2678\n",
       "1.0       1932\n",
       "2.0        239\n",
       "3.0         54\n",
       "4.0         27\n",
       "5.0         13\n",
       "25.0         7\n",
       "6.0          4\n",
       "7.0          4\n",
       "8.0          2\n",
       "9.0          1\n",
       "10.0         1\n",
       "20.0         1\n",
       "26.0         1\n",
       "Name: count, dtype: int64"
      ]
     },
     "execution_count": 15,
     "metadata": {},
     "output_type": "execute_result"
    }
   ],
   "source": [
    "prediction_tester.get_median_predictions().value_counts()"
   ]
  },
  {
   "cell_type": "code",
   "execution_count": 16,
   "id": "fdaff108",
   "metadata": {},
   "outputs": [
    {
     "data": {
      "text/plain": [
       "np.float32(0.6901692)"
      ]
     },
     "execution_count": 16,
     "metadata": {},
     "output_type": "execute_result"
    }
   ],
   "source": [
    "prediction_tester.get_mae()"
   ]
  },
  {
   "cell_type": "code",
   "execution_count": 17,
   "id": "02bcee32",
   "metadata": {},
   "outputs": [
    {
     "data": {
      "text/html": [
       "<div>\n",
       "<style scoped>\n",
       "    .dataframe tbody tr th:only-of-type {\n",
       "        vertical-align: middle;\n",
       "    }\n",
       "\n",
       "    .dataframe tbody tr th {\n",
       "        vertical-align: top;\n",
       "    }\n",
       "\n",
       "    .dataframe thead th {\n",
       "        text-align: right;\n",
       "    }\n",
       "</style>\n",
       "<table border=\"1\" class=\"dataframe\">\n",
       "  <thead>\n",
       "    <tr style=\"text-align: right;\">\n",
       "      <th></th>\n",
       "      <th>lower_bound</th>\n",
       "      <th>upper_bound</th>\n",
       "    </tr>\n",
       "  </thead>\n",
       "  <tbody>\n",
       "    <tr>\n",
       "      <th>E01000001</th>\n",
       "      <td>0.0</td>\n",
       "      <td>2.0</td>\n",
       "    </tr>\n",
       "    <tr>\n",
       "      <th>E01000002</th>\n",
       "      <td>0.0</td>\n",
       "      <td>2.0</td>\n",
       "    </tr>\n",
       "    <tr>\n",
       "      <th>E01000003</th>\n",
       "      <td>0.0</td>\n",
       "      <td>2.0</td>\n",
       "    </tr>\n",
       "    <tr>\n",
       "      <th>E01000005</th>\n",
       "      <td>0.0</td>\n",
       "      <td>6.0</td>\n",
       "    </tr>\n",
       "    <tr>\n",
       "      <th>E01000006</th>\n",
       "      <td>0.0</td>\n",
       "      <td>2.0</td>\n",
       "    </tr>\n",
       "    <tr>\n",
       "      <th>...</th>\n",
       "      <td>...</td>\n",
       "      <td>...</td>\n",
       "    </tr>\n",
       "    <tr>\n",
       "      <th>E01035688</th>\n",
       "      <td>0.0</td>\n",
       "      <td>5.0</td>\n",
       "    </tr>\n",
       "    <tr>\n",
       "      <th>E01035689</th>\n",
       "      <td>0.0</td>\n",
       "      <td>3.0</td>\n",
       "    </tr>\n",
       "    <tr>\n",
       "      <th>E01035690</th>\n",
       "      <td>0.0</td>\n",
       "      <td>8.0</td>\n",
       "    </tr>\n",
       "    <tr>\n",
       "      <th>E01035691</th>\n",
       "      <td>0.0</td>\n",
       "      <td>6.0</td>\n",
       "    </tr>\n",
       "    <tr>\n",
       "      <th>E01035692</th>\n",
       "      <td>0.0</td>\n",
       "      <td>6.0</td>\n",
       "    </tr>\n",
       "  </tbody>\n",
       "</table>\n",
       "<p>4964 rows × 2 columns</p>\n",
       "</div>"
      ],
      "text/plain": [
       "           lower_bound  upper_bound\n",
       "E01000001          0.0          2.0\n",
       "E01000002          0.0          2.0\n",
       "E01000003          0.0          2.0\n",
       "E01000005          0.0          6.0\n",
       "E01000006          0.0          2.0\n",
       "...                ...          ...\n",
       "E01035688          0.0          5.0\n",
       "E01035689          0.0          3.0\n",
       "E01035690          0.0          8.0\n",
       "E01035691          0.0          6.0\n",
       "E01035692          0.0          6.0\n",
       "\n",
       "[4964 rows x 2 columns]"
      ]
     },
     "execution_count": 17,
     "metadata": {},
     "output_type": "execute_result"
    }
   ],
   "source": [
    "prediction_tester.get_confidence_intervals(0.05)"
   ]
  },
  {
   "cell_type": "code",
   "execution_count": 18,
   "id": "966cffdd",
   "metadata": {},
   "outputs": [
    {
     "data": {
      "text/html": [
       "<div>\n",
       "<style scoped>\n",
       "    .dataframe tbody tr th:only-of-type {\n",
       "        vertical-align: middle;\n",
       "    }\n",
       "\n",
       "    .dataframe tbody tr th {\n",
       "        vertical-align: top;\n",
       "    }\n",
       "\n",
       "    .dataframe thead th {\n",
       "        text-align: right;\n",
       "    }\n",
       "</style>\n",
       "<table border=\"1\" class=\"dataframe\">\n",
       "  <thead>\n",
       "    <tr style=\"text-align: right;\">\n",
       "      <th></th>\n",
       "      <th>lsoa</th>\n",
       "      <th>lower_bound</th>\n",
       "      <th>upper_bound</th>\n",
       "    </tr>\n",
       "  </thead>\n",
       "  <tbody>\n",
       "    <tr>\n",
       "      <th>0</th>\n",
       "      <td>E01000001</td>\n",
       "      <td>0.0</td>\n",
       "      <td>2.0</td>\n",
       "    </tr>\n",
       "    <tr>\n",
       "      <th>1</th>\n",
       "      <td>E01000002</td>\n",
       "      <td>0.0</td>\n",
       "      <td>2.0</td>\n",
       "    </tr>\n",
       "    <tr>\n",
       "      <th>2</th>\n",
       "      <td>E01000003</td>\n",
       "      <td>0.0</td>\n",
       "      <td>2.0</td>\n",
       "    </tr>\n",
       "    <tr>\n",
       "      <th>3</th>\n",
       "      <td>E01000005</td>\n",
       "      <td>0.0</td>\n",
       "      <td>6.0</td>\n",
       "    </tr>\n",
       "    <tr>\n",
       "      <th>4</th>\n",
       "      <td>E01000006</td>\n",
       "      <td>0.0</td>\n",
       "      <td>2.0</td>\n",
       "    </tr>\n",
       "    <tr>\n",
       "      <th>...</th>\n",
       "      <td>...</td>\n",
       "      <td>...</td>\n",
       "      <td>...</td>\n",
       "    </tr>\n",
       "    <tr>\n",
       "      <th>4959</th>\n",
       "      <td>E01035688</td>\n",
       "      <td>0.0</td>\n",
       "      <td>5.0</td>\n",
       "    </tr>\n",
       "    <tr>\n",
       "      <th>4960</th>\n",
       "      <td>E01035689</td>\n",
       "      <td>0.0</td>\n",
       "      <td>3.0</td>\n",
       "    </tr>\n",
       "    <tr>\n",
       "      <th>4961</th>\n",
       "      <td>E01035690</td>\n",
       "      <td>0.0</td>\n",
       "      <td>8.0</td>\n",
       "    </tr>\n",
       "    <tr>\n",
       "      <th>4962</th>\n",
       "      <td>E01035691</td>\n",
       "      <td>0.0</td>\n",
       "      <td>6.0</td>\n",
       "    </tr>\n",
       "    <tr>\n",
       "      <th>4963</th>\n",
       "      <td>E01035692</td>\n",
       "      <td>0.0</td>\n",
       "      <td>6.0</td>\n",
       "    </tr>\n",
       "  </tbody>\n",
       "</table>\n",
       "<p>4964 rows × 3 columns</p>\n",
       "</div>"
      ],
      "text/plain": [
       "           lsoa  lower_bound  upper_bound\n",
       "0     E01000001          0.0          2.0\n",
       "1     E01000002          0.0          2.0\n",
       "2     E01000003          0.0          2.0\n",
       "3     E01000005          0.0          6.0\n",
       "4     E01000006          0.0          2.0\n",
       "...         ...          ...          ...\n",
       "4959  E01035688          0.0          5.0\n",
       "4960  E01035689          0.0          3.0\n",
       "4961  E01035690          0.0          8.0\n",
       "4962  E01035691          0.0          6.0\n",
       "4963  E01035692          0.0          6.0\n",
       "\n",
       "[4964 rows x 3 columns]"
      ]
     },
     "execution_count": 18,
     "metadata": {},
     "output_type": "execute_result"
    }
   ],
   "source": [
    "prediction_tester.get_confidence_intervals(0.05).reset_index(names=\"lsoa\")"
   ]
  },
  {
   "cell_type": "code",
   "execution_count": 19,
   "id": "c798560e",
   "metadata": {},
   "outputs": [
    {
     "data": {
      "text/html": [
       "<div>\n",
       "<style scoped>\n",
       "    .dataframe tbody tr th:only-of-type {\n",
       "        vertical-align: middle;\n",
       "    }\n",
       "\n",
       "    .dataframe tbody tr th {\n",
       "        vertical-align: top;\n",
       "    }\n",
       "\n",
       "    .dataframe thead th {\n",
       "        text-align: right;\n",
       "    }\n",
       "</style>\n",
       "<table border=\"1\" class=\"dataframe\">\n",
       "  <thead>\n",
       "    <tr style=\"text-align: right;\">\n",
       "      <th></th>\n",
       "      <th>lsoa</th>\n",
       "      <th>median</th>\n",
       "    </tr>\n",
       "  </thead>\n",
       "  <tbody>\n",
       "    <tr>\n",
       "      <th>0</th>\n",
       "      <td>E01000001</td>\n",
       "      <td>0.0</td>\n",
       "    </tr>\n",
       "    <tr>\n",
       "      <th>1</th>\n",
       "      <td>E01000002</td>\n",
       "      <td>0.0</td>\n",
       "    </tr>\n",
       "    <tr>\n",
       "      <th>2</th>\n",
       "      <td>E01000003</td>\n",
       "      <td>0.0</td>\n",
       "    </tr>\n",
       "    <tr>\n",
       "      <th>3</th>\n",
       "      <td>E01000005</td>\n",
       "      <td>2.0</td>\n",
       "    </tr>\n",
       "    <tr>\n",
       "      <th>4</th>\n",
       "      <td>E01000006</td>\n",
       "      <td>0.0</td>\n",
       "    </tr>\n",
       "    <tr>\n",
       "      <th>...</th>\n",
       "      <td>...</td>\n",
       "      <td>...</td>\n",
       "    </tr>\n",
       "    <tr>\n",
       "      <th>4959</th>\n",
       "      <td>E01035688</td>\n",
       "      <td>2.0</td>\n",
       "    </tr>\n",
       "    <tr>\n",
       "      <th>4960</th>\n",
       "      <td>E01035689</td>\n",
       "      <td>0.0</td>\n",
       "    </tr>\n",
       "    <tr>\n",
       "      <th>4961</th>\n",
       "      <td>E01035690</td>\n",
       "      <td>3.0</td>\n",
       "    </tr>\n",
       "    <tr>\n",
       "      <th>4962</th>\n",
       "      <td>E01035691</td>\n",
       "      <td>2.0</td>\n",
       "    </tr>\n",
       "    <tr>\n",
       "      <th>4963</th>\n",
       "      <td>E01035692</td>\n",
       "      <td>2.0</td>\n",
       "    </tr>\n",
       "  </tbody>\n",
       "</table>\n",
       "<p>4964 rows × 2 columns</p>\n",
       "</div>"
      ],
      "text/plain": [
       "           lsoa  median\n",
       "0     E01000001     0.0\n",
       "1     E01000002     0.0\n",
       "2     E01000003     0.0\n",
       "3     E01000005     2.0\n",
       "4     E01000006     0.0\n",
       "...         ...     ...\n",
       "4959  E01035688     2.0\n",
       "4960  E01035689     0.0\n",
       "4961  E01035690     3.0\n",
       "4962  E01035691     2.0\n",
       "4963  E01035692     2.0\n",
       "\n",
       "[4964 rows x 2 columns]"
      ]
     },
     "execution_count": 19,
     "metadata": {},
     "output_type": "execute_result"
    }
   ],
   "source": [
    "prediction_tester.get_median_predictions().reset_index(names=\"lsoa\")"
   ]
  },
  {
   "cell_type": "code",
   "execution_count": 20,
   "id": "7aabb976",
   "metadata": {},
   "outputs": [],
   "source": [
    "import matplotlib.pyplot as plt\n",
    "import pandas as pd\n",
    "\n",
    "# Assume you already have:\n",
    "#   ci_df       : DataFrame with columns [\"lsoa\", \"lower_bound\", \"upper_bound\"]\n",
    "#   summary_df  : DataFrame with columns [\"lsoa\", \"burglaries_observed\"] (and possibly other cols)\n",
    "summary_df = X_df[[\"occupation_idx\", \"burglaries\"]].assign(lsoa=X_df[\"occupation_idx\"].map(occupation_mappings[1])).set_index(\"lsoa\")[[\"burglaries\"]].reset_index()"
   ]
  },
  {
   "cell_type": "code",
   "execution_count": null,
   "id": "18a3a79f",
   "metadata": {},
   "outputs": [],
   "source": []
  },
  {
   "cell_type": "code",
   "execution_count": 21,
   "id": "661c7977",
   "metadata": {},
   "outputs": [],
   "source": [
    "import numpy as np\n",
    "alphas = np.arange(0.05, 1, 0.05)\n",
    "coverages = []\n",
    "confidence_intervals = []\n",
    "for alpha in alphas:\n",
    "    ci_df = prediction_tester.get_confidence_intervals(alpha).reset_index(names=\"lsoa\")\n",
    "    test = ci_df.merge(summary_df, on=\"lsoa\", how=\"left\")\n",
    "    test[\"contained\"] = (test[\"lower_bound\"] <= test[\"burglaries\"]) &  (test[\"burglaries\"] <= test[\"upper_bound\"])\n",
    "    coverages.append(test[\"contained\"].mean() * 100)\n",
    "    confidence_intervals.append((test[\"upper_bound\"] - test[\"lower_bound\"]).mean())"
   ]
  },
  {
   "cell_type": "code",
   "execution_count": 22,
   "id": "78890a38",
   "metadata": {},
   "outputs": [
    {
     "data": {
      "image/png": "[encoded data removed]",
      "text/plain": [
       "<Figure size 600x400 with 2 Axes>"
      ]
     },
     "metadata": {},
     "output_type": "display_data"
    }
   ],
   "source": [
    "import numpy as np\n",
    "import matplotlib.pyplot as plt\n",
    "\n",
    "confidence = (1 - alphas) * 100  \n",
    "# 2. Scatter plot: alpha vs coverage, colored by mean CI width\n",
    "fig, ax = plt.subplots(figsize=(6, 4))\n",
    "sc = ax.scatter(confidence, coverages, c=confidence_intervals, cmap='viridis', edgecolor='k')\n",
    "ax.set_xlabel(\"Confidence level (%)\")\n",
    "ax.set_ylabel(\"Coverage (%)\")\n",
    "ax.set_title(\"Coverage vs. α, colored by mean CI width\")\n",
    "ax.set_xlim(0, 105)\n",
    "ax.set_ylim(0, 105)\n",
    "cbar = plt.colorbar(sc, ax=ax)\n",
    "cbar.set_label(\"Average CI width\")\n",
    "plt.tight_layout()\n",
    "plt.show()\n"
   ]
  },
  {
   "cell_type": "code",
   "execution_count": 23,
   "id": "41acd151",
   "metadata": {},
   "outputs": [
    {
     "data": {
      "application/vnd.plotly.v1+json": {
       "config": {
        "plotlyServerURL": "https://plot.ly"
       },
       "data": [
        {
         "marker": {
          "color": {
           "bdata": "AAAAAADAV0AAAAAAAIBWQAAAAAAAQFVAAAAAAAAAVEAAAAAAAMBSQAAAAAAAgFFA//////8/UEAAAAAAAABOQAEAAAAAgEtAAAAAAAAASUD//////39GQP///////0NA/v////9/QUD+//////89QP3//////zhA////////M0D7//////8tQPj//////yNA+P//////E0A=",
           "dtype": "f8"
          },
          "colorbar": {
           "title": {
            "text": "Average confidence level (%)"
           }
          },
          "colorscale": [
           [
            0,
            "rgb(255,255,204)"
           ],
           [
            0.125,
            "rgb(255,237,160)"
           ],
           [
            0.25,
            "rgb(254,217,118)"
           ],
           [
            0.375,
            "rgb(254,178,76)"
           ],
           [
            0.5,
            "rgb(253,141,60)"
           ],
           [
            0.625,
            "rgb(252,78,42)"
           ],
           [
            0.75,
            "rgb(227,26,28)"
           ],
           [
            0.875,
            "rgb(189,0,38)"
           ],
           [
            1,
            "rgb(128,0,38)"
           ]
          ],
          "size": 8
         },
         "mode": "markers",
         "type": "scatter",
         "x": [
          2.9023969173431396,
          2.4682509899139404,
          2.1742045879364014,
          1.9528405666351318,
          1.773871898651123,
          1.6201649904251099,
          1.500211238861084,
          1.389363408088684,
          1.2842262983322144,
          1.1866438388824463,
          1.088638186454773,
          0.9841257333755493,
          0.8703212738037109,
          0.7618350386619568,
          0.6413174867630005,
          0.5146656632423401,
          0.3927377760410309,
          0.26235896348953247,
          0.12798649072647095
         ],
         "y": [
          97.92506043513296,
          96.51490733279613,
          95.12489927477841,
          93.61402095084608,
          92.12328767123287,
          90.41095890410958,
          88.83964544721998,
          87.2280419016922,
          85.69701853344077,
          83.9443996776793,
          81.78887993553586,
          79.91539081385979,
          77.13537469782433,
          74.03303787268331,
          70.52780016116036,
          66.45850120870266,
          62.48992747784045,
          58.19903303787268,
          53.807413376309434
         ]
        }
       ],
       "layout": {
        "coloraxis": {
         "colorbar": {
          "title": {
           "side": "bottom",
           "text": "Average confidence level (%)"
          }
         }
        },
        "height": 600,
        "template": {
         "data": {
          "bar": [
           {
            "error_x": {
             "color": "#f2f5fa"
            },
            "error_y": {
             "color": "#f2f5fa"
            },
            "marker": {
             "line": {
              "color": "rgb(17,17,17)",
              "width": 0.5
             },
             "pattern": {
              "fillmode": "overlay",
              "size": 10,
              "solidity": 0.2
             }
            },
            "type": "bar"
           }
          ],
          "barpolar": [
           {
            "marker": {
             "line": {
              "color": "rgb(17,17,17)",
              "width": 0.5
             },
             "pattern": {
              "fillmode": "overlay",
              "size": 10,
              "solidity": 0.2
             }
            },
            "type": "barpolar"
           }
          ],
          "carpet": [
           {
            "aaxis": {
             "endlinecolor": "#A2B1C6",
             "gridcolor": "#506784",
             "linecolor": "#506784",
             "minorgridcolor": "#506784",
             "startlinecolor": "#A2B1C6"
            },
            "baxis": {
             "endlinecolor": "#A2B1C6",
             "gridcolor": "#506784",
             "linecolor": "#506784",
             "minorgridcolor": "#506784",
             "startlinecolor": "#A2B1C6"
            },
            "type": "carpet"
           }
          ],
          "choropleth": [
           {
            "colorbar": {
             "outlinewidth": 0,
             "ticks": ""
            },
            "type": "choropleth"
           }
          ],
          "contour": [
           {
            "colorbar": {
             "outlinewidth": 0,
             "ticks": ""
            },
            "colorscale": [
             [
              0,
              "#0d0887"
             ],
             [
              0.1111111111111111,
              "#46039f"
             ],
             [
              0.2222222222222222,
              "#7201a8"
             ],
             [
              0.3333333333333333,
              "#9c179e"
             ],
             [
              0.4444444444444444,
              "#bd3786"
             ],
             [
              0.5555555555555556,
              "#d8576b"
             ],
             [
              0.6666666666666666,
              "#ed7953"
             ],
             [
              0.7777777777777778,
              "#fb9f3a"
             ],
             [
              0.8888888888888888,
              "#fdca26"
             ],
             [
              1,
              "#f0f921"
             ]
            ],
            "type": "contour"
           }
          ],
          "contourcarpet": [
           {
            "colorbar": {
             "outlinewidth": 0,
             "ticks": ""
            },
            "type": "contourcarpet"
           }
          ],
          "heatmap": [
           {
            "colorbar": {
             "outlinewidth": 0,
             "ticks": ""
            },
            "colorscale": [
             [
              0,
              "#0d0887"
             ],
             [
              0.1111111111111111,
              "#46039f"
             ],
             [
              0.2222222222222222,
              "#7201a8"
             ],
             [
              0.3333333333333333,
              "#9c179e"
             ],
             [
              0.4444444444444444,
              "#bd3786"
             ],
             [
              0.5555555555555556,
              "#d8576b"
             ],
             [
              0.6666666666666666,
              "#ed7953"
             ],
             [
              0.7777777777777778,
              "#fb9f3a"
             ],
             [
              0.8888888888888888,
              "#fdca26"
             ],
             [
              1,
              "#f0f921"
             ]
            ],
            "type": "heatmap"
           }
          ],
          "histogram": [
           {
            "marker": {
             "pattern": {
              "fillmode": "overlay",
              "size": 10,
              "solidity": 0.2
             }
            },
            "type": "histogram"
           }
          ],
          "histogram2d": [
           {
            "colorbar": {
             "outlinewidth": 0,
             "ticks": ""
            },
            "colorscale": [
             [
              0,
              "#0d0887"
             ],
             [
              0.1111111111111111,
              "#46039f"
             ],
             [
              0.2222222222222222,
              "#7201a8"
             ],
             [
              0.3333333333333333,
              "#9c179e"
             ],
             [
              0.4444444444444444,
              "#bd3786"
             ],
             [
              0.5555555555555556,
              "#d8576b"
             ],
             [
              0.6666666666666666,
              "#ed7953"
             ],
             [
              0.7777777777777778,
              "#fb9f3a"
             ],
             [
              0.8888888888888888,
              "#fdca26"
             ],
             [
              1,
              "#f0f921"
             ]
            ],
            "type": "histogram2d"
           }
          ],
          "histogram2dcontour": [
           {
            "colorbar": {
             "outlinewidth": 0,
             "ticks": ""
            },
            "colorscale": [
             [
              0,
              "#0d0887"
             ],
             [
              0.1111111111111111,
              "#46039f"
             ],
             [
              0.2222222222222222,
              "#7201a8"
             ],
             [
              0.3333333333333333,
              "#9c179e"
             ],
             [
              0.4444444444444444,
              "#bd3786"
             ],
             [
              0.5555555555555556,
              "#d8576b"
             ],
             [
              0.6666666666666666,
              "#ed7953"
             ],
             [
              0.7777777777777778,
              "#fb9f3a"
             ],
             [
              0.8888888888888888,
              "#fdca26"
             ],
             [
              1,
              "#f0f921"
             ]
            ],
            "type": "histogram2dcontour"
           }
          ],
          "mesh3d": [
           {
            "colorbar": {
             "outlinewidth": 0,
             "ticks": ""
            },
            "type": "mesh3d"
           }
          ],
          "parcoords": [
           {
            "line": {
             "colorbar": {
              "outlinewidth": 0,
              "ticks": ""
             }
            },
            "type": "parcoords"
           }
          ],
          "pie": [
           {
            "automargin": true,
            "type": "pie"
           }
          ],
          "scatter": [
           {
            "marker": {
             "line": {
              "color": "#283442"
             }
            },
            "type": "scatter"
           }
          ],
          "scatter3d": [
           {
            "line": {
             "colorbar": {
              "outlinewidth": 0,
              "ticks": ""
             }
            },
            "marker": {
             "colorbar": {
              "outlinewidth": 0,
              "ticks": ""
             }
            },
            "type": "scatter3d"
           }
          ],
          "scattercarpet": [
           {
            "marker": {
             "colorbar": {
              "outlinewidth": 0,
              "ticks": ""
             }
            },
            "type": "scattercarpet"
           }
          ],
          "scattergeo": [
           {
            "marker": {
             "colorbar": {
              "outlinewidth": 0,
              "ticks": ""
             }
            },
            "type": "scattergeo"
           }
          ],
          "scattergl": [
           {
            "marker": {
             "line": {
              "color": "#283442"
             }
            },
            "type": "scattergl"
           }
          ],
          "scattermap": [
           {
            "marker": {
             "colorbar": {
              "outlinewidth": 0,
              "ticks": ""
             }
            },
            "type": "scattermap"
           }
          ],
          "scattermapbox": [
           {
            "marker": {
             "colorbar": {
              "outlinewidth": 0,
              "ticks": ""
             }
            },
            "type": "scattermapbox"
           }
          ],
          "scatterpolar": [
           {
            "marker": {
             "colorbar": {
              "outlinewidth": 0,
              "ticks": ""
             }
            },
            "type": "scatterpolar"
           }
          ],
          "scatterpolargl": [
           {
            "marker": {
             "colorbar": {
              "outlinewidth": 0,
              "ticks": ""
             }
            },
            "type": "scatterpolargl"
           }
          ],
          "scatterternary": [
           {
            "marker": {
             "colorbar": {
              "outlinewidth": 0,
              "ticks": ""
             }
            },
            "type": "scatterternary"
           }
          ],
          "surface": [
           {
            "colorbar": {
             "outlinewidth": 0,
             "ticks": ""
            },
            "colorscale": [
             [
              0,
              "#0d0887"
             ],
             [
              0.1111111111111111,
              "#46039f"
             ],
             [
              0.2222222222222222,
              "#7201a8"
             ],
             [
              0.3333333333333333,
              "#9c179e"
             ],
             [
              0.4444444444444444,
              "#bd3786"
             ],
             [
              0.5555555555555556,
              "#d8576b"
             ],
             [
              0.6666666666666666,
              "#ed7953"
             ],
             [
              0.7777777777777778,
              "#fb9f3a"
             ],
             [
              0.8888888888888888,
              "#fdca26"
             ],
             [
              1,
              "#f0f921"
             ]
            ],
            "type": "surface"
           }
          ],
          "table": [
           {
            "cells": {
             "fill": {
              "color": "#506784"
             },
             "line": {
              "color": "rgb(17,17,17)"
             }
            },
            "header": {
             "fill": {
              "color": "#2a3f5f"
             },
             "line": {
              "color": "rgb(17,17,17)"
             }
            },
            "type": "table"
           }
          ]
         },
         "layout": {
          "annotationdefaults": {
           "arrowcolor": "#f2f5fa",
           "arrowhead": 0,
           "arrowwidth": 1
          },
          "autotypenumbers": "strict",
          "coloraxis": {
           "colorbar": {
            "outlinewidth": 0,
            "ticks": ""
           }
          },
          "colorscale": {
           "diverging": [
            [
             0,
             "#8e0152"
            ],
            [
             0.1,
             "#c51b7d"
            ],
            [
             0.2,
             "#de77ae"
            ],
            [
             0.3,
             "#f1b6da"
            ],
            [
             0.4,
             "#fde0ef"
            ],
            [
             0.5,
             "#f7f7f7"
            ],
            [
             0.6,
             "#e6f5d0"
            ],
            [
             0.7,
             "#b8e186"
            ],
            [
             0.8,
             "#7fbc41"
            ],
            [
             0.9,
             "#4d9221"
            ],
            [
             1,
             "#276419"
            ]
           ],
           "sequential": [
            [
             0,
             "#0d0887"
            ],
            [
             0.1111111111111111,
             "#46039f"
            ],
            [
             0.2222222222222222,
             "#7201a8"
            ],
            [
             0.3333333333333333,
             "#9c179e"
            ],
            [
             0.4444444444444444,
             "#bd3786"
            ],
            [
             0.5555555555555556,
             "#d8576b"
            ],
            [
             0.6666666666666666,
             "#ed7953"
            ],
            [
             0.7777777777777778,
             "#fb9f3a"
            ],
            [
             0.8888888888888888,
             "#fdca26"
            ],
            [
             1,
             "#f0f921"
            ]
           ],
           "sequentialminus": [
            [
             0,
             "#0d0887"
            ],
            [
             0.1111111111111111,
             "#46039f"
            ],
            [
             0.2222222222222222,
             "#7201a8"
            ],
            [
             0.3333333333333333,
             "#9c179e"
            ],
            [
             0.4444444444444444,
             "#bd3786"
            ],
            [
             0.5555555555555556,
             "#d8576b"
            ],
            [
             0.6666666666666666,
             "#ed7953"
            ],
            [
             0.7777777777777778,
             "#fb9f3a"
            ],
            [
             0.8888888888888888,
             "#fdca26"
            ],
            [
             1,
             "#f0f921"
            ]
           ]
          },
          "colorway": [
           "#636efa",
           "#EF553B",
           "#00cc96",
           "#ab63fa",
           "#FFA15A",
           "#19d3f3",
           "#FF6692",
           "#B6E880",
           "#FF97FF",
           "#FECB52"
          ],
          "font": {
           "color": "#f2f5fa"
          },
          "geo": {
           "bgcolor": "rgb(17,17,17)",
           "lakecolor": "rgb(17,17,17)",
           "landcolor": "rgb(17,17,17)",
           "showlakes": true,
           "showland": true,
           "subunitcolor": "#506784"
          },
          "hoverlabel": {
           "align": "left"
          },
          "hovermode": "closest",
          "mapbox": {
           "style": "dark"
          },
          "paper_bgcolor": "rgb(17,17,17)",
          "plot_bgcolor": "rgb(17,17,17)",
          "polar": {
           "angularaxis": {
            "gridcolor": "#506784",
            "linecolor": "#506784",
            "ticks": ""
           },
           "bgcolor": "rgb(17,17,17)",
           "radialaxis": {
            "gridcolor": "#506784",
            "linecolor": "#506784",
            "ticks": ""
           }
          },
          "scene": {
           "xaxis": {
            "backgroundcolor": "rgb(17,17,17)",
            "gridcolor": "#506784",
            "gridwidth": 2,
            "linecolor": "#506784",
            "showbackground": true,
            "ticks": "",
            "zerolinecolor": "#C8D4E3"
           },
           "yaxis": {
            "backgroundcolor": "rgb(17,17,17)",
            "gridcolor": "#506784",
            "gridwidth": 2,
            "linecolor": "#506784",
            "showbackground": true,
            "ticks": "",
            "zerolinecolor": "#C8D4E3"
           },
           "zaxis": {
            "backgroundcolor": "rgb(17,17,17)",
            "gridcolor": "#506784",
            "gridwidth": 2,
            "linecolor": "#506784",
            "showbackground": true,
            "ticks": "",
            "zerolinecolor": "#C8D4E3"
           }
          },
          "shapedefaults": {
           "line": {
            "color": "#f2f5fa"
           }
          },
          "sliderdefaults": {
           "bgcolor": "#C8D4E3",
           "bordercolor": "rgb(17,17,17)",
           "borderwidth": 1,
           "tickwidth": 0
          },
          "ternary": {
           "aaxis": {
            "gridcolor": "#506784",
            "linecolor": "#506784",
            "ticks": ""
           },
           "baxis": {
            "gridcolor": "#506784",
            "linecolor": "#506784",
            "ticks": ""
           },
           "bgcolor": "rgb(17,17,17)",
           "caxis": {
            "gridcolor": "#506784",
            "linecolor": "#506784",
            "ticks": ""
           }
          },
          "title": {
           "x": 0.05
          },
          "updatemenudefaults": {
           "bgcolor": "#506784",
           "borderwidth": 0
          },
          "xaxis": {
           "automargin": true,
           "gridcolor": "#283442",
           "linecolor": "#506784",
           "ticks": "",
           "title": {
            "standoff": 15
           },
           "zerolinecolor": "#283442",
           "zerolinewidth": 2
          },
          "yaxis": {
           "automargin": true,
           "gridcolor": "#283442",
           "linecolor": "#506784",
           "ticks": "",
           "title": {
            "standoff": 15
           },
           "zerolinecolor": "#283442",
           "zerolinewidth": 2
          }
         }
        },
        "title": {
         "text": "Coverage of true burglaries given CI intervals"
        },
        "width": 800,
        "xaxis": {
         "title": {
          "text": "Average CI width"
         }
        },
        "yaxis": {
         "range": [
          0,
          100
         ],
         "title": {
          "text": "Coverage (%)"
         }
        }
       }
      }
     },
     "metadata": {},
     "output_type": "display_data"
    }
   ],
   "source": [
    "import plotly.graph_objects as go\n",
    "\n",
    "\n",
    "fig = go.Figure(\n",
    "    layout=dict(\n",
    "        template=\"plotly_dark\",              # built-in dark template :contentReference[oaicite:2]{index=2}\n",
    "        width=800,\n",
    "        height=600,\n",
    "    ),\n",
    "    data=go.Scatter(\n",
    "    x=confidence_intervals,\n",
    "    y=coverages,\n",
    "    mode=\"markers\",\n",
    "    marker=dict(\n",
    "        size=8,\n",
    "        color=confidence,\n",
    "        colorscale=\"ylorrd\",\n",
    "        colorbar=dict(title=\"Average confidence level (%)\")\n",
    "    )\n",
    "))\n",
    "\n",
    "fig.update_layout(\n",
    "    title=\"Coverage of true burglaries given CI intervals\",\n",
    "    xaxis=dict(title=\"Average CI width\"),\n",
    "    yaxis=dict(title=\"Coverage (%)\", range=[0, 100])\n",
    ")\n",
    "\n",
    "fig.update_coloraxes(\n",
    "    colorbar_title_side=\"bottom\",   # move the colorbar title to the right side :contentReference[oaicite:0]{index=0}\n",
    "    colorbar_title_text=\"Average confidence level (%)\",\n",
    ")\n",
    "\n",
    "fig.show()\n"
   ]
  },
  {
   "cell_type": "code",
   "execution_count": 24,
   "id": "f05784cb",
   "metadata": {},
   "outputs": [
    {
     "data": {
      "image/png": "[encoded data removed]",
      "text/plain": [
       "<Figure size 800x600 with 2 Axes>"
      ]
     },
     "metadata": {},
     "output_type": "display_data"
    }
   ],
   "source": [
    "import matplotlib.pyplot as plt\n",
    "\n",
    "# 1) Create figure and axes with light default style\n",
    "fig, ax = plt.subplots(figsize=(8, 6))  # 8x6 inches by default DPI :contentReference[oaicite:7]{index=7}\n",
    "\n",
    "# 2) Scatter plot using YlOrRd colormap and black edges\n",
    "sc = ax.scatter(\n",
    "    confidence_intervals,  # x-values\n",
    "    coverages,             # y-values\n",
    "    c=confidence,          # color encoding\n",
    "    edgecolors='k'         # black edge for contrast :contentReference[oaicite:9]{index=9}\n",
    ")\n",
    "\n",
    "# 3) Add horizontal colorbar below the plot\n",
    "cbar = plt.colorbar(\n",
    "    sc,\n",
    "    ax=ax,\n",
    "    orientation='horizontal',  # horizontal orientation :contentReference[oaicite:10]{index=10}\n",
    "    pad=0.2                    # 20% padding between plot and colorbar :contentReference[oaicite:11]{index=11}\n",
    ")\n",
    "cbar.set_label('Average confidence level (%)')  # label the colorbar :contentReference[oaicite:12]{index=12}\n",
    "\n",
    "# 4) Label axes and title\n",
    "ax.set_xlabel('Average CI width')              # x-axis label :contentReference[oaicite:13]{index=13}\n",
    "ax.set_ylabel('Coverage (%)')                  # y-axis label :contentReference[oaicite:14]{index=14}\n",
    "ax.set_title('Coverage of true burglaries given CI intervals')  # plot title :contentReference[oaicite:15]{index=15}\n",
    "\n",
    "# 5) Clamp y-axis to [0, 100]\n",
    "ax.set_ylim(0, 100)  # set y-axis limits :contentReference[oaicite:16]{index=16}\n",
    "\n",
    "plt.tight_layout()  # adjust layout to accommodate labels and colorbar\n",
    "plt.show()\n"
   ]
  },
  {
   "cell_type": "code",
   "execution_count": 25,
   "id": "64e33413",
   "metadata": {},
   "outputs": [
    {
     "data": {
      "application/vnd.plotly.v1+json": {
       "config": {
        "plotlyServerURL": "https://plot.ly"
       },
       "data": [
        {
         "hovertemplate": "Average CI width=%{x}<br>Coverage (%)=%{y}<br>Average confidence level (%)=%{marker.color}<extra></extra>",
         "legendgroup": "",
         "marker": {
          "color": {
           "bdata": "AAAAAADAV0AAAAAAAIBWQAAAAAAAQFVAAAAAAAAAVEAAAAAAAMBSQAAAAAAAgFFA//////8/UEAAAAAAAABOQAEAAAAAgEtAAAAAAAAASUD//////39GQP///////0NA/v////9/QUD+//////89QP3//////zhA////////M0D7//////8tQPj//////yNA+P//////E0A=",
           "dtype": "f8"
          },
          "coloraxis": "coloraxis",
          "colorbar": {
           "tickangle": -90,
           "title": {
            "side": "right"
           },
           "x": 1.02,
           "xpad": 5
          },
          "symbol": "circle"
         },
         "mode": "markers",
         "name": "",
         "orientation": "v",
         "showlegend": false,
         "type": "scatter",
         "x": {
          "bdata": "38A5QNP3HUArJgtArvb5PzwO4z+RYc8/7AbAP6nWsT+HYaQ/8uOXP39Yiz+q73s/YM1eP58HQz9iLSQ/IcEDP+0UyT7qU4Y+5A4DPg==",
          "dtype": "f4"
         },
         "xaxis": "x",
         "y": {
          "bdata": "Du6uMDR7WEAeteI99CBYQOodh1n+x1dAVryHHkxnV0B+/Pjx4wdXQKRJkyZNmlZA4wJCwLw1VkCueA89mM5VQGB1n/ObbFVAE39YC3H8VEA35kQCfXJUQIslWsOV+lNAIfei+qlIU0ASreFKHYJSQHfAU3rHoVFAeyN0FVidUEBGXo/xtT5PQEw+Iup5GU1ADc1OUlnnSkA=",
          "dtype": "f8"
         },
         "yaxis": "y"
        }
       ],
       "layout": {
        "coloraxis": {
         "colorbar": {
          "title": {
           "text": "Average confidence level (%)"
          }
         },
         "colorscale": [
          [
           0,
           "#000004"
          ],
          [
           0.1111111111111111,
           "#1b0c41"
          ],
          [
           0.2222222222222222,
           "#4a0c6b"
          ],
          [
           0.3333333333333333,
           "#781c6d"
          ],
          [
           0.4444444444444444,
           "#a52c60"
          ],
          [
           0.5555555555555556,
           "#cf4446"
          ],
          [
           0.6666666666666666,
           "#ed6925"
          ],
          [
           0.7777777777777778,
           "#fb9b06"
          ],
          [
           0.8888888888888888,
           "#f7d13d"
          ],
          [
           1,
           "#fcffa4"
          ]
         ]
        },
        "legend": {
         "tracegroupgap": 0
        },
        "template": {
         "data": {
          "bar": [
           {
            "error_x": {
             "color": "#f2f5fa"
            },
            "error_y": {
             "color": "#f2f5fa"
            },
            "marker": {
             "line": {
              "color": "rgb(17,17,17)",
              "width": 0.5
             },
             "pattern": {
              "fillmode": "overlay",
              "size": 10,
              "solidity": 0.2
             }
            },
            "type": "bar"
           }
          ],
          "barpolar": [
           {
            "marker": {
             "line": {
              "color": "rgb(17,17,17)",
              "width": 0.5
             },
             "pattern": {
              "fillmode": "overlay",
              "size": 10,
              "solidity": 0.2
             }
            },
            "type": "barpolar"
           }
          ],
          "carpet": [
           {
            "aaxis": {
             "endlinecolor": "#A2B1C6",
             "gridcolor": "#506784",
             "linecolor": "#506784",
             "minorgridcolor": "#506784",
             "startlinecolor": "#A2B1C6"
            },
            "baxis": {
             "endlinecolor": "#A2B1C6",
             "gridcolor": "#506784",
             "linecolor": "#506784",
             "minorgridcolor": "#506784",
             "startlinecolor": "#A2B1C6"
            },
            "type": "carpet"
           }
          ],
          "choropleth": [
           {
            "colorbar": {
             "outlinewidth": 0,
             "ticks": ""
            },
            "type": "choropleth"
           }
          ],
          "contour": [
           {
            "colorbar": {
             "outlinewidth": 0,
             "ticks": ""
            },
            "colorscale": [
             [
              0,
              "#0d0887"
             ],
             [
              0.1111111111111111,
              "#46039f"
             ],
             [
              0.2222222222222222,
              "#7201a8"
             ],
             [
              0.3333333333333333,
              "#9c179e"
             ],
             [
              0.4444444444444444,
              "#bd3786"
             ],
             [
              0.5555555555555556,
              "#d8576b"
             ],
             [
              0.6666666666666666,
              "#ed7953"
             ],
             [
              0.7777777777777778,
              "#fb9f3a"
             ],
             [
              0.8888888888888888,
              "#fdca26"
             ],
             [
              1,
              "#f0f921"
             ]
            ],
            "type": "contour"
           }
          ],
          "contourcarpet": [
           {
            "colorbar": {
             "outlinewidth": 0,
             "ticks": ""
            },
            "type": "contourcarpet"
           }
          ],
          "heatmap": [
           {
            "colorbar": {
             "outlinewidth": 0,
             "ticks": ""
            },
            "colorscale": [
             [
              0,
              "#0d0887"
             ],
             [
              0.1111111111111111,
              "#46039f"
             ],
             [
              0.2222222222222222,
              "#7201a8"
             ],
             [
              0.3333333333333333,
              "#9c179e"
             ],
             [
              0.4444444444444444,
              "#bd3786"
             ],
             [
              0.5555555555555556,
              "#d8576b"
             ],
             [
              0.6666666666666666,
              "#ed7953"
             ],
             [
              0.7777777777777778,
              "#fb9f3a"
             ],
             [
              0.8888888888888888,
              "#fdca26"
             ],
             [
              1,
              "#f0f921"
             ]
            ],
            "type": "heatmap"
           }
          ],
          "histogram": [
           {
            "marker": {
             "pattern": {
              "fillmode": "overlay",
              "size": 10,
              "solidity": 0.2
             }
            },
            "type": "histogram"
           }
          ],
          "histogram2d": [
           {
            "colorbar": {
             "outlinewidth": 0,
             "ticks": ""
            },
            "colorscale": [
             [
              0,
              "#0d0887"
             ],
             [
              0.1111111111111111,
              "#46039f"
             ],
             [
              0.2222222222222222,
              "#7201a8"
             ],
             [
              0.3333333333333333,
              "#9c179e"
             ],
             [
              0.4444444444444444,
              "#bd3786"
             ],
             [
              0.5555555555555556,
              "#d8576b"
             ],
             [
              0.6666666666666666,
              "#ed7953"
             ],
             [
              0.7777777777777778,
              "#fb9f3a"
             ],
             [
              0.8888888888888888,
              "#fdca26"
             ],
             [
              1,
              "#f0f921"
             ]
            ],
            "type": "histogram2d"
           }
          ],
          "histogram2dcontour": [
           {
            "colorbar": {
             "outlinewidth": 0,
             "ticks": ""
            },
            "colorscale": [
             [
              0,
              "#0d0887"
             ],
             [
              0.1111111111111111,
              "#46039f"
             ],
             [
              0.2222222222222222,
              "#7201a8"
             ],
             [
              0.3333333333333333,
              "#9c179e"
             ],
             [
              0.4444444444444444,
              "#bd3786"
             ],
             [
              0.5555555555555556,
              "#d8576b"
             ],
             [
              0.6666666666666666,
              "#ed7953"
             ],
             [
              0.7777777777777778,
              "#fb9f3a"
             ],
             [
              0.8888888888888888,
              "#fdca26"
             ],
             [
              1,
              "#f0f921"
             ]
            ],
            "type": "histogram2dcontour"
           }
          ],
          "mesh3d": [
           {
            "colorbar": {
             "outlinewidth": 0,
             "ticks": ""
            },
            "type": "mesh3d"
           }
          ],
          "parcoords": [
           {
            "line": {
             "colorbar": {
              "outlinewidth": 0,
              "ticks": ""
             }
            },
            "type": "parcoords"
           }
          ],
          "pie": [
           {
            "automargin": true,
            "type": "pie"
           }
          ],
          "scatter": [
           {
            "marker": {
             "line": {
              "color": "#283442"
             }
            },
            "type": "scatter"
           }
          ],
          "scatter3d": [
           {
            "line": {
             "colorbar": {
              "outlinewidth": 0,
              "ticks": ""
             }
            },
            "marker": {
             "colorbar": {
              "outlinewidth": 0,
              "ticks": ""
             }
            },
            "type": "scatter3d"
           }
          ],
          "scattercarpet": [
           {
            "marker": {
             "colorbar": {
              "outlinewidth": 0,
              "ticks": ""
             }
            },
            "type": "scattercarpet"
           }
          ],
          "scattergeo": [
           {
            "marker": {
             "colorbar": {
              "outlinewidth": 0,
              "ticks": ""
             }
            },
            "type": "scattergeo"
           }
          ],
          "scattergl": [
           {
            "marker": {
             "line": {
              "color": "#283442"
             }
            },
            "type": "scattergl"
           }
          ],
          "scattermap": [
           {
            "marker": {
             "colorbar": {
              "outlinewidth": 0,
              "ticks": ""
             }
            },
            "type": "scattermap"
           }
          ],
          "scattermapbox": [
           {
            "marker": {
             "colorbar": {
              "outlinewidth": 0,
              "ticks": ""
             }
            },
            "type": "scattermapbox"
           }
          ],
          "scatterpolar": [
           {
            "marker": {
             "colorbar": {
              "outlinewidth": 0,
              "ticks": ""
             }
            },
            "type": "scatterpolar"
           }
          ],
          "scatterpolargl": [
           {
            "marker": {
             "colorbar": {
              "outlinewidth": 0,
              "ticks": ""
             }
            },
            "type": "scatterpolargl"
           }
          ],
          "scatterternary": [
           {
            "marker": {
             "colorbar": {
              "outlinewidth": 0,
              "ticks": ""
             }
            },
            "type": "scatterternary"
           }
          ],
          "surface": [
           {
            "colorbar": {
             "outlinewidth": 0,
             "ticks": ""
            },
            "colorscale": [
             [
              0,
              "#0d0887"
             ],
             [
              0.1111111111111111,
              "#46039f"
             ],
             [
              0.2222222222222222,
              "#7201a8"
             ],
             [
              0.3333333333333333,
              "#9c179e"
             ],
             [
              0.4444444444444444,
              "#bd3786"
             ],
             [
              0.5555555555555556,
              "#d8576b"
             ],
             [
              0.6666666666666666,
              "#ed7953"
             ],
             [
              0.7777777777777778,
              "#fb9f3a"
             ],
             [
              0.8888888888888888,
              "#fdca26"
             ],
             [
              1,
              "#f0f921"
             ]
            ],
            "type": "surface"
           }
          ],
          "table": [
           {
            "cells": {
             "fill": {
              "color": "#506784"
             },
             "line": {
              "color": "rgb(17,17,17)"
             }
            },
            "header": {
             "fill": {
              "color": "#2a3f5f"
             },
             "line": {
              "color": "rgb(17,17,17)"
             }
            },
            "type": "table"
           }
          ]
         },
         "layout": {
          "annotationdefaults": {
           "arrowcolor": "#f2f5fa",
           "arrowhead": 0,
           "arrowwidth": 1
          },
          "autotypenumbers": "strict",
          "coloraxis": {
           "colorbar": {
            "outlinewidth": 0,
            "ticks": ""
           }
          },
          "colorscale": {
           "diverging": [
            [
             0,
             "#8e0152"
            ],
            [
             0.1,
             "#c51b7d"
            ],
            [
             0.2,
             "#de77ae"
            ],
            [
             0.3,
             "#f1b6da"
            ],
            [
             0.4,
             "#fde0ef"
            ],
            [
             0.5,
             "#f7f7f7"
            ],
            [
             0.6,
             "#e6f5d0"
            ],
            [
             0.7,
             "#b8e186"
            ],
            [
             0.8,
             "#7fbc41"
            ],
            [
             0.9,
             "#4d9221"
            ],
            [
             1,
             "#276419"
            ]
           ],
           "sequential": [
            [
             0,
             "#0d0887"
            ],
            [
             0.1111111111111111,
             "#46039f"
            ],
            [
             0.2222222222222222,
             "#7201a8"
            ],
            [
             0.3333333333333333,
             "#9c179e"
            ],
            [
             0.4444444444444444,
             "#bd3786"
            ],
            [
             0.5555555555555556,
             "#d8576b"
            ],
            [
             0.6666666666666666,
             "#ed7953"
            ],
            [
             0.7777777777777778,
             "#fb9f3a"
            ],
            [
             0.8888888888888888,
             "#fdca26"
            ],
            [
             1,
             "#f0f921"
            ]
           ],
           "sequentialminus": [
            [
             0,
             "#0d0887"
            ],
            [
             0.1111111111111111,
             "#46039f"
            ],
            [
             0.2222222222222222,
             "#7201a8"
            ],
            [
             0.3333333333333333,
             "#9c179e"
            ],
            [
             0.4444444444444444,
             "#bd3786"
            ],
            [
             0.5555555555555556,
             "#d8576b"
            ],
            [
             0.6666666666666666,
             "#ed7953"
            ],
            [
             0.7777777777777778,
             "#fb9f3a"
            ],
            [
             0.8888888888888888,
             "#fdca26"
            ],
            [
             1,
             "#f0f921"
            ]
           ]
          },
          "colorway": [
           "#636efa",
           "#EF553B",
           "#00cc96",
           "#ab63fa",
           "#FFA15A",
           "#19d3f3",
           "#FF6692",
           "#B6E880",
           "#FF97FF",
           "#FECB52"
          ],
          "font": {
           "color": "#f2f5fa"
          },
          "geo": {
           "bgcolor": "rgb(17,17,17)",
           "lakecolor": "rgb(17,17,17)",
           "landcolor": "rgb(17,17,17)",
           "showlakes": true,
           "showland": true,
           "subunitcolor": "#506784"
          },
          "hoverlabel": {
           "align": "left"
          },
          "hovermode": "closest",
          "mapbox": {
           "style": "dark"
          },
          "paper_bgcolor": "rgb(17,17,17)",
          "plot_bgcolor": "rgb(17,17,17)",
          "polar": {
           "angularaxis": {
            "gridcolor": "#506784",
            "linecolor": "#506784",
            "ticks": ""
           },
           "bgcolor": "rgb(17,17,17)",
           "radialaxis": {
            "gridcolor": "#506784",
            "linecolor": "#506784",
            "ticks": ""
           }
          },
          "scene": {
           "xaxis": {
            "backgroundcolor": "rgb(17,17,17)",
            "gridcolor": "#506784",
            "gridwidth": 2,
            "linecolor": "#506784",
            "showbackground": true,
            "ticks": "",
            "zerolinecolor": "#C8D4E3"
           },
           "yaxis": {
            "backgroundcolor": "rgb(17,17,17)",
            "gridcolor": "#506784",
            "gridwidth": 2,
            "linecolor": "#506784",
            "showbackground": true,
            "ticks": "",
            "zerolinecolor": "#C8D4E3"
           },
           "zaxis": {
            "backgroundcolor": "rgb(17,17,17)",
            "gridcolor": "#506784",
            "gridwidth": 2,
            "linecolor": "#506784",
            "showbackground": true,
            "ticks": "",
            "zerolinecolor": "#C8D4E3"
           }
          },
          "shapedefaults": {
           "line": {
            "color": "#f2f5fa"
           }
          },
          "sliderdefaults": {
           "bgcolor": "#C8D4E3",
           "bordercolor": "rgb(17,17,17)",
           "borderwidth": 1,
           "tickwidth": 0
          },
          "ternary": {
           "aaxis": {
            "gridcolor": "#506784",
            "linecolor": "#506784",
            "ticks": ""
           },
           "baxis": {
            "gridcolor": "#506784",
            "linecolor": "#506784",
            "ticks": ""
           },
           "bgcolor": "rgb(17,17,17)",
           "caxis": {
            "gridcolor": "#506784",
            "linecolor": "#506784",
            "ticks": ""
           }
          },
          "title": {
           "x": 0.05
          },
          "updatemenudefaults": {
           "bgcolor": "#506784",
           "borderwidth": 0
          },
          "xaxis": {
           "automargin": true,
           "gridcolor": "#283442",
           "linecolor": "#506784",
           "ticks": "",
           "title": {
            "standoff": 15
           },
           "zerolinecolor": "#283442",
           "zerolinewidth": 2
          },
          "yaxis": {
           "automargin": true,
           "gridcolor": "#283442",
           "linecolor": "#506784",
           "ticks": "",
           "title": {
            "standoff": 15
           },
           "zerolinecolor": "#283442",
           "zerolinewidth": 2
          }
         }
        },
        "title": {
         "text": "Coverage of true burglaries given CI intervals"
        },
        "xaxis": {
         "anchor": "y",
         "domain": [
          0,
          1
         ],
         "title": {
          "text": "Average CI width"
         }
        },
        "yaxis": {
         "anchor": "x",
         "domain": [
          0,
          1
         ],
         "range": [
          0,
          100
         ],
         "title": {
          "text": "Coverage (%)"
         }
        }
       }
      }
     },
     "metadata": {},
     "output_type": "display_data"
    }
   ],
   "source": [
    "import plotly.express as px\n",
    "import pandas as pd\n",
    "\n",
    "# Build example DataFrame\n",
    "df = pd.DataFrame({\n",
    "    \"ci_width\": confidence_intervals,\n",
    "    \"coverage\": coverages,\n",
    "    \"confidence\": confidence\n",
    "})\n",
    "\n",
    "# Create scatter with dark theme\n",
    "fig = px.scatter(\n",
    "    df,\n",
    "    x=\"ci_width\",\n",
    "    y=\"coverage\",\n",
    "    color=\"confidence\",\n",
    "    color_continuous_scale=\"Inferno\",\n",
    "    template=\"plotly_dark\",\n",
    "    labels={\n",
    "        \"ci_width\": \"Average CI width\",\n",
    "        \"coverage\": \"Coverage (%)\",\n",
    "        \"confidence\": \"Average confidence level (%)\"\n",
    "    },\n",
    "    title=\"Coverage of true burglaries given CI intervals\"\n",
    ")\n",
    "\n",
    "# Move title to right, rotate ticks, and offset bar\n",
    "fig.update_traces(\n",
    "    marker_colorbar_title_side=\"right\",   # side of title :contentReference[oaicite:7]{index=7}\n",
    "    marker_colorbar_tickangle=-90,         # rotate labels :contentReference[oaicite:8]{index=8}\n",
    "    marker_colorbar_x=1.02,                # shift bar right :contentReference[oaicite:9]{index=9}\n",
    "    marker_colorbar_xpad=5,                # add padding :contentReference[oaicite:10]{index=10}\n",
    "    selector=dict(type=\"scatter\")          # apply only to scatter traces :contentReference[oaicite:11]{index=11}\n",
    ")\n",
    "\n",
    "fig.update_yaxes(range=[0, 100])\n",
    "fig.show()\n"
   ]
  },
  {
   "cell_type": "code",
   "execution_count": 26,
   "id": "82c85c6a",
   "metadata": {},
   "outputs": [],
   "source": [
    "from testing.testing import StatisticalTester\n",
    "factors_map ={\n",
    "    \"b_static\": model_tuple[1],\n",
    "    \"b_dynamic\": model_tuple[2],\n",
    "    \"b_seasonal\": model_tuple[3],\n",
    "    \"b_time_tr\": model_tuple[4],\n",
    "    \"b_temporal\": model_tuple[5],\n",
    "    \"b_spatial\": model_tuple[6],\n",
    "}\n",
    "statistical_tester = StatisticalTester(test_data, burglary_model, svi.guide, factors_map)"
   ]
  },
  {
   "cell_type": "code",
   "execution_count": 27,
   "id": "750200a5",
   "metadata": {},
   "outputs": [],
   "source": [
    "statistical_tester.predict(5000)"
   ]
  },
  {
   "cell_type": "code",
   "execution_count": 28,
   "id": "f99bddda",
   "metadata": {},
   "outputs": [],
   "source": [
    "alpha_1 = 0.05\n",
    "frames = statistical_tester.evaluate_all(alpha=alpha_1)"
   ]
  },
  {
   "cell_type": "code",
   "execution_count": 29,
   "id": "b54f2ffb",
   "metadata": {},
   "outputs": [
    {
     "data": {
      "text/html": [
       "<div>\n",
       "<style scoped>\n",
       "    .dataframe tbody tr th:only-of-type {\n",
       "        vertical-align: middle;\n",
       "    }\n",
       "\n",
       "    .dataframe tbody tr th {\n",
       "        vertical-align: top;\n",
       "    }\n",
       "\n",
       "    .dataframe thead th {\n",
       "        text-align: right;\n",
       "    }\n",
       "</style>\n",
       "<table border=\"1\" class=\"dataframe\">\n",
       "  <thead>\n",
       "    <tr style=\"text-align: right;\">\n",
       "      <th></th>\n",
       "      <th>col</th>\n",
       "      <th>mean</th>\n",
       "      <th>ci_lower</th>\n",
       "      <th>ci_upper</th>\n",
       "      <th>p_val</th>\n",
       "      <th>significant_CI</th>\n",
       "    </tr>\n",
       "  </thead>\n",
       "  <tbody>\n",
       "    <tr>\n",
       "      <th>0</th>\n",
       "      <td>Tenure|Social rented (%)</td>\n",
       "      <td>-0.192379</td>\n",
       "      <td>-0.357185</td>\n",
       "      <td>-0.031602</td>\n",
       "      <td>0.0212</td>\n",
       "      <td>Yes</td>\n",
       "    </tr>\n",
       "    <tr>\n",
       "      <th>1</th>\n",
       "      <td>n_neighbors</td>\n",
       "      <td>0.113854</td>\n",
       "      <td>-0.064786</td>\n",
       "      <td>0.291694</td>\n",
       "      <td>0.2144</td>\n",
       "      <td>No</td>\n",
       "    </tr>\n",
       "    <tr>\n",
       "      <th>2</th>\n",
       "      <td>Household Composition|% Couple household with ...</td>\n",
       "      <td>-0.118753</td>\n",
       "      <td>-0.314511</td>\n",
       "      <td>0.078727</td>\n",
       "      <td>0.2516</td>\n",
       "      <td>No</td>\n",
       "    </tr>\n",
       "    <tr>\n",
       "      <th>3</th>\n",
       "      <td>Public Transport Accessibility Levels|Average ...</td>\n",
       "      <td>0.054944</td>\n",
       "      <td>-0.121950</td>\n",
       "      <td>0.224805</td>\n",
       "      <td>0.5256</td>\n",
       "      <td>No</td>\n",
       "    </tr>\n",
       "    <tr>\n",
       "      <th>4</th>\n",
       "      <td>Public Transport Accessibility Levels|Number o...</td>\n",
       "      <td>0.048191</td>\n",
       "      <td>-0.115144</td>\n",
       "      <td>0.220167</td>\n",
       "      <td>0.5648</td>\n",
       "      <td>No</td>\n",
       "    </tr>\n",
       "    <tr>\n",
       "      <th>5</th>\n",
       "      <td>Household Composition|% One person household</td>\n",
       "      <td>0.037904</td>\n",
       "      <td>-0.125015</td>\n",
       "      <td>0.200837</td>\n",
       "      <td>0.6504</td>\n",
       "      <td>No</td>\n",
       "    </tr>\n",
       "    <tr>\n",
       "      <th>6</th>\n",
       "      <td>Ethnic Group|White (%)</td>\n",
       "      <td>-0.040089</td>\n",
       "      <td>-0.214272</td>\n",
       "      <td>0.132170</td>\n",
       "      <td>0.6512</td>\n",
       "      <td>No</td>\n",
       "    </tr>\n",
       "    <tr>\n",
       "      <th>7</th>\n",
       "      <td>Ethnic Group|Black/African/Caribbean/Black Bri...</td>\n",
       "      <td>0.032338</td>\n",
       "      <td>-0.153164</td>\n",
       "      <td>0.216208</td>\n",
       "      <td>0.7184</td>\n",
       "      <td>No</td>\n",
       "    </tr>\n",
       "    <tr>\n",
       "      <th>8</th>\n",
       "      <td>area</td>\n",
       "      <td>-0.007875</td>\n",
       "      <td>-0.165695</td>\n",
       "      <td>0.147223</td>\n",
       "      <td>0.9284</td>\n",
       "      <td>No</td>\n",
       "    </tr>\n",
       "  </tbody>\n",
       "</table>\n",
       "</div>"
      ],
      "text/plain": [
       "                                                 col      mean  ci_lower  \\\n",
       "0                           Tenure|Social rented (%) -0.192379 -0.357185   \n",
       "1                                        n_neighbors  0.113854 -0.064786   \n",
       "2  Household Composition|% Couple household with ... -0.118753 -0.314511   \n",
       "3  Public Transport Accessibility Levels|Average ...  0.054944 -0.121950   \n",
       "4  Public Transport Accessibility Levels|Number o...  0.048191 -0.115144   \n",
       "5       Household Composition|% One person household  0.037904 -0.125015   \n",
       "6                             Ethnic Group|White (%) -0.040089 -0.214272   \n",
       "7  Ethnic Group|Black/African/Caribbean/Black Bri...  0.032338 -0.153164   \n",
       "8                                               area -0.007875 -0.165695   \n",
       "\n",
       "   ci_upper   p_val significant_CI  \n",
       "0 -0.031602  0.0212            Yes  \n",
       "1  0.291694  0.2144             No  \n",
       "2  0.078727  0.2516             No  \n",
       "3  0.224805  0.5256             No  \n",
       "4  0.220167  0.5648             No  \n",
       "5  0.200837  0.6504             No  \n",
       "6  0.132170  0.6512             No  \n",
       "7  0.216208  0.7184             No  \n",
       "8  0.147223  0.9284             No  "
      ]
     },
     "execution_count": 29,
     "metadata": {},
     "output_type": "execute_result"
    }
   ],
   "source": [
    "frames['b_static']"
   ]
  },
  {
   "cell_type": "code",
   "execution_count": 30,
   "id": "11b502cd",
   "metadata": {},
   "outputs": [
    {
     "name": "stdout",
     "output_type": "stream",
     "text": [
      "                                                 col      mean  ci_lower  \\\n",
      "0                           Tenure|Social rented (%) -0.192379 -0.357185   \n",
      "1                                        n_neighbors  0.113854 -0.064786   \n",
      "2  Household Composition|% Couple household with ... -0.118753 -0.314511   \n",
      "3  Public Transport Accessibility Levels|Average ...  0.054944 -0.121950   \n",
      "4  Public Transport Accessibility Levels|Number o...  0.048191 -0.115144   \n",
      "5       Household Composition|% One person household  0.037904 -0.125015   \n",
      "6                             Ethnic Group|White (%) -0.040089 -0.214272   \n",
      "7  Ethnic Group|Black/African/Caribbean/Black Bri...  0.032338 -0.153164   \n",
      "8                                               area -0.007875 -0.165695   \n",
      "\n",
      "   ci_upper   p_val significant_CI  \n",
      "0 -0.031602  0.0212            Yes  \n",
      "1  0.291694  0.2144             No  \n",
      "2  0.078727  0.2516             No  \n",
      "3  0.224805  0.5256             No  \n",
      "4  0.220167  0.5648             No  \n",
      "5  0.200837  0.6504             No  \n",
      "6  0.132170  0.6512             No  \n",
      "7  0.216208  0.7184             No  \n",
      "8  0.147223  0.9284             No  \n",
      "                                                  col      mean  ci_lower  \\\n",
      "0              Mid-year Population Estimates|All Ages  0.186095  0.026035   \n",
      "1   Household Composition|% One person household_x...  0.139484 -0.055992   \n",
      "2   Public Transport Accessibility Levels|Average ...  0.104335 -0.067165   \n",
      "3            Mid-year Population Estimates|Aged 16-29 -0.077939 -0.233994   \n",
      "4   Mid-year Population Estimates|All Ages_x_post_...  0.111134 -0.120737   \n",
      "5   Household Composition|% Couple household with ...  0.069644 -0.139871   \n",
      "6              Tenure|Social rented (%)_x_post_corona  0.035040 -0.127648   \n",
      "7                Ethnic Group|White (%)_x_post_corona -0.034453 -0.199727   \n",
      "8   Mid-year Population Estimates|Aged 0-15_x_post... -0.031030 -0.209840   \n",
      "9                           n_neighbors_x_post_corona  0.029839 -0.147363   \n",
      "10            Mid-year Population Estimates|Aged 0-15 -0.011168 -0.172725   \n",
      "11  Mid-year Population Estimates|Aged 16-29_x_pos...  0.014920 -0.186033   \n",
      "12  Public Transport Accessibility Levels|Number o... -0.005925 -0.155623   \n",
      "13                lag1_median_neighbors_x_post_corona  0.004500 -0.136358   \n",
      "14  Barriers to Housing and Services Rank (where 1... -0.004279 -0.158015   \n",
      "15  Ethnic Group|Black/African/Caribbean/Black Bri...  0.001109 -0.156065   \n",
      "16                                 area_x_post_corona  0.000745 -0.149342   \n",
      "17  Barriers to Housing and Services Rank (where 1...  0.000976 -0.153533   \n",
      "\n",
      "    ci_upper   p_val significant_CI  \n",
      "0   0.344597  0.0228            Yes  \n",
      "1   0.340656  0.1672             No  \n",
      "2   0.279367  0.2380             No  \n",
      "3   0.078717  0.3476             No  \n",
      "4   0.348067  0.3504             No  \n",
      "5   0.280389  0.5236             No  \n",
      "6   0.200532  0.6792             No  \n",
      "7   0.130041  0.6956             No  \n",
      "8   0.150429  0.7404             No  \n",
      "9   0.208449  0.7432             No  \n",
      "10  0.152067  0.8788             No  \n",
      "11  0.208766  0.8840             No  \n",
      "12  0.144508  0.9448             No  \n",
      "13  0.142704  0.9604             No  \n",
      "14  0.153018  0.9636             No  \n",
      "15  0.161092  0.9800             No  \n",
      "16  0.149208  0.9920             No  \n",
      "17  0.158626  0.9952             No  \n",
      "             col      mean  ci_lower  ci_upper   p_val significant_CI\n",
      "0    post_corona -0.526744 -0.702981 -0.346879  0.0000            Yes\n",
      "1  during_corona -0.056474 -0.192538  0.085112  0.4412             No\n",
      "2      month_sin -0.004005 -0.149976  0.144152  0.9668             No\n",
      "        col      mean  ci_lower  ci_upper   p_val significant_CI\n",
      "0  time_log -0.079949 -0.223689  0.063911  0.2692             No\n",
      "     col      mean  ci_lower  ci_upper   p_val significant_CI\n",
      "0  lag_1  0.145182 -0.010952  0.302901  0.0676             No\n",
      "                     col      mean  ci_lower  ci_upper  p_val significant_CI\n",
      "0  lag1_median_neighbors  0.008551 -0.142629  0.161401  0.888             No\n"
     ]
    }
   ],
   "source": [
    "for frame in frames.values():\n",
    "    print(frame)"
   ]
  },
  {
   "cell_type": "code",
   "execution_count": 31,
   "id": "a3b49d4a",
   "metadata": {},
   "outputs": [
    {
     "data": {
      "text/plain": [
       "['Mid-year Population Estimates|All Ages']"
      ]
     },
     "execution_count": 31,
     "metadata": {},
     "output_type": "execute_result"
    }
   ],
   "source": [
    "# for key, frame in frames.items():\n",
    "#     print(frame.query(\"significant_CI == 'Yes'\")[\"col\"])\n",
    "#     print()\n",
    "\n",
    "frames[\"b_dynamic\"].query(\"significant_CI == 'Yes'\")[\"col\"].to_list()\n",
    "# frames[\"b_dynamic\"].query(\"significant_CI == 'Yes'\")[\"col\"]\n",
    "# frames[\"b_seasonal\"].query(\"significant_CI == 'Yes'\")[\"col\"]\n",
    "# frames[\"b_time_tr\"].query(\"significant_CI == 'Yes'\")[\"col\"]\n",
    "# frames[\"b_temporal\"].query(\"significant_CI == 'Yes'\")[\"col\"]\n",
    "# frames[\"b_spatial\"].query(\"significant_CI == 'Yes'\")[\"col\"]\n"
   ]
  },
  {
   "cell_type": "code",
   "execution_count": 32,
   "id": "8bb7e710",
   "metadata": {},
   "outputs": [
    {
     "data": {
      "application/vnd.plotly.v1+json": {
       "config": {
        "plotlyServerURL": "https://plot.ly"
       },
       "data": [
        {
         "error_x": {
          "array": {
           "bdata": "AAAAGFiUxD8=",
           "dtype": "f8"
          },
          "arrayminus": {
           "bdata": "AAAAIFoYxT8=",
           "dtype": "f8"
          },
          "symmetric": false,
          "thickness": 2,
          "type": "data",
          "width": 5
         },
         "marker": {
          "color": "cyan",
          "size": 8
         },
         "mode": "markers",
         "name": "CI excludes 0",
         "type": "scatter",
         "x": {
          "bdata": "AAAA4N+fyL8=",
          "dtype": "f8"
         },
         "y": [
          "Tenure|Social rented (%)"
         ]
        },
        {
         "error_x": {
          "array": {
           "bdata": "AAAAgHDDxj8AAAAwCEfJPwAAALADvsU/AAAAEE0Dxj8AAAAY+NrEPwAAAJiaDMY/AAAAkAuJxz8AAADmQtrDPw==",
           "dtype": "f8"
          },
          "arrayminus": {
           "bdata": "AAAAwK7dxj8AAADAmg7JPwAAAAB0pMY/AAAAUC3oxD8AAADojNrEPwAAAEiaS8Y/AAAA0Iu+xz8AAAC6czPEPw==",
           "dtype": "f8"
          },
          "symmetric": false,
          "thickness": 2,
          "type": "data",
          "width": 5
         },
         "marker": {
          "color": "orange",
          "size": 8
         },
         "mode": "markers",
         "name": "CI includes 0",
         "type": "scatter",
         "x": {
          "bdata": "AAAAAI0lvT8AAACAl2a+vwAAAMChIaw/AAAAwIesqD8AAACgM2ijPwAAAGCchqS/AAAAwKuOoD8AAABgrCCAvw==",
          "dtype": "f8"
         },
         "y": [
          "n_neighbors",
          "Household Composition|% Couple household with dependent children",
          "Public Transport Accessibility Levels|Average Score|Level3_64",
          "Public Transport Accessibility Levels|Number of people in each PTAL level:|6b",
          "Household Composition|% One person household",
          "Ethnic Group|White (%)",
          "Ethnic Group|Black/African/Caribbean/Black British (%)",
          "area"
         ]
        }
       ],
       "layout": {
        "height": 525,
        "legend": {
         "bgcolor": "rgba(0,0,0,0)"
        },
        "margin": {
         "b": 50,
         "l": 150,
         "r": 50,
         "t": 100
        },
        "paper_bgcolor": "black",
        "plot_bgcolor": "black",
        "shapes": [
         {
          "line": {
           "color": "white",
           "dash": "dash",
           "width": 2
          },
          "type": "line",
          "x0": 0,
          "x1": 0,
          "xref": "x",
          "y0": -0.5,
          "y1": 8.5,
          "yref": "y"
         }
        ],
        "template": {
         "data": {
          "bar": [
           {
            "error_x": {
             "color": "#f2f5fa"
            },
            "error_y": {
             "color": "#f2f5fa"
            },
            "marker": {
             "line": {
              "color": "rgb(17,17,17)",
              "width": 0.5
             },
             "pattern": {
              "fillmode": "overlay",
              "size": 10,
              "solidity": 0.2
             }
            },
            "type": "bar"
           }
          ],
          "barpolar": [
           {
            "marker": {
             "line": {
              "color": "rgb(17,17,17)",
              "width": 0.5
             },
             "pattern": {
              "fillmode": "overlay",
              "size": 10,
              "solidity": 0.2
             }
            },
            "type": "barpolar"
           }
          ],
          "carpet": [
           {
            "aaxis": {
             "endlinecolor": "#A2B1C6",
             "gridcolor": "#506784",
             "linecolor": "#506784",
             "minorgridcolor": "#506784",
             "startlinecolor": "#A2B1C6"
            },
            "baxis": {
             "endlinecolor": "#A2B1C6",
             "gridcolor": "#506784",
             "linecolor": "#506784",
             "minorgridcolor": "#506784",
             "startlinecolor": "#A2B1C6"
            },
            "type": "carpet"
           }
          ],
          "choropleth": [
           {
            "colorbar": {
             "outlinewidth": 0,
             "ticks": ""
            },
            "type": "choropleth"
           }
          ],
          "contour": [
           {
            "colorbar": {
             "outlinewidth": 0,
             "ticks": ""
            },
            "colorscale": [
             [
              0,
              "#0d0887"
             ],
             [
              0.1111111111111111,
              "#46039f"
             ],
             [
              0.2222222222222222,
              "#7201a8"
             ],
             [
              0.3333333333333333,
              "#9c179e"
             ],
             [
              0.4444444444444444,
              "#bd3786"
             ],
             [
              0.5555555555555556,
              "#d8576b"
             ],
             [
              0.6666666666666666,
              "#ed7953"
             ],
             [
              0.7777777777777778,
              "#fb9f3a"
             ],
             [
              0.8888888888888888,
              "#fdca26"
             ],
             [
              1,
              "#f0f921"
             ]
            ],
            "type": "contour"
           }
          ],
          "contourcarpet": [
           {
            "colorbar": {
             "outlinewidth": 0,
             "ticks": ""
            },
            "type": "contourcarpet"
           }
          ],
          "heatmap": [
           {
            "colorbar": {
             "outlinewidth": 0,
             "ticks": ""
            },
            "colorscale": [
             [
              0,
              "#0d0887"
             ],
             [
              0.1111111111111111,
              "#46039f"
             ],
             [
              0.2222222222222222,
              "#7201a8"
             ],
             [
              0.3333333333333333,
              "#9c179e"
             ],
             [
              0.4444444444444444,
              "#bd3786"
             ],
             [
              0.5555555555555556,
              "#d8576b"
             ],
             [
              0.6666666666666666,
              "#ed7953"
             ],
             [
              0.7777777777777778,
              "#fb9f3a"
             ],
             [
              0.8888888888888888,
              "#fdca26"
             ],
             [
              1,
              "#f0f921"
             ]
            ],
            "type": "heatmap"
           }
          ],
          "histogram": [
           {
            "marker": {
             "pattern": {
              "fillmode": "overlay",
              "size": 10,
              "solidity": 0.2
             }
            },
            "type": "histogram"
           }
          ],
          "histogram2d": [
           {
            "colorbar": {
             "outlinewidth": 0,
             "ticks": ""
            },
            "colorscale": [
             [
              0,
              "#0d0887"
             ],
             [
              0.1111111111111111,
              "#46039f"
             ],
             [
              0.2222222222222222,
              "#7201a8"
             ],
             [
              0.3333333333333333,
              "#9c179e"
             ],
             [
              0.4444444444444444,
              "#bd3786"
             ],
             [
              0.5555555555555556,
              "#d8576b"
             ],
             [
              0.6666666666666666,
              "#ed7953"
             ],
             [
              0.7777777777777778,
              "#fb9f3a"
             ],
             [
              0.8888888888888888,
              "#fdca26"
             ],
             [
              1,
              "#f0f921"
             ]
            ],
            "type": "histogram2d"
           }
          ],
          "histogram2dcontour": [
           {
            "colorbar": {
             "outlinewidth": 0,
             "ticks": ""
            },
            "colorscale": [
             [
              0,
              "#0d0887"
             ],
             [
              0.1111111111111111,
              "#46039f"
             ],
             [
              0.2222222222222222,
              "#7201a8"
             ],
             [
              0.3333333333333333,
              "#9c179e"
             ],
             [
              0.4444444444444444,
              "#bd3786"
             ],
             [
              0.5555555555555556,
              "#d8576b"
             ],
             [
              0.6666666666666666,
              "#ed7953"
             ],
             [
              0.7777777777777778,
              "#fb9f3a"
             ],
             [
              0.8888888888888888,
              "#fdca26"
             ],
             [
              1,
              "#f0f921"
             ]
            ],
            "type": "histogram2dcontour"
           }
          ],
          "mesh3d": [
           {
            "colorbar": {
             "outlinewidth": 0,
             "ticks": ""
            },
            "type": "mesh3d"
           }
          ],
          "parcoords": [
           {
            "line": {
             "colorbar": {
              "outlinewidth": 0,
              "ticks": ""
             }
            },
            "type": "parcoords"
           }
          ],
          "pie": [
           {
            "automargin": true,
            "type": "pie"
           }
          ],
          "scatter": [
           {
            "marker": {
             "line": {
              "color": "#283442"
             }
            },
            "type": "scatter"
           }
          ],
          "scatter3d": [
           {
            "line": {
             "colorbar": {
              "outlinewidth": 0,
              "ticks": ""
             }
            },
            "marker": {
             "colorbar": {
              "outlinewidth": 0,
              "ticks": ""
             }
            },
            "type": "scatter3d"
           }
          ],
          "scattercarpet": [
           {
            "marker": {
             "colorbar": {
              "outlinewidth": 0,
              "ticks": ""
             }
            },
            "type": "scattercarpet"
           }
          ],
          "scattergeo": [
           {
            "marker": {
             "colorbar": {
              "outlinewidth": 0,
              "ticks": ""
             }
            },
            "type": "scattergeo"
           }
          ],
          "scattergl": [
           {
            "marker": {
             "line": {
              "color": "#283442"
             }
            },
            "type": "scattergl"
           }
          ],
          "scattermap": [
           {
            "marker": {
             "colorbar": {
              "outlinewidth": 0,
              "ticks": ""
             }
            },
            "type": "scattermap"
           }
          ],
          "scattermapbox": [
           {
            "marker": {
             "colorbar": {
              "outlinewidth": 0,
              "ticks": ""
             }
            },
            "type": "scattermapbox"
           }
          ],
          "scatterpolar": [
           {
            "marker": {
             "colorbar": {
              "outlinewidth": 0,
              "ticks": ""
             }
            },
            "type": "scatterpolar"
           }
          ],
          "scatterpolargl": [
           {
            "marker": {
             "colorbar": {
              "outlinewidth": 0,
              "ticks": ""
             }
            },
            "type": "scatterpolargl"
           }
          ],
          "scatterternary": [
           {
            "marker": {
             "colorbar": {
              "outlinewidth": 0,
              "ticks": ""
             }
            },
            "type": "scatterternary"
           }
          ],
          "surface": [
           {
            "colorbar": {
             "outlinewidth": 0,
             "ticks": ""
            },
            "colorscale": [
             [
              0,
              "#0d0887"
             ],
             [
              0.1111111111111111,
              "#46039f"
             ],
             [
              0.2222222222222222,
              "#7201a8"
             ],
             [
              0.3333333333333333,
              "#9c179e"
             ],
             [
              0.4444444444444444,
              "#bd3786"
             ],
             [
              0.5555555555555556,
              "#d8576b"
             ],
             [
              0.6666666666666666,
              "#ed7953"
             ],
             [
              0.7777777777777778,
              "#fb9f3a"
             ],
             [
              0.8888888888888888,
              "#fdca26"
             ],
             [
              1,
              "#f0f921"
             ]
            ],
            "type": "surface"
           }
          ],
          "table": [
           {
            "cells": {
             "fill": {
              "color": "#506784"
             },
             "line": {
              "color": "rgb(17,17,17)"
             }
            },
            "header": {
             "fill": {
              "color": "#2a3f5f"
             },
             "line": {
              "color": "rgb(17,17,17)"
             }
            },
            "type": "table"
           }
          ]
         },
         "layout": {
          "annotationdefaults": {
           "arrowcolor": "#f2f5fa",
           "arrowhead": 0,
           "arrowwidth": 1
          },
          "autotypenumbers": "strict",
          "coloraxis": {
           "colorbar": {
            "outlinewidth": 0,
            "ticks": ""
           }
          },
          "colorscale": {
           "diverging": [
            [
             0,
             "#8e0152"
            ],
            [
             0.1,
             "#c51b7d"
            ],
            [
             0.2,
             "#de77ae"
            ],
            [
             0.3,
             "#f1b6da"
            ],
            [
             0.4,
             "#fde0ef"
            ],
            [
             0.5,
             "#f7f7f7"
            ],
            [
             0.6,
             "#e6f5d0"
            ],
            [
             0.7,
             "#b8e186"
            ],
            [
             0.8,
             "#7fbc41"
            ],
            [
             0.9,
             "#4d9221"
            ],
            [
             1,
             "#276419"
            ]
           ],
           "sequential": [
            [
             0,
             "#0d0887"
            ],
            [
             0.1111111111111111,
             "#46039f"
            ],
            [
             0.2222222222222222,
             "#7201a8"
            ],
            [
             0.3333333333333333,
             "#9c179e"
            ],
            [
             0.4444444444444444,
             "#bd3786"
            ],
            [
             0.5555555555555556,
             "#d8576b"
            ],
            [
             0.6666666666666666,
             "#ed7953"
            ],
            [
             0.7777777777777778,
             "#fb9f3a"
            ],
            [
             0.8888888888888888,
             "#fdca26"
            ],
            [
             1,
             "#f0f921"
            ]
           ],
           "sequentialminus": [
            [
             0,
             "#0d0887"
            ],
            [
             0.1111111111111111,
             "#46039f"
            ],
            [
             0.2222222222222222,
             "#7201a8"
            ],
            [
             0.3333333333333333,
             "#9c179e"
            ],
            [
             0.4444444444444444,
             "#bd3786"
            ],
            [
             0.5555555555555556,
             "#d8576b"
            ],
            [
             0.6666666666666666,
             "#ed7953"
            ],
            [
             0.7777777777777778,
             "#fb9f3a"
            ],
            [
             0.8888888888888888,
             "#fdca26"
            ],
            [
             1,
             "#f0f921"
            ]
           ]
          },
          "colorway": [
           "#636efa",
           "#EF553B",
           "#00cc96",
           "#ab63fa",
           "#FFA15A",
           "#19d3f3",
           "#FF6692",
           "#B6E880",
           "#FF97FF",
           "#FECB52"
          ],
          "font": {
           "color": "#f2f5fa"
          },
          "geo": {
           "bgcolor": "rgb(17,17,17)",
           "lakecolor": "rgb(17,17,17)",
           "landcolor": "rgb(17,17,17)",
           "showlakes": true,
           "showland": true,
           "subunitcolor": "#506784"
          },
          "hoverlabel": {
           "align": "left"
          },
          "hovermode": "closest",
          "mapbox": {
           "style": "dark"
          },
          "paper_bgcolor": "rgb(17,17,17)",
          "plot_bgcolor": "rgb(17,17,17)",
          "polar": {
           "angularaxis": {
            "gridcolor": "#506784",
            "linecolor": "#506784",
            "ticks": ""
           },
           "bgcolor": "rgb(17,17,17)",
           "radialaxis": {
            "gridcolor": "#506784",
            "linecolor": "#506784",
            "ticks": ""
           }
          },
          "scene": {
           "xaxis": {
            "backgroundcolor": "rgb(17,17,17)",
            "gridcolor": "#506784",
            "gridwidth": 2,
            "linecolor": "#506784",
            "showbackground": true,
            "ticks": "",
            "zerolinecolor": "#C8D4E3"
           },
           "yaxis": {
            "backgroundcolor": "rgb(17,17,17)",
            "gridcolor": "#506784",
            "gridwidth": 2,
            "linecolor": "#506784",
            "showbackground": true,
            "ticks": "",
            "zerolinecolor": "#C8D4E3"
           },
           "zaxis": {
            "backgroundcolor": "rgb(17,17,17)",
            "gridcolor": "#506784",
            "gridwidth": 2,
            "linecolor": "#506784",
            "showbackground": true,
            "ticks": "",
            "zerolinecolor": "#C8D4E3"
           }
          },
          "shapedefaults": {
           "line": {
            "color": "#f2f5fa"
           }
          },
          "sliderdefaults": {
           "bgcolor": "#C8D4E3",
           "bordercolor": "rgb(17,17,17)",
           "borderwidth": 1,
           "tickwidth": 0
          },
          "ternary": {
           "aaxis": {
            "gridcolor": "#506784",
            "linecolor": "#506784",
            "ticks": ""
           },
           "baxis": {
            "gridcolor": "#506784",
            "linecolor": "#506784",
            "ticks": ""
           },
           "bgcolor": "rgb(17,17,17)",
           "caxis": {
            "gridcolor": "#506784",
            "linecolor": "#506784",
            "ticks": ""
           }
          },
          "title": {
           "x": 0.05
          },
          "updatemenudefaults": {
           "bgcolor": "#506784",
           "borderwidth": 0
          },
          "xaxis": {
           "automargin": true,
           "gridcolor": "#283442",
           "linecolor": "#506784",
           "ticks": "",
           "title": {
            "standoff": 15
           },
           "zerolinecolor": "#283442",
           "zerolinewidth": 2
          },
          "yaxis": {
           "automargin": true,
           "gridcolor": "#283442",
           "linecolor": "#506784",
           "ticks": "",
           "title": {
            "standoff": 15
           },
           "zerolinecolor": "#283442",
           "zerolinewidth": 2
          }
         }
        },
        "title": {
         "text": "Sample of Posterior Coefficients (95.0% CI)"
        },
        "width": 1200,
        "xaxis": {
         "title": {
          "text": "Coefficient estimate ± 95.0% CI"
         }
        },
        "yaxis": {
         "categoryarray": [
          "area",
          "Ethnic Group|Black/African/Caribbean/Black British (%)",
          "Ethnic Group|White (%)",
          "Household Composition|% One person household",
          "Public Transport Accessibility Levels|Number of people in each PTAL level:|6b",
          "Public Transport Accessibility Levels|Average Score|Level3_64",
          "Household Composition|% Couple household with dependent children",
          "n_neighbors",
          "Tenure|Social rented (%)"
         ],
         "categoryorder": "array",
         "title": {
          "text": "Feature"
         }
        }
       }
      }
     },
     "metadata": {},
     "output_type": "display_data"
    },
    {
     "data": {
      "application/vnd.plotly.v1+json": {
       "config": {
        "plotlyServerURL": "https://plot.ly"
       },
       "data": [
        {
         "error_x": {
          "array": {
           "bdata": "AAAAIM1JxD8=",
           "dtype": "f8"
          },
          "arrayminus": {
           "bdata": "AAAA9Nl8xD8=",
           "dtype": "f8"
          },
          "symmetric": false,
          "thickness": 2,
          "type": "data",
          "width": 5
         },
         "marker": {
          "color": "cyan",
          "size": 8
         },
         "mode": "markers",
         "name": "CI excludes 0",
         "type": "scatter",
         "x": {
          "bdata": "AAAAYPTRxz8=",
          "dtype": "f8"
         },
         "y": [
          "Mid-year Population Estimates|All Ages"
         ]
        },
        {
         "error_x": {
          "array": {
           "bdata": "AAAAwAPAyT8AAACwcmfGPwAAAHBNDcQ/AAAAMM9Tzj8AAAAQtPnKPwAAAEDYLsU/AAAAcB8OxT8AAAA0CjrHPwAAAHSv3MY/AAAAcObkxD8AAADU78/IPwAAAAhhQcM/AAAAXamwwT8AAABhSyLEPwAAQAxQesQ/AADg2dYAwz8AAKCx3S3EPw==",
           "dtype": "f8"
          },
          "arrayminus": {
           "bdata": "AAAA2FsFyT8AAACws/PFPwAAADCV+cM/AAAAgPOtzT8AAADQXtHKPwAAAGDu0sQ/AAAAsLUnxT8AAABsPePGPwAAAKyMrsY/AAAAsOCtxD8AAADM0bjJPwAAAJhPKcM/AAAAA6YHwj8AAACfo63DPwAAwHNJHsQ/AAAgZgk2wz8AAGBu8cbDPw==",
           "dtype": "f8"
          },
          "symmetric": false,
          "thickness": 2,
          "type": "data",
          "width": 5
         },
         "marker": {
          "color": "orange",
          "size": 8
         },
         "mode": "markers",
         "name": "CI includes 0",
         "type": "scatter",
         "x": {
          "bdata": "AAAAgJ3awT8AAAAgtLW6PwAAAODV87O/AAAAIE5zvD8AAABgKdSxPwAAAIC08KE/AAAAwNCjob8AAACgXsafvwAAAGAijp4/AAAAAF/fhr8AAADASo6OPwAAAADtRHi/AAAAYLBucj8AAAAguIZxvwAAAOB5LFI/AAAAIAZmSD8AAABgbvxPPw==",
          "dtype": "f8"
         },
         "y": [
          "Household Composition|% One person household_x_post_corona",
          "Public Transport Accessibility Levels|Average Score|Level3_64_x_post_corona",
          "Mid-year Population Estimates|Aged 16-29",
          "Mid-year Population Estimates|All Ages_x_post_corona",
          "Household Composition|% Couple household with dependent children_x_post_corona",
          "Tenure|Social rented (%)_x_post_corona",
          "Ethnic Group|White (%)_x_post_corona",
          "Mid-year Population Estimates|Aged 0-15_x_post_corona",
          "n_neighbors_x_post_corona",
          "Mid-year Population Estimates|Aged 0-15",
          "Mid-year Population Estimates|Aged 16-29_x_post_corona",
          "Public Transport Accessibility Levels|Number of people in each PTAL level:|6b_x_post_corona",
          "lag1_median_neighbors_x_post_corona",
          "Barriers to Housing and Services Rank (where 1 is most deprived)",
          "Ethnic Group|Black/African/Caribbean/Black British (%)_x_post_corona",
          "area_x_post_corona",
          "Barriers to Housing and Services Rank (where 1 is most deprived)_x_post_corona"
         ]
        }
       ],
       "layout": {
        "height": 750,
        "legend": {
         "bgcolor": "rgba(0,0,0,0)"
        },
        "margin": {
         "b": 50,
         "l": 150,
         "r": 50,
         "t": 100
        },
        "paper_bgcolor": "black",
        "plot_bgcolor": "black",
        "shapes": [
         {
          "line": {
           "color": "white",
           "dash": "dash",
           "width": 2
          },
          "type": "line",
          "x0": 0,
          "x1": 0,
          "xref": "x",
          "y0": -0.5,
          "y1": 17.5,
          "yref": "y"
         }
        ],
        "template": {
         "data": {
          "bar": [
           {
            "error_x": {
             "color": "#f2f5fa"
            },
            "error_y": {
             "color": "#f2f5fa"
            },
            "marker": {
             "line": {
              "color": "rgb(17,17,17)",
              "width": 0.5
             },
             "pattern": {
              "fillmode": "overlay",
              "size": 10,
              "solidity": 0.2
             }
            },
            "type": "bar"
           }
          ],
          "barpolar": [
           {
            "marker": {
             "line": {
              "color": "rgb(17,17,17)",
              "width": 0.5
             },
             "pattern": {
              "fillmode": "overlay",
              "size": 10,
              "solidity": 0.2
             }
            },
            "type": "barpolar"
           }
          ],
          "carpet": [
           {
            "aaxis": {
             "endlinecolor": "#A2B1C6",
             "gridcolor": "#506784",
             "linecolor": "#506784",
             "minorgridcolor": "#506784",
             "startlinecolor": "#A2B1C6"
            },
            "baxis": {
             "endlinecolor": "#A2B1C6",
             "gridcolor": "#506784",
             "linecolor": "#506784",
             "minorgridcolor": "#506784",
             "startlinecolor": "#A2B1C6"
            },
            "type": "carpet"
           }
          ],
          "choropleth": [
           {
            "colorbar": {
             "outlinewidth": 0,
             "ticks": ""
            },
            "type": "choropleth"
           }
          ],
          "contour": [
           {
            "colorbar": {
             "outlinewidth": 0,
             "ticks": ""
            },
            "colorscale": [
             [
              0,
              "#0d0887"
             ],
             [
              0.1111111111111111,
              "#46039f"
             ],
             [
              0.2222222222222222,
              "#7201a8"
             ],
             [
              0.3333333333333333,
              "#9c179e"
             ],
             [
              0.4444444444444444,
              "#bd3786"
             ],
             [
              0.5555555555555556,
              "#d8576b"
             ],
             [
              0.6666666666666666,
              "#ed7953"
             ],
             [
              0.7777777777777778,
              "#fb9f3a"
             ],
             [
              0.8888888888888888,
              "#fdca26"
             ],
             [
              1,
              "#f0f921"
             ]
            ],
            "type": "contour"
           }
          ],
          "contourcarpet": [
           {
            "colorbar": {
             "outlinewidth": 0,
             "ticks": ""
            },
            "type": "contourcarpet"
           }
          ],
          "heatmap": [
           {
            "colorbar": {
             "outlinewidth": 0,
             "ticks": ""
            },
            "colorscale": [
             [
              0,
              "#0d0887"
             ],
             [
              0.1111111111111111,
              "#46039f"
             ],
             [
              0.2222222222222222,
              "#7201a8"
             ],
             [
              0.3333333333333333,
              "#9c179e"
             ],
             [
              0.4444444444444444,
              "#bd3786"
             ],
             [
              0.5555555555555556,
              "#d8576b"
             ],
             [
              0.6666666666666666,
              "#ed7953"
             ],
             [
              0.7777777777777778,
              "#fb9f3a"
             ],
             [
              0.8888888888888888,
              "#fdca26"
             ],
             [
              1,
              "#f0f921"
             ]
            ],
            "type": "heatmap"
           }
          ],
          "histogram": [
           {
            "marker": {
             "pattern": {
              "fillmode": "overlay",
              "size": 10,
              "solidity": 0.2
             }
            },
            "type": "histogram"
           }
          ],
          "histogram2d": [
           {
            "colorbar": {
             "outlinewidth": 0,
             "ticks": ""
            },
            "colorscale": [
             [
              0,
              "#0d0887"
             ],
             [
              0.1111111111111111,
              "#46039f"
             ],
             [
              0.2222222222222222,
              "#7201a8"
             ],
             [
              0.3333333333333333,
              "#9c179e"
             ],
             [
              0.4444444444444444,
              "#bd3786"
             ],
             [
              0.5555555555555556,
              "#d8576b"
             ],
             [
              0.6666666666666666,
              "#ed7953"
             ],
             [
              0.7777777777777778,
              "#fb9f3a"
             ],
             [
              0.8888888888888888,
              "#fdca26"
             ],
             [
              1,
              "#f0f921"
             ]
            ],
            "type": "histogram2d"
           }
          ],
          "histogram2dcontour": [
           {
            "colorbar": {
             "outlinewidth": 0,
             "ticks": ""
            },
            "colorscale": [
             [
              0,
              "#0d0887"
             ],
             [
              0.1111111111111111,
              "#46039f"
             ],
             [
              0.2222222222222222,
              "#7201a8"
             ],
             [
              0.3333333333333333,
              "#9c179e"
             ],
             [
              0.4444444444444444,
              "#bd3786"
             ],
             [
              0.5555555555555556,
              "#d8576b"
             ],
             [
              0.6666666666666666,
              "#ed7953"
             ],
             [
              0.7777777777777778,
              "#fb9f3a"
             ],
             [
              0.8888888888888888,
              "#fdca26"
             ],
             [
              1,
              "#f0f921"
             ]
            ],
            "type": "histogram2dcontour"
           }
          ],
          "mesh3d": [
           {
            "colorbar": {
             "outlinewidth": 0,
             "ticks": ""
            },
            "type": "mesh3d"
           }
          ],
          "parcoords": [
           {
            "line": {
             "colorbar": {
              "outlinewidth": 0,
              "ticks": ""
             }
            },
            "type": "parcoords"
           }
          ],
          "pie": [
           {
            "automargin": true,
            "type": "pie"
           }
          ],
          "scatter": [
           {
            "marker": {
             "line": {
              "color": "#283442"
             }
            },
            "type": "scatter"
           }
          ],
          "scatter3d": [
           {
            "line": {
             "colorbar": {
              "outlinewidth": 0,
              "ticks": ""
             }
            },
            "marker": {
             "colorbar": {
              "outlinewidth": 0,
              "ticks": ""
             }
            },
            "type": "scatter3d"
           }
          ],
          "scattercarpet": [
           {
            "marker": {
             "colorbar": {
              "outlinewidth": 0,
              "ticks": ""
             }
            },
            "type": "scattercarpet"
           }
          ],
          "scattergeo": [
           {
            "marker": {
             "colorbar": {
              "outlinewidth": 0,
              "ticks": ""
             }
            },
            "type": "scattergeo"
           }
          ],
          "scattergl": [
           {
            "marker": {
             "line": {
              "color": "#283442"
             }
            },
            "type": "scattergl"
           }
          ],
          "scattermap": [
           {
            "marker": {
             "colorbar": {
              "outlinewidth": 0,
              "ticks": ""
             }
            },
            "type": "scattermap"
           }
          ],
          "scattermapbox": [
           {
            "marker": {
             "colorbar": {
              "outlinewidth": 0,
              "ticks": ""
             }
            },
            "type": "scattermapbox"
           }
          ],
          "scatterpolar": [
           {
            "marker": {
             "colorbar": {
              "outlinewidth": 0,
              "ticks": ""
             }
            },
            "type": "scatterpolar"
           }
          ],
          "scatterpolargl": [
           {
            "marker": {
             "colorbar": {
              "outlinewidth": 0,
              "ticks": ""
             }
            },
            "type": "scatterpolargl"
           }
          ],
          "scatterternary": [
           {
            "marker": {
             "colorbar": {
              "outlinewidth": 0,
              "ticks": ""
             }
            },
            "type": "scatterternary"
           }
          ],
          "surface": [
           {
            "colorbar": {
             "outlinewidth": 0,
             "ticks": ""
            },
            "colorscale": [
             [
              0,
              "#0d0887"
             ],
             [
              0.1111111111111111,
              "#46039f"
             ],
             [
              0.2222222222222222,
              "#7201a8"
             ],
             [
              0.3333333333333333,
              "#9c179e"
             ],
             [
              0.4444444444444444,
              "#bd3786"
             ],
             [
              0.5555555555555556,
              "#d8576b"
             ],
             [
              0.6666666666666666,
              "#ed7953"
             ],
             [
              0.7777777777777778,
              "#fb9f3a"
             ],
             [
              0.8888888888888888,
              "#fdca26"
             ],
             [
              1,
              "#f0f921"
             ]
            ],
            "type": "surface"
           }
          ],
          "table": [
           {
            "cells": {
             "fill": {
              "color": "#506784"
             },
             "line": {
              "color": "rgb(17,17,17)"
             }
            },
            "header": {
             "fill": {
              "color": "#2a3f5f"
             },
             "line": {
              "color": "rgb(17,17,17)"
             }
            },
            "type": "table"
           }
          ]
         },
         "layout": {
          "annotationdefaults": {
           "arrowcolor": "#f2f5fa",
           "arrowhead": 0,
           "arrowwidth": 1
          },
          "autotypenumbers": "strict",
          "coloraxis": {
           "colorbar": {
            "outlinewidth": 0,
            "ticks": ""
           }
          },
          "colorscale": {
           "diverging": [
            [
             0,
             "#8e0152"
            ],
            [
             0.1,
             "#c51b7d"
            ],
            [
             0.2,
             "#de77ae"
            ],
            [
             0.3,
             "#f1b6da"
            ],
            [
             0.4,
             "#fde0ef"
            ],
            [
             0.5,
             "#f7f7f7"
            ],
            [
             0.6,
             "#e6f5d0"
            ],
            [
             0.7,
             "#b8e186"
            ],
            [
             0.8,
             "#7fbc41"
            ],
            [
             0.9,
             "#4d9221"
            ],
            [
             1,
             "#276419"
            ]
           ],
           "sequential": [
            [
             0,
             "#0d0887"
            ],
            [
             0.1111111111111111,
             "#46039f"
            ],
            [
             0.2222222222222222,
             "#7201a8"
            ],
            [
             0.3333333333333333,
             "#9c179e"
            ],
            [
             0.4444444444444444,
             "#bd3786"
            ],
            [
             0.5555555555555556,
             "#d8576b"
            ],
            [
             0.6666666666666666,
             "#ed7953"
            ],
            [
             0.7777777777777778,
             "#fb9f3a"
            ],
            [
             0.8888888888888888,
             "#fdca26"
            ],
            [
             1,
             "#f0f921"
            ]
           ],
           "sequentialminus": [
            [
             0,
             "#0d0887"
            ],
            [
             0.1111111111111111,
             "#46039f"
            ],
            [
             0.2222222222222222,
             "#7201a8"
            ],
            [
             0.3333333333333333,
             "#9c179e"
            ],
            [
             0.4444444444444444,
             "#bd3786"
            ],
            [
             0.5555555555555556,
             "#d8576b"
            ],
            [
             0.6666666666666666,
             "#ed7953"
            ],
            [
             0.7777777777777778,
             "#fb9f3a"
            ],
            [
             0.8888888888888888,
             "#fdca26"
            ],
            [
             1,
             "#f0f921"
            ]
           ]
          },
          "colorway": [
           "#636efa",
           "#EF553B",
           "#00cc96",
           "#ab63fa",
           "#FFA15A",
           "#19d3f3",
           "#FF6692",
           "#B6E880",
           "#FF97FF",
           "#FECB52"
          ],
          "font": {
           "color": "#f2f5fa"
          },
          "geo": {
           "bgcolor": "rgb(17,17,17)",
           "lakecolor": "rgb(17,17,17)",
           "landcolor": "rgb(17,17,17)",
           "showlakes": true,
           "showland": true,
           "subunitcolor": "#506784"
          },
          "hoverlabel": {
           "align": "left"
          },
          "hovermode": "closest",
          "mapbox": {
           "style": "dark"
          },
          "paper_bgcolor": "rgb(17,17,17)",
          "plot_bgcolor": "rgb(17,17,17)",
          "polar": {
           "angularaxis": {
            "gridcolor": "#506784",
            "linecolor": "#506784",
            "ticks": ""
           },
           "bgcolor": "rgb(17,17,17)",
           "radialaxis": {
            "gridcolor": "#506784",
            "linecolor": "#506784",
            "ticks": ""
           }
          },
          "scene": {
           "xaxis": {
            "backgroundcolor": "rgb(17,17,17)",
            "gridcolor": "#506784",
            "gridwidth": 2,
            "linecolor": "#506784",
            "showbackground": true,
            "ticks": "",
            "zerolinecolor": "#C8D4E3"
           },
           "yaxis": {
            "backgroundcolor": "rgb(17,17,17)",
            "gridcolor": "#506784",
            "gridwidth": 2,
            "linecolor": "#506784",
            "showbackground": true,
            "ticks": "",
            "zerolinecolor": "#C8D4E3"
           },
           "zaxis": {
            "backgroundcolor": "rgb(17,17,17)",
            "gridcolor": "#506784",
            "gridwidth": 2,
            "linecolor": "#506784",
            "showbackground": true,
            "ticks": "",
            "zerolinecolor": "#C8D4E3"
           }
          },
          "shapedefaults": {
           "line": {
            "color": "#f2f5fa"
           }
          },
          "sliderdefaults": {
           "bgcolor": "#C8D4E3",
           "bordercolor": "rgb(17,17,17)",
           "borderwidth": 1,
           "tickwidth": 0
          },
          "ternary": {
           "aaxis": {
            "gridcolor": "#506784",
            "linecolor": "#506784",
            "ticks": ""
           },
           "baxis": {
            "gridcolor": "#506784",
            "linecolor": "#506784",
            "ticks": ""
           },
           "bgcolor": "rgb(17,17,17)",
           "caxis": {
            "gridcolor": "#506784",
            "linecolor": "#506784",
            "ticks": ""
           }
          },
          "title": {
           "x": 0.05
          },
          "updatemenudefaults": {
           "bgcolor": "#506784",
           "borderwidth": 0
          },
          "xaxis": {
           "automargin": true,
           "gridcolor": "#283442",
           "linecolor": "#506784",
           "ticks": "",
           "title": {
            "standoff": 15
           },
           "zerolinecolor": "#283442",
           "zerolinewidth": 2
          },
          "yaxis": {
           "automargin": true,
           "gridcolor": "#283442",
           "linecolor": "#506784",
           "ticks": "",
           "title": {
            "standoff": 15
           },
           "zerolinecolor": "#283442",
           "zerolinewidth": 2
          }
         }
        },
        "title": {
         "text": "Sample of Posterior Coefficients (95.0% CI)"
        },
        "width": 1200,
        "xaxis": {
         "title": {
          "text": "Coefficient estimate ± 95.0% CI"
         }
        },
        "yaxis": {
         "categoryarray": [
          "Barriers to Housing and Services Rank (where 1 is most deprived)_x_post_corona",
          "area_x_post_corona",
          "Ethnic Group|Black/African/Caribbean/Black British (%)_x_post_corona",
          "Barriers to Housing and Services Rank (where 1 is most deprived)",
          "lag1_median_neighbors_x_post_corona",
          "Public Transport Accessibility Levels|Number of people in each PTAL level:|6b_x_post_corona",
          "Mid-year Population Estimates|Aged 16-29_x_post_corona",
          "Mid-year Population Estimates|Aged 0-15",
          "n_neighbors_x_post_corona",
          "Mid-year Population Estimates|Aged 0-15_x_post_corona",
          "Ethnic Group|White (%)_x_post_corona",
          "Tenure|Social rented (%)_x_post_corona",
          "Household Composition|% Couple household with dependent children_x_post_corona",
          "Mid-year Population Estimates|All Ages_x_post_corona",
          "Mid-year Population Estimates|Aged 16-29",
          "Public Transport Accessibility Levels|Average Score|Level3_64_x_post_corona",
          "Household Composition|% One person household_x_post_corona",
          "Mid-year Population Estimates|All Ages"
         ],
         "categoryorder": "array",
         "title": {
          "text": "Feature"
         }
        }
       }
      }
     },
     "metadata": {},
     "output_type": "display_data"
    },
    {
     "data": {
      "application/vnd.plotly.v1+json": {
       "config": {
        "plotlyServerURL": "https://plot.ly"
       },
       "data": [
        {
         "error_x": {
          "array": {
           "bdata": "AAAAANEFxz8=",
           "dtype": "f8"
          },
          "arrayminus": {
           "bdata": "AAAAgPKOxj8=",
           "dtype": "f8"
          },
          "symmetric": false,
          "thickness": 2,
          "type": "data",
          "width": 5
         },
         "marker": {
          "color": "cyan",
          "size": 8
         },
         "mode": "markers",
         "name": "CI excludes 0",
         "type": "scatter",
         "x": {
          "bdata": "AAAAQBbb4L8=",
          "dtype": "f8"
         },
         "y": [
          "post_corona"
         ]
        },
        {
         "error_x": {
          "array": {
           "bdata": "AAAAcIIfwj8AAAANz/bCPw==",
           "dtype": "f8"
          },
          "arrayminus": {
           "bdata": "AAAA4ItqwT8AAADTK6/CPw==",
           "dtype": "f8"
          },
          "symmetric": false,
          "thickness": 2,
          "type": "data",
          "width": 5
         },
         "marker": {
          "color": "orange",
          "size": 8
         },
         "mode": "markers",
         "name": "CI includes 0",
         "type": "scatter",
         "x": {
          "bdata": "AAAAgDHqrL8AAACgWWdwvw==",
          "dtype": "f8"
         },
         "y": [
          "during_corona",
          "month_sin"
         ]
        }
       ],
       "layout": {
        "height": 375,
        "legend": {
         "bgcolor": "rgba(0,0,0,0)"
        },
        "margin": {
         "b": 50,
         "l": 150,
         "r": 50,
         "t": 100
        },
        "paper_bgcolor": "black",
        "plot_bgcolor": "black",
        "shapes": [
         {
          "line": {
           "color": "white",
           "dash": "dash",
           "width": 2
          },
          "type": "line",
          "x0": 0,
          "x1": 0,
          "xref": "x",
          "y0": -0.5,
          "y1": 2.5,
          "yref": "y"
         }
        ],
        "template": {
         "data": {
          "bar": [
           {
            "error_x": {
             "color": "#f2f5fa"
            },
            "error_y": {
             "color": "#f2f5fa"
            },
            "marker": {
             "line": {
              "color": "rgb(17,17,17)",
              "width": 0.5
             },
             "pattern": {
              "fillmode": "overlay",
              "size": 10,
              "solidity": 0.2
             }
            },
            "type": "bar"
           }
          ],
          "barpolar": [
           {
            "marker": {
             "line": {
              "color": "rgb(17,17,17)",
              "width": 0.5
             },
             "pattern": {
              "fillmode": "overlay",
              "size": 10,
              "solidity": 0.2
             }
            },
            "type": "barpolar"
           }
          ],
          "carpet": [
           {
            "aaxis": {
             "endlinecolor": "#A2B1C6",
             "gridcolor": "#506784",
             "linecolor": "#506784",
             "minorgridcolor": "#506784",
             "startlinecolor": "#A2B1C6"
            },
            "baxis": {
             "endlinecolor": "#A2B1C6",
             "gridcolor": "#506784",
             "linecolor": "#506784",
             "minorgridcolor": "#506784",
             "startlinecolor": "#A2B1C6"
            },
            "type": "carpet"
           }
          ],
          "choropleth": [
           {
            "colorbar": {
             "outlinewidth": 0,
             "ticks": ""
            },
            "type": "choropleth"
           }
          ],
          "contour": [
           {
            "colorbar": {
             "outlinewidth": 0,
             "ticks": ""
            },
            "colorscale": [
             [
              0,
              "#0d0887"
             ],
             [
              0.1111111111111111,
              "#46039f"
             ],
             [
              0.2222222222222222,
              "#7201a8"
             ],
             [
              0.3333333333333333,
              "#9c179e"
             ],
             [
              0.4444444444444444,
              "#bd3786"
             ],
             [
              0.5555555555555556,
              "#d8576b"
             ],
             [
              0.6666666666666666,
              "#ed7953"
             ],
             [
              0.7777777777777778,
              "#fb9f3a"
             ],
             [
              0.8888888888888888,
              "#fdca26"
             ],
             [
              1,
              "#f0f921"
             ]
            ],
            "type": "contour"
           }
          ],
          "contourcarpet": [
           {
            "colorbar": {
             "outlinewidth": 0,
             "ticks": ""
            },
            "type": "contourcarpet"
           }
          ],
          "heatmap": [
           {
            "colorbar": {
             "outlinewidth": 0,
             "ticks": ""
            },
            "colorscale": [
             [
              0,
              "#0d0887"
             ],
             [
              0.1111111111111111,
              "#46039f"
             ],
             [
              0.2222222222222222,
              "#7201a8"
             ],
             [
              0.3333333333333333,
              "#9c179e"
             ],
             [
              0.4444444444444444,
              "#bd3786"
             ],
             [
              0.5555555555555556,
              "#d8576b"
             ],
             [
              0.6666666666666666,
              "#ed7953"
             ],
             [
              0.7777777777777778,
              "#fb9f3a"
             ],
             [
              0.8888888888888888,
              "#fdca26"
             ],
             [
              1,
              "#f0f921"
             ]
            ],
            "type": "heatmap"
           }
          ],
          "histogram": [
           {
            "marker": {
             "pattern": {
              "fillmode": "overlay",
              "size": 10,
              "solidity": 0.2
             }
            },
            "type": "histogram"
           }
          ],
          "histogram2d": [
           {
            "colorbar": {
             "outlinewidth": 0,
             "ticks": ""
            },
            "colorscale": [
             [
              0,
              "#0d0887"
             ],
             [
              0.1111111111111111,
              "#46039f"
             ],
             [
              0.2222222222222222,
              "#7201a8"
             ],
             [
              0.3333333333333333,
              "#9c179e"
             ],
             [
              0.4444444444444444,
              "#bd3786"
             ],
             [
              0.5555555555555556,
              "#d8576b"
             ],
             [
              0.6666666666666666,
              "#ed7953"
             ],
             [
              0.7777777777777778,
              "#fb9f3a"
             ],
             [
              0.8888888888888888,
              "#fdca26"
             ],
             [
              1,
              "#f0f921"
             ]
            ],
            "type": "histogram2d"
           }
          ],
          "histogram2dcontour": [
           {
            "colorbar": {
             "outlinewidth": 0,
             "ticks": ""
            },
            "colorscale": [
             [
              0,
              "#0d0887"
             ],
             [
              0.1111111111111111,
              "#46039f"
             ],
             [
              0.2222222222222222,
              "#7201a8"
             ],
             [
              0.3333333333333333,
              "#9c179e"
             ],
             [
              0.4444444444444444,
              "#bd3786"
             ],
             [
              0.5555555555555556,
              "#d8576b"
             ],
             [
              0.6666666666666666,
              "#ed7953"
             ],
             [
              0.7777777777777778,
              "#fb9f3a"
             ],
             [
              0.8888888888888888,
              "#fdca26"
             ],
             [
              1,
              "#f0f921"
             ]
            ],
            "type": "histogram2dcontour"
           }
          ],
          "mesh3d": [
           {
            "colorbar": {
             "outlinewidth": 0,
             "ticks": ""
            },
            "type": "mesh3d"
           }
          ],
          "parcoords": [
           {
            "line": {
             "colorbar": {
              "outlinewidth": 0,
              "ticks": ""
             }
            },
            "type": "parcoords"
           }
          ],
          "pie": [
           {
            "automargin": true,
            "type": "pie"
           }
          ],
          "scatter": [
           {
            "marker": {
             "line": {
              "color": "#283442"
             }
            },
            "type": "scatter"
           }
          ],
          "scatter3d": [
           {
            "line": {
             "colorbar": {
              "outlinewidth": 0,
              "ticks": ""
             }
            },
            "marker": {
             "colorbar": {
              "outlinewidth": 0,
              "ticks": ""
             }
            },
            "type": "scatter3d"
           }
          ],
          "scattercarpet": [
           {
            "marker": {
             "colorbar": {
              "outlinewidth": 0,
              "ticks": ""
             }
            },
            "type": "scattercarpet"
           }
          ],
          "scattergeo": [
           {
            "marker": {
             "colorbar": {
              "outlinewidth": 0,
              "ticks": ""
             }
            },
            "type": "scattergeo"
           }
          ],
          "scattergl": [
           {
            "marker": {
             "line": {
              "color": "#283442"
             }
            },
            "type": "scattergl"
           }
          ],
          "scattermap": [
           {
            "marker": {
             "colorbar": {
              "outlinewidth": 0,
              "ticks": ""
             }
            },
            "type": "scattermap"
           }
          ],
          "scattermapbox": [
           {
            "marker": {
             "colorbar": {
              "outlinewidth": 0,
              "ticks": ""
             }
            },
            "type": "scattermapbox"
           }
          ],
          "scatterpolar": [
           {
            "marker": {
             "colorbar": {
              "outlinewidth": 0,
              "ticks": ""
             }
            },
            "type": "scatterpolar"
           }
          ],
          "scatterpolargl": [
           {
            "marker": {
             "colorbar": {
              "outlinewidth": 0,
              "ticks": ""
             }
            },
            "type": "scatterpolargl"
           }
          ],
          "scatterternary": [
           {
            "marker": {
             "colorbar": {
              "outlinewidth": 0,
              "ticks": ""
             }
            },
            "type": "scatterternary"
           }
          ],
          "surface": [
           {
            "colorbar": {
             "outlinewidth": 0,
             "ticks": ""
            },
            "colorscale": [
             [
              0,
              "#0d0887"
             ],
             [
              0.1111111111111111,
              "#46039f"
             ],
             [
              0.2222222222222222,
              "#7201a8"
             ],
             [
              0.3333333333333333,
              "#9c179e"
             ],
             [
              0.4444444444444444,
              "#bd3786"
             ],
             [
              0.5555555555555556,
              "#d8576b"
             ],
             [
              0.6666666666666666,
              "#ed7953"
             ],
             [
              0.7777777777777778,
              "#fb9f3a"
             ],
             [
              0.8888888888888888,
              "#fdca26"
             ],
             [
              1,
              "#f0f921"
             ]
            ],
            "type": "surface"
           }
          ],
          "table": [
           {
            "cells": {
             "fill": {
              "color": "#506784"
             },
             "line": {
              "color": "rgb(17,17,17)"
             }
            },
            "header": {
             "fill": {
              "color": "#2a3f5f"
             },
             "line": {
              "color": "rgb(17,17,17)"
             }
            },
            "type": "table"
           }
          ]
         },
         "layout": {
          "annotationdefaults": {
           "arrowcolor": "#f2f5fa",
           "arrowhead": 0,
           "arrowwidth": 1
          },
          "autotypenumbers": "strict",
          "coloraxis": {
           "colorbar": {
            "outlinewidth": 0,
            "ticks": ""
           }
          },
          "colorscale": {
           "diverging": [
            [
             0,
             "#8e0152"
            ],
            [
             0.1,
             "#c51b7d"
            ],
            [
             0.2,
             "#de77ae"
            ],
            [
             0.3,
             "#f1b6da"
            ],
            [
             0.4,
             "#fde0ef"
            ],
            [
             0.5,
             "#f7f7f7"
            ],
            [
             0.6,
             "#e6f5d0"
            ],
            [
             0.7,
             "#b8e186"
            ],
            [
             0.8,
             "#7fbc41"
            ],
            [
             0.9,
             "#4d9221"
            ],
            [
             1,
             "#276419"
            ]
           ],
           "sequential": [
            [
             0,
             "#0d0887"
            ],
            [
             0.1111111111111111,
             "#46039f"
            ],
            [
             0.2222222222222222,
             "#7201a8"
            ],
            [
             0.3333333333333333,
             "#9c179e"
            ],
            [
             0.4444444444444444,
             "#bd3786"
            ],
            [
             0.5555555555555556,
             "#d8576b"
            ],
            [
             0.6666666666666666,
             "#ed7953"
            ],
            [
             0.7777777777777778,
             "#fb9f3a"
            ],
            [
             0.8888888888888888,
             "#fdca26"
            ],
            [
             1,
             "#f0f921"
            ]
           ],
           "sequentialminus": [
            [
             0,
             "#0d0887"
            ],
            [
             0.1111111111111111,
             "#46039f"
            ],
            [
             0.2222222222222222,
             "#7201a8"
            ],
            [
             0.3333333333333333,
             "#9c179e"
            ],
            [
             0.4444444444444444,
             "#bd3786"
            ],
            [
             0.5555555555555556,
             "#d8576b"
            ],
            [
             0.6666666666666666,
             "#ed7953"
            ],
            [
             0.7777777777777778,
             "#fb9f3a"
            ],
            [
             0.8888888888888888,
             "#fdca26"
            ],
            [
             1,
             "#f0f921"
            ]
           ]
          },
          "colorway": [
           "#636efa",
           "#EF553B",
           "#00cc96",
           "#ab63fa",
           "#FFA15A",
           "#19d3f3",
           "#FF6692",
           "#B6E880",
           "#FF97FF",
           "#FECB52"
          ],
          "font": {
           "color": "#f2f5fa"
          },
          "geo": {
           "bgcolor": "rgb(17,17,17)",
           "lakecolor": "rgb(17,17,17)",
           "landcolor": "rgb(17,17,17)",
           "showlakes": true,
           "showland": true,
           "subunitcolor": "#506784"
          },
          "hoverlabel": {
           "align": "left"
          },
          "hovermode": "closest",
          "mapbox": {
           "style": "dark"
          },
          "paper_bgcolor": "rgb(17,17,17)",
          "plot_bgcolor": "rgb(17,17,17)",
          "polar": {
           "angularaxis": {
            "gridcolor": "#506784",
            "linecolor": "#506784",
            "ticks": ""
           },
           "bgcolor": "rgb(17,17,17)",
           "radialaxis": {
            "gridcolor": "#506784",
            "linecolor": "#506784",
            "ticks": ""
           }
          },
          "scene": {
           "xaxis": {
            "backgroundcolor": "rgb(17,17,17)",
            "gridcolor": "#506784",
            "gridwidth": 2,
            "linecolor": "#506784",
            "showbackground": true,
            "ticks": "",
            "zerolinecolor": "#C8D4E3"
           },
           "yaxis": {
            "backgroundcolor": "rgb(17,17,17)",
            "gridcolor": "#506784",
            "gridwidth": 2,
            "linecolor": "#506784",
            "showbackground": true,
            "ticks": "",
            "zerolinecolor": "#C8D4E3"
           },
           "zaxis": {
            "backgroundcolor": "rgb(17,17,17)",
            "gridcolor": "#506784",
            "gridwidth": 2,
            "linecolor": "#506784",
            "showbackground": true,
            "ticks": "",
            "zerolinecolor": "#C8D4E3"
           }
          },
          "shapedefaults": {
           "line": {
            "color": "#f2f5fa"
           }
          },
          "sliderdefaults": {
           "bgcolor": "#C8D4E3",
           "bordercolor": "rgb(17,17,17)",
           "borderwidth": 1,
           "tickwidth": 0
          },
          "ternary": {
           "aaxis": {
            "gridcolor": "#506784",
            "linecolor": "#506784",
            "ticks": ""
           },
           "baxis": {
            "gridcolor": "#506784",
            "linecolor": "#506784",
            "ticks": ""
           },
           "bgcolor": "rgb(17,17,17)",
           "caxis": {
            "gridcolor": "#506784",
            "linecolor": "#506784",
            "ticks": ""
           }
          },
          "title": {
           "x": 0.05
          },
          "updatemenudefaults": {
           "bgcolor": "#506784",
           "borderwidth": 0
          },
          "xaxis": {
           "automargin": true,
           "gridcolor": "#283442",
           "linecolor": "#506784",
           "ticks": "",
           "title": {
            "standoff": 15
           },
           "zerolinecolor": "#283442",
           "zerolinewidth": 2
          },
          "yaxis": {
           "automargin": true,
           "gridcolor": "#283442",
           "linecolor": "#506784",
           "ticks": "",
           "title": {
            "standoff": 15
           },
           "zerolinecolor": "#283442",
           "zerolinewidth": 2
          }
         }
        },
        "title": {
         "text": "Sample of Posterior Coefficients (95.0% CI)"
        },
        "width": 1200,
        "xaxis": {
         "title": {
          "text": "Coefficient estimate ± 95.0% CI"
         }
        },
        "yaxis": {
         "categoryarray": [
          "month_sin",
          "during_corona",
          "post_corona"
         ],
         "categoryorder": "array",
         "title": {
          "text": "Feature"
         }
        }
       }
      }
     },
     "metadata": {},
     "output_type": "display_data"
    },
    {
     "data": {
      "application/vnd.plotly.v1+json": {
       "config": {
        "plotlyServerURL": "https://plot.ly"
       },
       "data": [
        {
         "error_x": {
          "array": [],
          "arrayminus": [],
          "symmetric": false,
          "thickness": 2,
          "type": "data",
          "width": 5
         },
         "marker": {
          "color": "cyan",
          "size": 8
         },
         "mode": "markers",
         "name": "CI excludes 0",
         "type": "scatter",
         "x": [],
         "y": []
        },
        {
         "error_x": {
          "array": {
           "bdata": "AAAAUPppwj8=",
           "dtype": "f8"
          },
          "arrayminus": {
           "bdata": "AAAAABhmwj8=",
           "dtype": "f8"
          },
          "symmetric": false,
          "thickness": 2,
          "type": "data",
          "width": 5
         },
         "marker": {
          "color": "orange",
          "size": 8
         },
         "mode": "markers",
         "name": "CI includes 0",
         "type": "scatter",
         "x": {
          "bdata": "AAAAAIJ3tL8=",
          "dtype": "f8"
         },
         "y": [
          "time_log"
         ]
        }
       ],
       "layout": {
        "height": 325,
        "legend": {
         "bgcolor": "rgba(0,0,0,0)"
        },
        "margin": {
         "b": 50,
         "l": 150,
         "r": 50,
         "t": 100
        },
        "paper_bgcolor": "black",
        "plot_bgcolor": "black",
        "shapes": [
         {
          "line": {
           "color": "white",
           "dash": "dash",
           "width": 2
          },
          "type": "line",
          "x0": 0,
          "x1": 0,
          "xref": "x",
          "y0": -0.5,
          "y1": 0.5,
          "yref": "y"
         }
        ],
        "template": {
         "data": {
          "bar": [
           {
            "error_x": {
             "color": "#f2f5fa"
            },
            "error_y": {
             "color": "#f2f5fa"
            },
            "marker": {
             "line": {
              "color": "rgb(17,17,17)",
              "width": 0.5
             },
             "pattern": {
              "fillmode": "overlay",
              "size": 10,
              "solidity": 0.2
             }
            },
            "type": "bar"
           }
          ],
          "barpolar": [
           {
            "marker": {
             "line": {
              "color": "rgb(17,17,17)",
              "width": 0.5
             },
             "pattern": {
              "fillmode": "overlay",
              "size": 10,
              "solidity": 0.2
             }
            },
            "type": "barpolar"
           }
          ],
          "carpet": [
           {
            "aaxis": {
             "endlinecolor": "#A2B1C6",
             "gridcolor": "#506784",
             "linecolor": "#506784",
             "minorgridcolor": "#506784",
             "startlinecolor": "#A2B1C6"
            },
            "baxis": {
             "endlinecolor": "#A2B1C6",
             "gridcolor": "#506784",
             "linecolor": "#506784",
             "minorgridcolor": "#506784",
             "startlinecolor": "#A2B1C6"
            },
            "type": "carpet"
           }
          ],
          "choropleth": [
           {
            "colorbar": {
             "outlinewidth": 0,
             "ticks": ""
            },
            "type": "choropleth"
           }
          ],
          "contour": [
           {
            "colorbar": {
             "outlinewidth": 0,
             "ticks": ""
            },
            "colorscale": [
             [
              0,
              "#0d0887"
             ],
             [
              0.1111111111111111,
              "#46039f"
             ],
             [
              0.2222222222222222,
              "#7201a8"
             ],
             [
              0.3333333333333333,
              "#9c179e"
             ],
             [
              0.4444444444444444,
              "#bd3786"
             ],
             [
              0.5555555555555556,
              "#d8576b"
             ],
             [
              0.6666666666666666,
              "#ed7953"
             ],
             [
              0.7777777777777778,
              "#fb9f3a"
             ],
             [
              0.8888888888888888,
              "#fdca26"
             ],
             [
              1,
              "#f0f921"
             ]
            ],
            "type": "contour"
           }
          ],
          "contourcarpet": [
           {
            "colorbar": {
             "outlinewidth": 0,
             "ticks": ""
            },
            "type": "contourcarpet"
           }
          ],
          "heatmap": [
           {
            "colorbar": {
             "outlinewidth": 0,
             "ticks": ""
            },
            "colorscale": [
             [
              0,
              "#0d0887"
             ],
             [
              0.1111111111111111,
              "#46039f"
             ],
             [
              0.2222222222222222,
              "#7201a8"
             ],
             [
              0.3333333333333333,
              "#9c179e"
             ],
             [
              0.4444444444444444,
              "#bd3786"
             ],
             [
              0.5555555555555556,
              "#d8576b"
             ],
             [
              0.6666666666666666,
              "#ed7953"
             ],
             [
              0.7777777777777778,
              "#fb9f3a"
             ],
             [
              0.8888888888888888,
              "#fdca26"
             ],
             [
              1,
              "#f0f921"
             ]
            ],
            "type": "heatmap"
           }
          ],
          "histogram": [
           {
            "marker": {
             "pattern": {
              "fillmode": "overlay",
              "size": 10,
              "solidity": 0.2
             }
            },
            "type": "histogram"
           }
          ],
          "histogram2d": [
           {
            "colorbar": {
             "outlinewidth": 0,
             "ticks": ""
            },
            "colorscale": [
             [
              0,
              "#0d0887"
             ],
             [
              0.1111111111111111,
              "#46039f"
             ],
             [
              0.2222222222222222,
              "#7201a8"
             ],
             [
              0.3333333333333333,
              "#9c179e"
             ],
             [
              0.4444444444444444,
              "#bd3786"
             ],
             [
              0.5555555555555556,
              "#d8576b"
             ],
             [
              0.6666666666666666,
              "#ed7953"
             ],
             [
              0.7777777777777778,
              "#fb9f3a"
             ],
             [
              0.8888888888888888,
              "#fdca26"
             ],
             [
              1,
              "#f0f921"
             ]
            ],
            "type": "histogram2d"
           }
          ],
          "histogram2dcontour": [
           {
            "colorbar": {
             "outlinewidth": 0,
             "ticks": ""
            },
            "colorscale": [
             [
              0,
              "#0d0887"
             ],
             [
              0.1111111111111111,
              "#46039f"
             ],
             [
              0.2222222222222222,
              "#7201a8"
             ],
             [
              0.3333333333333333,
              "#9c179e"
             ],
             [
              0.4444444444444444,
              "#bd3786"
             ],
             [
              0.5555555555555556,
              "#d8576b"
             ],
             [
              0.6666666666666666,
              "#ed7953"
             ],
             [
              0.7777777777777778,
              "#fb9f3a"
             ],
             [
              0.8888888888888888,
              "#fdca26"
             ],
             [
              1,
              "#f0f921"
             ]
            ],
            "type": "histogram2dcontour"
           }
          ],
          "mesh3d": [
           {
            "colorbar": {
             "outlinewidth": 0,
             "ticks": ""
            },
            "type": "mesh3d"
           }
          ],
          "parcoords": [
           {
            "line": {
             "colorbar": {
              "outlinewidth": 0,
              "ticks": ""
             }
            },
            "type": "parcoords"
           }
          ],
          "pie": [
           {
            "automargin": true,
            "type": "pie"
           }
          ],
          "scatter": [
           {
            "marker": {
             "line": {
              "color": "#283442"
             }
            },
            "type": "scatter"
           }
          ],
          "scatter3d": [
           {
            "line": {
             "colorbar": {
              "outlinewidth": 0,
              "ticks": ""
             }
            },
            "marker": {
             "colorbar": {
              "outlinewidth": 0,
              "ticks": ""
             }
            },
            "type": "scatter3d"
           }
          ],
          "scattercarpet": [
           {
            "marker": {
             "colorbar": {
              "outlinewidth": 0,
              "ticks": ""
             }
            },
            "type": "scattercarpet"
           }
          ],
          "scattergeo": [
           {
            "marker": {
             "colorbar": {
              "outlinewidth": 0,
              "ticks": ""
             }
            },
            "type": "scattergeo"
           }
          ],
          "scattergl": [
           {
            "marker": {
             "line": {
              "color": "#283442"
             }
            },
            "type": "scattergl"
           }
          ],
          "scattermap": [
           {
            "marker": {
             "colorbar": {
              "outlinewidth": 0,
              "ticks": ""
             }
            },
            "type": "scattermap"
           }
          ],
          "scattermapbox": [
           {
            "marker": {
             "colorbar": {
              "outlinewidth": 0,
              "ticks": ""
             }
            },
            "type": "scattermapbox"
           }
          ],
          "scatterpolar": [
           {
            "marker": {
             "colorbar": {
              "outlinewidth": 0,
              "ticks": ""
             }
            },
            "type": "scatterpolar"
           }
          ],
          "scatterpolargl": [
           {
            "marker": {
             "colorbar": {
              "outlinewidth": 0,
              "ticks": ""
             }
            },
            "type": "scatterpolargl"
           }
          ],
          "scatterternary": [
           {
            "marker": {
             "colorbar": {
              "outlinewidth": 0,
              "ticks": ""
             }
            },
            "type": "scatterternary"
           }
          ],
          "surface": [
           {
            "colorbar": {
             "outlinewidth": 0,
             "ticks": ""
            },
            "colorscale": [
             [
              0,
              "#0d0887"
             ],
             [
              0.1111111111111111,
              "#46039f"
             ],
             [
              0.2222222222222222,
              "#7201a8"
             ],
             [
              0.3333333333333333,
              "#9c179e"
             ],
             [
              0.4444444444444444,
              "#bd3786"
             ],
             [
              0.5555555555555556,
              "#d8576b"
             ],
             [
              0.6666666666666666,
              "#ed7953"
             ],
             [
              0.7777777777777778,
              "#fb9f3a"
             ],
             [
              0.8888888888888888,
              "#fdca26"
             ],
             [
              1,
              "#f0f921"
             ]
            ],
            "type": "surface"
           }
          ],
          "table": [
           {
            "cells": {
             "fill": {
              "color": "#506784"
             },
             "line": {
              "color": "rgb(17,17,17)"
             }
            },
            "header": {
             "fill": {
              "color": "#2a3f5f"
             },
             "line": {
              "color": "rgb(17,17,17)"
             }
            },
            "type": "table"
           }
          ]
         },
         "layout": {
          "annotationdefaults": {
           "arrowcolor": "#f2f5fa",
           "arrowhead": 0,
           "arrowwidth": 1
          },
          "autotypenumbers": "strict",
          "coloraxis": {
           "colorbar": {
            "outlinewidth": 0,
            "ticks": ""
           }
          },
          "colorscale": {
           "diverging": [
            [
             0,
             "#8e0152"
            ],
            [
             0.1,
             "#c51b7d"
            ],
            [
             0.2,
             "#de77ae"
            ],
            [
             0.3,
             "#f1b6da"
            ],
            [
             0.4,
             "#fde0ef"
            ],
            [
             0.5,
             "#f7f7f7"
            ],
            [
             0.6,
             "#e6f5d0"
            ],
            [
             0.7,
             "#b8e186"
            ],
            [
             0.8,
             "#7fbc41"
            ],
            [
             0.9,
             "#4d9221"
            ],
            [
             1,
             "#276419"
            ]
           ],
           "sequential": [
            [
             0,
             "#0d0887"
            ],
            [
             0.1111111111111111,
             "#46039f"
            ],
            [
             0.2222222222222222,
             "#7201a8"
            ],
            [
             0.3333333333333333,
             "#9c179e"
            ],
            [
             0.4444444444444444,
             "#bd3786"
            ],
            [
             0.5555555555555556,
             "#d8576b"
            ],
            [
             0.6666666666666666,
             "#ed7953"
            ],
            [
             0.7777777777777778,
             "#fb9f3a"
            ],
            [
             0.8888888888888888,
             "#fdca26"
            ],
            [
             1,
             "#f0f921"
            ]
           ],
           "sequentialminus": [
            [
             0,
             "#0d0887"
            ],
            [
             0.1111111111111111,
             "#46039f"
            ],
            [
             0.2222222222222222,
             "#7201a8"
            ],
            [
             0.3333333333333333,
             "#9c179e"
            ],
            [
             0.4444444444444444,
             "#bd3786"
            ],
            [
             0.5555555555555556,
             "#d8576b"
            ],
            [
             0.6666666666666666,
             "#ed7953"
            ],
            [
             0.7777777777777778,
             "#fb9f3a"
            ],
            [
             0.8888888888888888,
             "#fdca26"
            ],
            [
             1,
             "#f0f921"
            ]
           ]
          },
          "colorway": [
           "#636efa",
           "#EF553B",
           "#00cc96",
           "#ab63fa",
           "#FFA15A",
           "#19d3f3",
           "#FF6692",
           "#B6E880",
           "#FF97FF",
           "#FECB52"
          ],
          "font": {
           "color": "#f2f5fa"
          },
          "geo": {
           "bgcolor": "rgb(17,17,17)",
           "lakecolor": "rgb(17,17,17)",
           "landcolor": "rgb(17,17,17)",
           "showlakes": true,
           "showland": true,
           "subunitcolor": "#506784"
          },
          "hoverlabel": {
           "align": "left"
          },
          "hovermode": "closest",
          "mapbox": {
           "style": "dark"
          },
          "paper_bgcolor": "rgb(17,17,17)",
          "plot_bgcolor": "rgb(17,17,17)",
          "polar": {
           "angularaxis": {
            "gridcolor": "#506784",
            "linecolor": "#506784",
            "ticks": ""
           },
           "bgcolor": "rgb(17,17,17)",
           "radialaxis": {
            "gridcolor": "#506784",
            "linecolor": "#506784",
            "ticks": ""
           }
          },
          "scene": {
           "xaxis": {
            "backgroundcolor": "rgb(17,17,17)",
            "gridcolor": "#506784",
            "gridwidth": 2,
            "linecolor": "#506784",
            "showbackground": true,
            "ticks": "",
            "zerolinecolor": "#C8D4E3"
           },
           "yaxis": {
            "backgroundcolor": "rgb(17,17,17)",
            "gridcolor": "#506784",
            "gridwidth": 2,
            "linecolor": "#506784",
            "showbackground": true,
            "ticks": "",
            "zerolinecolor": "#C8D4E3"
           },
           "zaxis": {
            "backgroundcolor": "rgb(17,17,17)",
            "gridcolor": "#506784",
            "gridwidth": 2,
            "linecolor": "#506784",
            "showbackground": true,
            "ticks": "",
            "zerolinecolor": "#C8D4E3"
           }
          },
          "shapedefaults": {
           "line": {
            "color": "#f2f5fa"
           }
          },
          "sliderdefaults": {
           "bgcolor": "#C8D4E3",
           "bordercolor": "rgb(17,17,17)",
           "borderwidth": 1,
           "tickwidth": 0
          },
          "ternary": {
           "aaxis": {
            "gridcolor": "#506784",
            "linecolor": "#506784",
            "ticks": ""
           },
           "baxis": {
            "gridcolor": "#506784",
            "linecolor": "#506784",
            "ticks": ""
           },
           "bgcolor": "rgb(17,17,17)",
           "caxis": {
            "gridcolor": "#506784",
            "linecolor": "#506784",
            "ticks": ""
           }
          },
          "title": {
           "x": 0.05
          },
          "updatemenudefaults": {
           "bgcolor": "#506784",
           "borderwidth": 0
          },
          "xaxis": {
           "automargin": true,
           "gridcolor": "#283442",
           "linecolor": "#506784",
           "ticks": "",
           "title": {
            "standoff": 15
           },
           "zerolinecolor": "#283442",
           "zerolinewidth": 2
          },
          "yaxis": {
           "automargin": true,
           "gridcolor": "#283442",
           "linecolor": "#506784",
           "ticks": "",
           "title": {
            "standoff": 15
           },
           "zerolinecolor": "#283442",
           "zerolinewidth": 2
          }
         }
        },
        "title": {
         "text": "Sample of Posterior Coefficients (95.0% CI)"
        },
        "width": 1200,
        "xaxis": {
         "title": {
          "text": "Coefficient estimate ± 95.0% CI"
         }
        },
        "yaxis": {
         "categoryarray": [
          "time_log"
         ],
         "categoryorder": "array",
         "title": {
          "text": "Feature"
         }
        }
       }
      }
     },
     "metadata": {},
     "output_type": "display_data"
    },
    {
     "data": {
      "application/vnd.plotly.v1+json": {
       "config": {
        "plotlyServerURL": "https://plot.ly"
       },
       "data": [
        {
         "error_x": {
          "array": [],
          "arrayminus": [],
          "symmetric": false,
          "thickness": 2,
          "type": "data",
          "width": 5
         },
         "marker": {
          "color": "cyan",
          "size": 8
         },
         "mode": "markers",
         "name": "CI excludes 0",
         "type": "scatter",
         "x": [],
         "y": []
        },
        {
         "error_x": {
          "array": {
           "bdata": "AAAAQCUwxD8=",
           "dtype": "f8"
          },
          "arrayminus": {
           "bdata": "AAAAejX8wz8=",
           "dtype": "f8"
          },
          "symmetric": false,
          "thickness": 2,
          "type": "data",
          "width": 5
         },
         "marker": {
          "color": "orange",
          "size": 8
         },
         "mode": "markers",
         "name": "CI includes 0",
         "type": "scatter",
         "x": {
          "bdata": "AAAAgFKVwj8=",
          "dtype": "f8"
         },
         "y": [
          "lag_1"
         ]
        }
       ],
       "layout": {
        "height": 325,
        "legend": {
         "bgcolor": "rgba(0,0,0,0)"
        },
        "margin": {
         "b": 50,
         "l": 150,
         "r": 50,
         "t": 100
        },
        "paper_bgcolor": "black",
        "plot_bgcolor": "black",
        "shapes": [
         {
          "line": {
           "color": "white",
           "dash": "dash",
           "width": 2
          },
          "type": "line",
          "x0": 0,
          "x1": 0,
          "xref": "x",
          "y0": -0.5,
          "y1": 0.5,
          "yref": "y"
         }
        ],
        "template": {
         "data": {
          "bar": [
           {
            "error_x": {
             "color": "#f2f5fa"
            },
            "error_y": {
             "color": "#f2f5fa"
            },
            "marker": {
             "line": {
              "color": "rgb(17,17,17)",
              "width": 0.5
             },
             "pattern": {
              "fillmode": "overlay",
              "size": 10,
              "solidity": 0.2
             }
            },
            "type": "bar"
           }
          ],
          "barpolar": [
           {
            "marker": {
             "line": {
              "color": "rgb(17,17,17)",
              "width": 0.5
             },
             "pattern": {
              "fillmode": "overlay",
              "size": 10,
              "solidity": 0.2
             }
            },
            "type": "barpolar"
           }
          ],
          "carpet": [
           {
            "aaxis": {
             "endlinecolor": "#A2B1C6",
             "gridcolor": "#506784",
             "linecolor": "#506784",
             "minorgridcolor": "#506784",
             "startlinecolor": "#A2B1C6"
            },
            "baxis": {
             "endlinecolor": "#A2B1C6",
             "gridcolor": "#506784",
             "linecolor": "#506784",
             "minorgridcolor": "#506784",
             "startlinecolor": "#A2B1C6"
            },
            "type": "carpet"
           }
          ],
          "choropleth": [
           {
            "colorbar": {
             "outlinewidth": 0,
             "ticks": ""
            },
            "type": "choropleth"
           }
          ],
          "contour": [
           {
            "colorbar": {
             "outlinewidth": 0,
             "ticks": ""
            },
            "colorscale": [
             [
              0,
              "#0d0887"
             ],
             [
              0.1111111111111111,
              "#46039f"
             ],
             [
              0.2222222222222222,
              "#7201a8"
             ],
             [
              0.3333333333333333,
              "#9c179e"
             ],
             [
              0.4444444444444444,
              "#bd3786"
             ],
             [
              0.5555555555555556,
              "#d8576b"
             ],
             [
              0.6666666666666666,
              "#ed7953"
             ],
             [
              0.7777777777777778,
              "#fb9f3a"
             ],
             [
              0.8888888888888888,
              "#fdca26"
             ],
             [
              1,
              "#f0f921"
             ]
            ],
            "type": "contour"
           }
          ],
          "contourcarpet": [
           {
            "colorbar": {
             "outlinewidth": 0,
             "ticks": ""
            },
            "type": "contourcarpet"
           }
          ],
          "heatmap": [
           {
            "colorbar": {
             "outlinewidth": 0,
             "ticks": ""
            },
            "colorscale": [
             [
              0,
              "#0d0887"
             ],
             [
              0.1111111111111111,
              "#46039f"
             ],
             [
              0.2222222222222222,
              "#7201a8"
             ],
             [
              0.3333333333333333,
              "#9c179e"
             ],
             [
              0.4444444444444444,
              "#bd3786"
             ],
             [
              0.5555555555555556,
              "#d8576b"
             ],
             [
              0.6666666666666666,
              "#ed7953"
             ],
             [
              0.7777777777777778,
              "#fb9f3a"
             ],
             [
              0.8888888888888888,
              "#fdca26"
             ],
             [
              1,
              "#f0f921"
             ]
            ],
            "type": "heatmap"
           }
          ],
          "histogram": [
           {
            "marker": {
             "pattern": {
              "fillmode": "overlay",
              "size": 10,
              "solidity": 0.2
             }
            },
            "type": "histogram"
           }
          ],
          "histogram2d": [
           {
            "colorbar": {
             "outlinewidth": 0,
             "ticks": ""
            },
            "colorscale": [
             [
              0,
              "#0d0887"
             ],
             [
              0.1111111111111111,
              "#46039f"
             ],
             [
              0.2222222222222222,
              "#7201a8"
             ],
             [
              0.3333333333333333,
              "#9c179e"
             ],
             [
              0.4444444444444444,
              "#bd3786"
             ],
             [
              0.5555555555555556,
              "#d8576b"
             ],
             [
              0.6666666666666666,
              "#ed7953"
             ],
             [
              0.7777777777777778,
              "#fb9f3a"
             ],
             [
              0.8888888888888888,
              "#fdca26"
             ],
             [
              1,
              "#f0f921"
             ]
            ],
            "type": "histogram2d"
           }
          ],
          "histogram2dcontour": [
           {
            "colorbar": {
             "outlinewidth": 0,
             "ticks": ""
            },
            "colorscale": [
             [
              0,
              "#0d0887"
             ],
             [
              0.1111111111111111,
              "#46039f"
             ],
             [
              0.2222222222222222,
              "#7201a8"
             ],
             [
              0.3333333333333333,
              "#9c179e"
             ],
             [
              0.4444444444444444,
              "#bd3786"
             ],
             [
              0.5555555555555556,
              "#d8576b"
             ],
             [
              0.6666666666666666,
              "#ed7953"
             ],
             [
              0.7777777777777778,
              "#fb9f3a"
             ],
             [
              0.8888888888888888,
              "#fdca26"
             ],
             [
              1,
              "#f0f921"
             ]
            ],
            "type": "histogram2dcontour"
           }
          ],
          "mesh3d": [
           {
            "colorbar": {
             "outlinewidth": 0,
             "ticks": ""
            },
            "type": "mesh3d"
           }
          ],
          "parcoords": [
           {
            "line": {
             "colorbar": {
              "outlinewidth": 0,
              "ticks": ""
             }
            },
            "type": "parcoords"
           }
          ],
          "pie": [
           {
            "automargin": true,
            "type": "pie"
           }
          ],
          "scatter": [
           {
            "marker": {
             "line": {
              "color": "#283442"
             }
            },
            "type": "scatter"
           }
          ],
          "scatter3d": [
           {
            "line": {
             "colorbar": {
              "outlinewidth": 0,
              "ticks": ""
             }
            },
            "marker": {
             "colorbar": {
              "outlinewidth": 0,
              "ticks": ""
             }
            },
            "type": "scatter3d"
           }
          ],
          "scattercarpet": [
           {
            "marker": {
             "colorbar": {
              "outlinewidth": 0,
              "ticks": ""
             }
            },
            "type": "scattercarpet"
           }
          ],
          "scattergeo": [
           {
            "marker": {
             "colorbar": {
              "outlinewidth": 0,
              "ticks": ""
             }
            },
            "type": "scattergeo"
           }
          ],
          "scattergl": [
           {
            "marker": {
             "line": {
              "color": "#283442"
             }
            },
            "type": "scattergl"
           }
          ],
          "scattermap": [
           {
            "marker": {
             "colorbar": {
              "outlinewidth": 0,
              "ticks": ""
             }
            },
            "type": "scattermap"
           }
          ],
          "scattermapbox": [
           {
            "marker": {
             "colorbar": {
              "outlinewidth": 0,
              "ticks": ""
             }
            },
            "type": "scattermapbox"
           }
          ],
          "scatterpolar": [
           {
            "marker": {
             "colorbar": {
              "outlinewidth": 0,
              "ticks": ""
             }
            },
            "type": "scatterpolar"
           }
          ],
          "scatterpolargl": [
           {
            "marker": {
             "colorbar": {
              "outlinewidth": 0,
              "ticks": ""
             }
            },
            "type": "scatterpolargl"
           }
          ],
          "scatterternary": [
           {
            "marker": {
             "colorbar": {
              "outlinewidth": 0,
              "ticks": ""
             }
            },
            "type": "scatterternary"
           }
          ],
          "surface": [
           {
            "colorbar": {
             "outlinewidth": 0,
             "ticks": ""
            },
            "colorscale": [
             [
              0,
              "#0d0887"
             ],
             [
              0.1111111111111111,
              "#46039f"
             ],
             [
              0.2222222222222222,
              "#7201a8"
             ],
             [
              0.3333333333333333,
              "#9c179e"
             ],
             [
              0.4444444444444444,
              "#bd3786"
             ],
             [
              0.5555555555555556,
              "#d8576b"
             ],
             [
              0.6666666666666666,
              "#ed7953"
             ],
             [
              0.7777777777777778,
              "#fb9f3a"
             ],
             [
              0.8888888888888888,
              "#fdca26"
             ],
             [
              1,
              "#f0f921"
             ]
            ],
            "type": "surface"
           }
          ],
          "table": [
           {
            "cells": {
             "fill": {
              "color": "#506784"
             },
             "line": {
              "color": "rgb(17,17,17)"
             }
            },
            "header": {
             "fill": {
              "color": "#2a3f5f"
             },
             "line": {
              "color": "rgb(17,17,17)"
             }
            },
            "type": "table"
           }
          ]
         },
         "layout": {
          "annotationdefaults": {
           "arrowcolor": "#f2f5fa",
           "arrowhead": 0,
           "arrowwidth": 1
          },
          "autotypenumbers": "strict",
          "coloraxis": {
           "colorbar": {
            "outlinewidth": 0,
            "ticks": ""
           }
          },
          "colorscale": {
           "diverging": [
            [
             0,
             "#8e0152"
            ],
            [
             0.1,
             "#c51b7d"
            ],
            [
             0.2,
             "#de77ae"
            ],
            [
             0.3,
             "#f1b6da"
            ],
            [
             0.4,
             "#fde0ef"
            ],
            [
             0.5,
             "#f7f7f7"
            ],
            [
             0.6,
             "#e6f5d0"
            ],
            [
             0.7,
             "#b8e186"
            ],
            [
             0.8,
             "#7fbc41"
            ],
            [
             0.9,
             "#4d9221"
            ],
            [
             1,
             "#276419"
            ]
           ],
           "sequential": [
            [
             0,
             "#0d0887"
            ],
            [
             0.1111111111111111,
             "#46039f"
            ],
            [
             0.2222222222222222,
             "#7201a8"
            ],
            [
             0.3333333333333333,
             "#9c179e"
            ],
            [
             0.4444444444444444,
             "#bd3786"
            ],
            [
             0.5555555555555556,
             "#d8576b"
            ],
            [
             0.6666666666666666,
             "#ed7953"
            ],
            [
             0.7777777777777778,
             "#fb9f3a"
            ],
            [
             0.8888888888888888,
             "#fdca26"
            ],
            [
             1,
             "#f0f921"
            ]
           ],
           "sequentialminus": [
            [
             0,
             "#0d0887"
            ],
            [
             0.1111111111111111,
             "#46039f"
            ],
            [
             0.2222222222222222,
             "#7201a8"
            ],
            [
             0.3333333333333333,
             "#9c179e"
            ],
            [
             0.4444444444444444,
             "#bd3786"
            ],
            [
             0.5555555555555556,
             "#d8576b"
            ],
            [
             0.6666666666666666,
             "#ed7953"
            ],
            [
             0.7777777777777778,
             "#fb9f3a"
            ],
            [
             0.8888888888888888,
             "#fdca26"
            ],
            [
             1,
             "#f0f921"
            ]
           ]
          },
          "colorway": [
           "#636efa",
           "#EF553B",
           "#00cc96",
           "#ab63fa",
           "#FFA15A",
           "#19d3f3",
           "#FF6692",
           "#B6E880",
           "#FF97FF",
           "#FECB52"
          ],
          "font": {
           "color": "#f2f5fa"
          },
          "geo": {
           "bgcolor": "rgb(17,17,17)",
           "lakecolor": "rgb(17,17,17)",
           "landcolor": "rgb(17,17,17)",
           "showlakes": true,
           "showland": true,
           "subunitcolor": "#506784"
          },
          "hoverlabel": {
           "align": "left"
          },
          "hovermode": "closest",
          "mapbox": {
           "style": "dark"
          },
          "paper_bgcolor": "rgb(17,17,17)",
          "plot_bgcolor": "rgb(17,17,17)",
          "polar": {
           "angularaxis": {
            "gridcolor": "#506784",
            "linecolor": "#506784",
            "ticks": ""
           },
           "bgcolor": "rgb(17,17,17)",
           "radialaxis": {
            "gridcolor": "#506784",
            "linecolor": "#506784",
            "ticks": ""
           }
          },
          "scene": {
           "xaxis": {
            "backgroundcolor": "rgb(17,17,17)",
            "gridcolor": "#506784",
            "gridwidth": 2,
            "linecolor": "#506784",
            "showbackground": true,
            "ticks": "",
            "zerolinecolor": "#C8D4E3"
           },
           "yaxis": {
            "backgroundcolor": "rgb(17,17,17)",
            "gridcolor": "#506784",
            "gridwidth": 2,
            "linecolor": "#506784",
            "showbackground": true,
            "ticks": "",
            "zerolinecolor": "#C8D4E3"
           },
           "zaxis": {
            "backgroundcolor": "rgb(17,17,17)",
            "gridcolor": "#506784",
            "gridwidth": 2,
            "linecolor": "#506784",
            "showbackground": true,
            "ticks": "",
            "zerolinecolor": "#C8D4E3"
           }
          },
          "shapedefaults": {
           "line": {
            "color": "#f2f5fa"
           }
          },
          "sliderdefaults": {
           "bgcolor": "#C8D4E3",
           "bordercolor": "rgb(17,17,17)",
           "borderwidth": 1,
           "tickwidth": 0
          },
          "ternary": {
           "aaxis": {
            "gridcolor": "#506784",
            "linecolor": "#506784",
            "ticks": ""
           },
           "baxis": {
            "gridcolor": "#506784",
            "linecolor": "#506784",
            "ticks": ""
           },
           "bgcolor": "rgb(17,17,17)",
           "caxis": {
            "gridcolor": "#506784",
            "linecolor": "#506784",
            "ticks": ""
           }
          },
          "title": {
           "x": 0.05
          },
          "updatemenudefaults": {
           "bgcolor": "#506784",
           "borderwidth": 0
          },
          "xaxis": {
           "automargin": true,
           "gridcolor": "#283442",
           "linecolor": "#506784",
           "ticks": "",
           "title": {
            "standoff": 15
           },
           "zerolinecolor": "#283442",
           "zerolinewidth": 2
          },
          "yaxis": {
           "automargin": true,
           "gridcolor": "#283442",
           "linecolor": "#506784",
           "ticks": "",
           "title": {
            "standoff": 15
           },
           "zerolinecolor": "#283442",
           "zerolinewidth": 2
          }
         }
        },
        "title": {
         "text": "Sample of Posterior Coefficients (95.0% CI)"
        },
        "width": 1200,
        "xaxis": {
         "title": {
          "text": "Coefficient estimate ± 95.0% CI"
         }
        },
        "yaxis": {
         "categoryarray": [
          "lag_1"
         ],
         "categoryorder": "array",
         "title": {
          "text": "Feature"
         }
        }
       }
      }
     },
     "metadata": {},
     "output_type": "display_data"
    },
    {
     "data": {
      "application/vnd.plotly.v1+json": {
       "config": {
        "plotlyServerURL": "https://plot.ly"
       },
       "data": [
        {
         "error_x": {
          "array": [],
          "arrayminus": [],
          "symmetric": false,
          "thickness": 2,
          "type": "data",
          "width": 5
         },
         "marker": {
          "color": "cyan",
          "size": 8
         },
         "mode": "markers",
         "name": "CI excludes 0",
         "type": "scatter",
         "x": [],
         "y": []
        },
        {
         "error_x": {
          "array": {
           "bdata": "AAAAQJuQwz8=",
           "dtype": "f8"
          },
          "arrayminus": {
           "bdata": "AAAAwN9Zwz8=",
           "dtype": "f8"
          },
          "symmetric": false,
          "thickness": 2,
          "type": "data",
          "width": 5
         },
         "marker": {
          "color": "orange",
          "size": 8
         },
         "mode": "markers",
         "name": "CI includes 0",
         "type": "scatter",
         "x": {
          "bdata": "AAAAABqDgT8=",
          "dtype": "f8"
         },
         "y": [
          "lag1_median_neighbors"
         ]
        }
       ],
       "layout": {
        "height": 325,
        "legend": {
         "bgcolor": "rgba(0,0,0,0)"
        },
        "margin": {
         "b": 50,
         "l": 150,
         "r": 50,
         "t": 100
        },
        "paper_bgcolor": "black",
        "plot_bgcolor": "black",
        "shapes": [
         {
          "line": {
           "color": "white",
           "dash": "dash",
           "width": 2
          },
          "type": "line",
          "x0": 0,
          "x1": 0,
          "xref": "x",
          "y0": -0.5,
          "y1": 0.5,
          "yref": "y"
         }
        ],
        "template": {
         "data": {
          "bar": [
           {
            "error_x": {
             "color": "#f2f5fa"
            },
            "error_y": {
             "color": "#f2f5fa"
            },
            "marker": {
             "line": {
              "color": "rgb(17,17,17)",
              "width": 0.5
             },
             "pattern": {
              "fillmode": "overlay",
              "size": 10,
              "solidity": 0.2
             }
            },
            "type": "bar"
           }
          ],
          "barpolar": [
           {
            "marker": {
             "line": {
              "color": "rgb(17,17,17)",
              "width": 0.5
             },
             "pattern": {
              "fillmode": "overlay",
              "size": 10,
              "solidity": 0.2
             }
            },
            "type": "barpolar"
           }
          ],
          "carpet": [
           {
            "aaxis": {
             "endlinecolor": "#A2B1C6",
             "gridcolor": "#506784",
             "linecolor": "#506784",
             "minorgridcolor": "#506784",
             "startlinecolor": "#A2B1C6"
            },
            "baxis": {
             "endlinecolor": "#A2B1C6",
             "gridcolor": "#506784",
             "linecolor": "#506784",
             "minorgridcolor": "#506784",
             "startlinecolor": "#A2B1C6"
            },
            "type": "carpet"
           }
          ],
          "choropleth": [
           {
            "colorbar": {
             "outlinewidth": 0,
             "ticks": ""
            },
            "type": "choropleth"
           }
          ],
          "contour": [
           {
            "colorbar": {
             "outlinewidth": 0,
             "ticks": ""
            },
            "colorscale": [
             [
              0,
              "#0d0887"
             ],
             [
              0.1111111111111111,
              "#46039f"
             ],
             [
              0.2222222222222222,
              "#7201a8"
             ],
             [
              0.3333333333333333,
              "#9c179e"
             ],
             [
              0.4444444444444444,
              "#bd3786"
             ],
             [
              0.5555555555555556,
              "#d8576b"
             ],
             [
              0.6666666666666666,
              "#ed7953"
             ],
             [
              0.7777777777777778,
              "#fb9f3a"
             ],
             [
              0.8888888888888888,
              "#fdca26"
             ],
             [
              1,
              "#f0f921"
             ]
            ],
            "type": "contour"
           }
          ],
          "contourcarpet": [
           {
            "colorbar": {
             "outlinewidth": 0,
             "ticks": ""
            },
            "type": "contourcarpet"
           }
          ],
          "heatmap": [
           {
            "colorbar": {
             "outlinewidth": 0,
             "ticks": ""
            },
            "colorscale": [
             [
              0,
              "#0d0887"
             ],
             [
              0.1111111111111111,
              "#46039f"
             ],
             [
              0.2222222222222222,
              "#7201a8"
             ],
             [
              0.3333333333333333,
              "#9c179e"
             ],
             [
              0.4444444444444444,
              "#bd3786"
             ],
             [
              0.5555555555555556,
              "#d8576b"
             ],
             [
              0.6666666666666666,
              "#ed7953"
             ],
             [
              0.7777777777777778,
              "#fb9f3a"
             ],
             [
              0.8888888888888888,
              "#fdca26"
             ],
             [
              1,
              "#f0f921"
             ]
            ],
            "type": "heatmap"
           }
          ],
          "histogram": [
           {
            "marker": {
             "pattern": {
              "fillmode": "overlay",
              "size": 10,
              "solidity": 0.2
             }
            },
            "type": "histogram"
           }
          ],
          "histogram2d": [
           {
            "colorbar": {
             "outlinewidth": 0,
             "ticks": ""
            },
            "colorscale": [
             [
              0,
              "#0d0887"
             ],
             [
              0.1111111111111111,
              "#46039f"
             ],
             [
              0.2222222222222222,
              "#7201a8"
             ],
             [
              0.3333333333333333,
              "#9c179e"
             ],
             [
              0.4444444444444444,
              "#bd3786"
             ],
             [
              0.5555555555555556,
              "#d8576b"
             ],
             [
              0.6666666666666666,
              "#ed7953"
             ],
             [
              0.7777777777777778,
              "#fb9f3a"
             ],
             [
              0.8888888888888888,
              "#fdca26"
             ],
             [
              1,
              "#f0f921"
             ]
            ],
            "type": "histogram2d"
           }
          ],
          "histogram2dcontour": [
           {
            "colorbar": {
             "outlinewidth": 0,
             "ticks": ""
            },
            "colorscale": [
             [
              0,
              "#0d0887"
             ],
             [
              0.1111111111111111,
              "#46039f"
             ],
             [
              0.2222222222222222,
              "#7201a8"
             ],
             [
              0.3333333333333333,
              "#9c179e"
             ],
             [
              0.4444444444444444,
              "#bd3786"
             ],
             [
              0.5555555555555556,
              "#d8576b"
             ],
             [
              0.6666666666666666,
              "#ed7953"
             ],
             [
              0.7777777777777778,
              "#fb9f3a"
             ],
             [
              0.8888888888888888,
              "#fdca26"
             ],
             [
              1,
              "#f0f921"
             ]
            ],
            "type": "histogram2dcontour"
           }
          ],
          "mesh3d": [
           {
            "colorbar": {
             "outlinewidth": 0,
             "ticks": ""
            },
            "type": "mesh3d"
           }
          ],
          "parcoords": [
           {
            "line": {
             "colorbar": {
              "outlinewidth": 0,
              "ticks": ""
             }
            },
            "type": "parcoords"
           }
          ],
          "pie": [
           {
            "automargin": true,
            "type": "pie"
           }
          ],
          "scatter": [
           {
            "marker": {
             "line": {
              "color": "#283442"
             }
            },
            "type": "scatter"
           }
          ],
          "scatter3d": [
           {
            "line": {
             "colorbar": {
              "outlinewidth": 0,
              "ticks": ""
             }
            },
            "marker": {
             "colorbar": {
              "outlinewidth": 0,
              "ticks": ""
             }
            },
            "type": "scatter3d"
           }
          ],
          "scattercarpet": [
           {
            "marker": {
             "colorbar": {
              "outlinewidth": 0,
              "ticks": ""
             }
            },
            "type": "scattercarpet"
           }
          ],
          "scattergeo": [
           {
            "marker": {
             "colorbar": {
              "outlinewidth": 0,
              "ticks": ""
             }
            },
            "type": "scattergeo"
           }
          ],
          "scattergl": [
           {
            "marker": {
             "line": {
              "color": "#283442"
             }
            },
            "type": "scattergl"
           }
          ],
          "scattermap": [
           {
            "marker": {
             "colorbar": {
              "outlinewidth": 0,
              "ticks": ""
             }
            },
            "type": "scattermap"
           }
          ],
          "scattermapbox": [
           {
            "marker": {
             "colorbar": {
              "outlinewidth": 0,
              "ticks": ""
             }
            },
            "type": "scattermapbox"
           }
          ],
          "scatterpolar": [
           {
            "marker": {
             "colorbar": {
              "outlinewidth": 0,
              "ticks": ""
             }
            },
            "type": "scatterpolar"
           }
          ],
          "scatterpolargl": [
           {
            "marker": {
             "colorbar": {
              "outlinewidth": 0,
              "ticks": ""
             }
            },
            "type": "scatterpolargl"
           }
          ],
          "scatterternary": [
           {
            "marker": {
             "colorbar": {
              "outlinewidth": 0,
              "ticks": ""
             }
            },
            "type": "scatterternary"
           }
          ],
          "surface": [
           {
            "colorbar": {
             "outlinewidth": 0,
             "ticks": ""
            },
            "colorscale": [
             [
              0,
              "#0d0887"
             ],
             [
              0.1111111111111111,
              "#46039f"
             ],
             [
              0.2222222222222222,
              "#7201a8"
             ],
             [
              0.3333333333333333,
              "#9c179e"
             ],
             [
              0.4444444444444444,
              "#bd3786"
             ],
             [
              0.5555555555555556,
              "#d8576b"
             ],
             [
              0.6666666666666666,
              "#ed7953"
             ],
             [
              0.7777777777777778,
              "#fb9f3a"
             ],
             [
              0.8888888888888888,
              "#fdca26"
             ],
             [
              1,
              "#f0f921"
             ]
            ],
            "type": "surface"
           }
          ],
          "table": [
           {
            "cells": {
             "fill": {
              "color": "#506784"
             },
             "line": {
              "color": "rgb(17,17,17)"
             }
            },
            "header": {
             "fill": {
              "color": "#2a3f5f"
             },
             "line": {
              "color": "rgb(17,17,17)"
             }
            },
            "type": "table"
           }
          ]
         },
         "layout": {
          "annotationdefaults": {
           "arrowcolor": "#f2f5fa",
           "arrowhead": 0,
           "arrowwidth": 1
          },
          "autotypenumbers": "strict",
          "coloraxis": {
           "colorbar": {
            "outlinewidth": 0,
            "ticks": ""
           }
          },
          "colorscale": {
           "diverging": [
            [
             0,
             "#8e0152"
            ],
            [
             0.1,
             "#c51b7d"
            ],
            [
             0.2,
             "#de77ae"
            ],
            [
             0.3,
             "#f1b6da"
            ],
            [
             0.4,
             "#fde0ef"
            ],
            [
             0.5,
             "#f7f7f7"
            ],
            [
             0.6,
             "#e6f5d0"
            ],
            [
             0.7,
             "#b8e186"
            ],
            [
             0.8,
             "#7fbc41"
            ],
            [
             0.9,
             "#4d9221"
            ],
            [
             1,
             "#276419"
            ]
           ],
           "sequential": [
            [
             0,
             "#0d0887"
            ],
            [
             0.1111111111111111,
             "#46039f"
            ],
            [
             0.2222222222222222,
             "#7201a8"
            ],
            [
             0.3333333333333333,
             "#9c179e"
            ],
            [
             0.4444444444444444,
             "#bd3786"
            ],
            [
             0.5555555555555556,
             "#d8576b"
            ],
            [
             0.6666666666666666,
             "#ed7953"
            ],
            [
             0.7777777777777778,
             "#fb9f3a"
            ],
            [
             0.8888888888888888,
             "#fdca26"
            ],
            [
             1,
             "#f0f921"
            ]
           ],
           "sequentialminus": [
            [
             0,
             "#0d0887"
            ],
            [
             0.1111111111111111,
             "#46039f"
            ],
            [
             0.2222222222222222,
             "#7201a8"
            ],
            [
             0.3333333333333333,
             "#9c179e"
            ],
            [
             0.4444444444444444,
             "#bd3786"
            ],
            [
             0.5555555555555556,
             "#d8576b"
            ],
            [
             0.6666666666666666,
             "#ed7953"
            ],
            [
             0.7777777777777778,
             "#fb9f3a"
            ],
            [
             0.8888888888888888,
             "#fdca26"
            ],
            [
             1,
             "#f0f921"
            ]
           ]
          },
          "colorway": [
           "#636efa",
           "#EF553B",
           "#00cc96",
           "#ab63fa",
           "#FFA15A",
           "#19d3f3",
           "#FF6692",
           "#B6E880",
           "#FF97FF",
           "#FECB52"
          ],
          "font": {
           "color": "#f2f5fa"
          },
          "geo": {
           "bgcolor": "rgb(17,17,17)",
           "lakecolor": "rgb(17,17,17)",
           "landcolor": "rgb(17,17,17)",
           "showlakes": true,
           "showland": true,
           "subunitcolor": "#506784"
          },
          "hoverlabel": {
           "align": "left"
          },
          "hovermode": "closest",
          "mapbox": {
           "style": "dark"
          },
          "paper_bgcolor": "rgb(17,17,17)",
          "plot_bgcolor": "rgb(17,17,17)",
          "polar": {
           "angularaxis": {
            "gridcolor": "#506784",
            "linecolor": "#506784",
            "ticks": ""
           },
           "bgcolor": "rgb(17,17,17)",
           "radialaxis": {
            "gridcolor": "#506784",
            "linecolor": "#506784",
            "ticks": ""
           }
          },
          "scene": {
           "xaxis": {
            "backgroundcolor": "rgb(17,17,17)",
            "gridcolor": "#506784",
            "gridwidth": 2,
            "linecolor": "#506784",
            "showbackground": true,
            "ticks": "",
            "zerolinecolor": "#C8D4E3"
           },
           "yaxis": {
            "backgroundcolor": "rgb(17,17,17)",
            "gridcolor": "#506784",
            "gridwidth": 2,
            "linecolor": "#506784",
            "showbackground": true,
            "ticks": "",
            "zerolinecolor": "#C8D4E3"
           },
           "zaxis": {
            "backgroundcolor": "rgb(17,17,17)",
            "gridcolor": "#506784",
            "gridwidth": 2,
            "linecolor": "#506784",
            "showbackground": true,
            "ticks": "",
            "zerolinecolor": "#C8D4E3"
           }
          },
          "shapedefaults": {
           "line": {
            "color": "#f2f5fa"
           }
          },
          "sliderdefaults": {
           "bgcolor": "#C8D4E3",
           "bordercolor": "rgb(17,17,17)",
           "borderwidth": 1,
           "tickwidth": 0
          },
          "ternary": {
           "aaxis": {
            "gridcolor": "#506784",
            "linecolor": "#506784",
            "ticks": ""
           },
           "baxis": {
            "gridcolor": "#506784",
            "linecolor": "#506784",
            "ticks": ""
           },
           "bgcolor": "rgb(17,17,17)",
           "caxis": {
            "gridcolor": "#506784",
            "linecolor": "#506784",
            "ticks": ""
           }
          },
          "title": {
           "x": 0.05
          },
          "updatemenudefaults": {
           "bgcolor": "#506784",
           "borderwidth": 0
          },
          "xaxis": {
           "automargin": true,
           "gridcolor": "#283442",
           "linecolor": "#506784",
           "ticks": "",
           "title": {
            "standoff": 15
           },
           "zerolinecolor": "#283442",
           "zerolinewidth": 2
          },
          "yaxis": {
           "automargin": true,
           "gridcolor": "#283442",
           "linecolor": "#506784",
           "ticks": "",
           "title": {
            "standoff": 15
           },
           "zerolinecolor": "#283442",
           "zerolinewidth": 2
          }
         }
        },
        "title": {
         "text": "Sample of Posterior Coefficients (95.0% CI)"
        },
        "width": 1200,
        "xaxis": {
         "title": {
          "text": "Coefficient estimate ± 95.0% CI"
         }
        },
        "yaxis": {
         "categoryarray": [
          "lag1_median_neighbors"
         ],
         "categoryorder": "array",
         "title": {
          "text": "Feature"
         }
        }
       }
      }
     },
     "metadata": {},
     "output_type": "display_data"
    }
   ],
   "source": [
    "import plotly.graph_objects as go\n",
    "\n",
    "# Loop through each DataFrame in frames and create a dark‐themed Plotly figure\n",
    "for alpha, df in frames.items():\n",
    "    # 1. Compute error bar magnitudes\n",
    "    lower_err = df['mean'] - df['ci_lower']\n",
    "    upper_err = df['ci_upper'] - df['mean']\n",
    "    contains_zero = (df['ci_lower'] <= 0) & (df['ci_upper'] >= 0)\n",
    "\n",
    "    # 2. Initialize figure with dark theme\n",
    "    fig = go.Figure(layout=dict(\n",
    "        template=\"plotly_dark\",              # built-in dark template :contentReference[oaicite:2]{index=2}\n",
    "        paper_bgcolor=\"black\",               # full black canvas :contentReference[oaicite:3]{index=3}\n",
    "        plot_bgcolor=\"black\",                # black plotting area\n",
    "    ))\n",
    "\n",
    "    # 3a. Plot intervals excluding zero (blue markers)\n",
    "    fig.add_trace(go.Scatter(\n",
    "        x=df.loc[~contains_zero, 'mean'],\n",
    "        y=df.loc[~contains_zero, 'col'],\n",
    "        error_x=dict(\n",
    "            type='data',\n",
    "            symmetric=False,\n",
    "            array=upper_err[~contains_zero],\n",
    "            arrayminus=lower_err[~contains_zero],\n",
    "            thickness=2,\n",
    "            width=5\n",
    "        ),\n",
    "        mode='markers',\n",
    "        marker=dict(color='cyan', size=8),  # brighter marker for contrast\n",
    "        name='CI excludes 0'\n",
    "    ))\n",
    "\n",
    "    # 3b. Plot intervals including zero (orange markers)\n",
    "    fig.add_trace(go.Scatter(\n",
    "        x=df.loc[contains_zero, 'mean'],\n",
    "        y=df.loc[contains_zero, 'col'],\n",
    "        error_x=dict(\n",
    "            type='data',\n",
    "            symmetric=False,\n",
    "            array=upper_err[contains_zero],\n",
    "            arrayminus=lower_err[contains_zero],\n",
    "            thickness=2,\n",
    "            width=5\n",
    "        ),\n",
    "        mode='markers',\n",
    "        marker=dict(color='orange', size=8),\n",
    "        name='CI includes 0'\n",
    "    ))\n",
    "\n",
    "    # 4. Vertical zero reference line in white\n",
    "    fig.add_shape(\n",
    "        type=\"line\",\n",
    "        x0=0, x1=0,\n",
    "        y0=-0.5, y1=len(df)-0.5,\n",
    "        xref=\"x\", yref=\"y\",\n",
    "        line=dict(color=\"white\", dash=\"dash\", width=2)\n",
    "    )\n",
    "\n",
    "    # 5. Layout and axes adjustments\n",
    "    fig.update_layout(\n",
    "        title=f'Sample of Posterior Coefficients ({(1-alpha_1)*100:.1f}% CI)',\n",
    "        xaxis_title=f'Coefficient estimate ± {(1-alpha_1)*100:.1f}% CI',\n",
    "        yaxis_title='Feature',\n",
    "        width=1200,\n",
    "        height=300 + 25 * len(df),\n",
    "        margin=dict(l=150, r=50, t=100, b=50),\n",
    "        legend=dict(bgcolor='rgba(0,0,0,0)'),  # transparent legend background\n",
    "    )\n",
    "\n",
    "    # 6. Preserve DataFrame order on the y‐axis (inverted)\n",
    "    fig.update_yaxes(\n",
    "        categoryorder='array',\n",
    "        categoryarray=df['col'].tolist()[::-1]\n",
    "    )\n",
    "\n",
    "    fig.show()\n"
   ]
  },
  {
   "cell_type": "code",
   "execution_count": 43,
   "id": "92a7bf14",
   "metadata": {},
   "outputs": [
    {
     "data": {
      "text/plain": [
       "Mid-year Population Estimates|All Ages\n",
       "15450.0    2622\n",
       "18620.0    2577\n",
       "16510.0    2517\n",
       "16340.0    2224\n",
       "15860.0    2221\n",
       "           ... \n",
       "31240.0       1\n",
       "27170.0       1\n",
       "26940.0       1\n",
       "9870.0        1\n",
       "23480.0       1\n",
       "Name: count, Length: 1533, dtype: int64"
      ]
     },
     "execution_count": 43,
     "metadata": {},
     "output_type": "execute_result"
    }
   ],
   "source": [
    "model_tuple[0][\"Mid-year Population Estimates|All Ages\"].value_counts()"
   ]
  },
  {
   "cell_type": "code",
   "execution_count": 34,
   "id": "e8a25879",
   "metadata": {},
   "outputs": [],
   "source": [
    "# model_tuple[0][\"Mid-year Population Estimates|All Ages\"].value_counts()"
   ]
  },
  {
   "cell_type": "code",
   "execution_count": 35,
   "id": "25ac22f0",
   "metadata": {},
   "outputs": [],
   "source": [
    "y_obs = prediction_tester.get_median_predictions().values              # 1-D arraylike of observed burglaries for the target month (length = n_lsoa)\n",
    "posterior_samples = prediction_tester.predictions[\"obs\"].cpu().numpy()  # 2-D ndarray (n_draws × n_lsoa) from pyro.infer.Predictive(...)\n",
    "X = model_tuple[0].copy()                  # pandas DataFrame of feature values used at prediction time (n_lsoa × p)\n",
    "# geo_lsoa =           # GeoDataFrame with an identical index, WGS84 geometry, and an \"lsoa_code\" column\n"
   ]
  },
  {
   "cell_type": "code",
   "execution_count": 36,
   "id": "cb72e522",
   "metadata": {},
   "outputs": [],
   "source": [
    "# # Cell 2 – Calibration Curve\n",
    "# import pandas as pd\n",
    "# from scipy.stats import percentileofscore\n",
    "\n",
    "# quantiles = np.arange(5, 100, 5)           # 5 % steps\n",
    "# coverage  = []\n",
    "\n",
    "# for q in quantiles:\n",
    "#     q_lo = np.percentile(y_rep, 50 - q/2, axis=0)\n",
    "#     q_hi = np.percentile(y_rep, 50 + q/2, axis=0)\n",
    "#     inside = (y_obs >= q_lo) & (y_obs <= q_hi)\n",
    "#     coverage.append(inside.mean())         # proportion actually covered\n",
    "\n",
    "# fig, ax = plt.subplots()\n",
    "# ax.plot(quantiles/100, coverage, marker=\"o\", label=\"Model\")\n",
    "# ax.plot([0,1], [0,1], \"--\", label=\"Ideal\")\n",
    "# ax.set_xlabel(\"Posterior interval nominal level\")\n",
    "# ax.set_ylabel(\"Observed coverage\")\n",
    "# ax.set_title(\"Calibration / Reliability Diagram\")\n",
    "# ax.legend()\n",
    "# plt.show()\n"
   ]
  },
  {
   "cell_type": "code",
   "execution_count": 37,
   "id": "accc37a2",
   "metadata": {},
   "outputs": [
    {
     "data": {
      "text/plain": [
       "12        26.99\n",
       "13        25.64\n",
       "14        29.10\n",
       "15        25.56\n",
       "16        29.59\n",
       "          ...  \n",
       "853969    55.11\n",
       "853970    55.67\n",
       "853971    54.38\n",
       "853972    53.88\n",
       "853973    53.29\n",
       "Name: burglaries, Length: 794394, dtype: float64"
      ]
     },
     "execution_count": 37,
     "metadata": {},
     "output_type": "execute_result"
    }
   ],
   "source": [
    "# filter the DataFrame\n",
    "percent_zero = (\n",
    "    model_tuple[0]['burglaries'].eq(0)\n",
    "      .groupby(model_tuple[0]['time_s'])\n",
    "      .transform('mean')\n",
    "      .mul(100).round(2)\n",
    ")\n",
    "percent_zero"
   ]
  },
  {
   "cell_type": "code",
   "execution_count": 38,
   "id": "5eb737cc",
   "metadata": {},
   "outputs": [
    {
     "data": {
      "text/plain": [
       "(['Public Transport Accessibility Levels|Number of people in each PTAL level:|6b',\n",
       "  'Ethnic Group|White (%)',\n",
       "  'Ethnic Group|Black/African/Caribbean/Black British (%)',\n",
       "  'Household Composition|% Couple household with dependent children',\n",
       "  'Household Composition|% One person household',\n",
       "  'area',\n",
       "  'Public Transport Accessibility Levels|Average Score|Level3_64',\n",
       "  'Tenure|Social rented (%)',\n",
       "  'n_neighbors'],\n",
       " ['Mid-year Population Estimates|Aged 16-29',\n",
       "  'Mid-year Population Estimates|Aged 0-15',\n",
       "  'Mid-year Population Estimates|All Ages',\n",
       "  'Barriers to Housing and Services Rank (where 1 is most deprived)',\n",
       "  'Ethnic Group|Black/African/Caribbean/Black British (%)_x_post_corona',\n",
       "  'Ethnic Group|White (%)_x_post_corona',\n",
       "  'Household Composition|% Couple household with dependent children_x_post_corona',\n",
       "  'Household Composition|% One person household_x_post_corona',\n",
       "  'Public Transport Accessibility Levels|Average Score|Level3_64_x_post_corona',\n",
       "  'Public Transport Accessibility Levels|Number of people in each PTAL level:|6b_x_post_corona',\n",
       "  'Tenure|Social rented (%)_x_post_corona',\n",
       "  'area_x_post_corona',\n",
       "  'n_neighbors_x_post_corona',\n",
       "  'Barriers to Housing and Services Rank (where 1 is most deprived)_x_post_corona',\n",
       "  'Mid-year Population Estimates|Aged 0-15_x_post_corona',\n",
       "  'Mid-year Population Estimates|Aged 16-29_x_post_corona',\n",
       "  'Mid-year Population Estimates|All Ages_x_post_corona',\n",
       "  'lag1_median_neighbors_x_post_corona'],\n",
       " ['during_corona', 'post_corona', 'month_sin'],\n",
       " ['time_log'],\n",
       " ['lag_1'],\n",
       " ['lag1_median_neighbors'])"
      ]
     },
     "execution_count": 38,
     "metadata": {},
     "output_type": "execute_result"
    }
   ],
   "source": [
    "model_tuple[1:]"
   ]
  },
  {
   "cell_type": "code",
   "execution_count": 39,
   "id": "fd9f6284",
   "metadata": {},
   "outputs": [],
   "source": [
    "corr = model_tuple[0].corr().abs()\n",
    "labels_trunc = [f\"  {col[:20]}  \" for col in corr.columns]"
   ]
  },
  {
   "cell_type": "code",
   "execution_count": null,
   "id": "34ebd158",
   "metadata": {},
   "outputs": [],
   "source": [
    "import numpy as np\n",
    "import pandas as pd\n",
    "import plotly.express as px\n",
    "\n",
    "# 2) Truncate labels to first 15 characters\n",
    "\n",
    "# 3) Create the interactive heatmap with the dark template\n",
    "fig = px.imshow(\n",
    "    corr.values.round(2),\n",
    "    x=labels_trunc,\n",
    "    y=labels_trunc,\n",
    "    color_continuous_scale=\"Viridis\",    # colorblind-friendly\n",
    "    zmin=0,\n",
    "    zmax=1,\n",
    "    aspect=\"equal\",                      # square cells\n",
    "    template=\"plotly_dark\",              # ← use the dark theme :contentReference[oaicite:0]{index=0}\n",
    "    # title=\"Feature Correlation Heatmap\"\n",
    ")\n",
    "\n",
    "# 4) Show every 5th tick to prevent overlap\n",
    "n = len(labels_trunc)\n",
    "step = 5\n",
    "fig.update_xaxes(\n",
    "    tickmode=\"array\",\n",
    "    tickvals=list(range(0, n, step)),\n",
    "    ticktext=[labels_trunc[i] for i in range(0, n, step)],\n",
    "    tickangle=90\n",
    ")\n",
    "fig.update_yaxes(\n",
    "    tickmode=\"array\",\n",
    "    tickvals=list(range(0, n, step)),\n",
    "    ticktext=[labels_trunc[i] for i in range(0, n, step)],\n",
    "    autorange=\"reversed\",\n",
    ")\n",
    "\n",
    "# 5) (Optional) Force the plot background to true black for maximum contrast\n",
    "fig.update_layout(\n",
    "    paper_bgcolor=\"black\",\n",
    "    plot_bgcolor=\"black\",\n",
    "    coloraxis_colorbar=dict(\n",
    "        thickness=15,\n",
    "        title=\"Correlation\"\n",
    "    ),\n",
    "    width=600,\n",
    "    height=600,\n",
    "    margin=dict(l=0, r=0, t=0, b=0)\n",
    ")\n",
    "\n",
    "fig.show()"
   ]
  },
  {
   "cell_type": "code",
   "execution_count": null,
   "id": "4cb73e98",
   "metadata": {},
   "outputs": [],
   "source": [
    "import pandas as pd\n",
    "import numpy as np\n",
    "\n",
    "# 1. Compute the absolute correlation matrix\n",
    "\n",
    "# 2. Zero out the lower triangle and the diagonal\n",
    "#    so we only inspect each pair once, and drop self‐correlations\n",
    "mask = np.triu(np.ones_like(corr, dtype=bool), k=1)\n",
    "upper = corr.where(mask)\n",
    "\n",
    "# 3. “Unpivot” to a long form and filter\n",
    "high_corr = (\n",
    "    upper\n",
    "    .stack()                             # turns into a Series indexed by (feature1, feature2)\n",
    "    .reset_index()                       # DataFrame with columns ['level_0','level_1', 0]\n",
    "    .rename(columns={'level_0':'feature1','level_1':'feature2', 0:'correlation'})\n",
    "    .query('correlation > 0.9')         # keep only those above 0.9\n",
    "    .sort_values('correlation', ascending=False)\n",
    "    .reset_index(drop=True)\n",
    ")"
   ]
  },
  {
   "cell_type": "code",
   "execution_count": null,
   "id": "b2e0fcdd",
   "metadata": {},
   "outputs": [],
   "source": [
    "high_corr"
   ]
  },
  {
   "cell_type": "code",
   "execution_count": null,
   "id": "4cf14bbd",
   "metadata": {},
   "outputs": [],
   "source": [
    "df = pd.read_parquet(\"../merged_data.parquet\")"
   ]
  },
  {
   "cell_type": "code",
   "execution_count": null,
   "id": "7f372acc",
   "metadata": {},
   "outputs": [],
   "source": [
    "percent_zero = (\n",
    "    df['Burglaries amount'].eq(0)\n",
    "      .groupby(df['date'])\n",
    "      .transform('mean')\n",
    "      .mul(100).round(2)\n",
    ")"
   ]
  },
  {
   "cell_type": "code",
   "execution_count": null,
   "id": "3cd260a7",
   "metadata": {},
   "outputs": [],
   "source": [
    "df_plot = (\n",
    "    df.assign(zero=df['Burglaries amount'].eq(0))\n",
    "      .groupby('date')['zero']\n",
    "      .mean()\n",
    "      .mul(100)\n",
    "      .round(2)\n",
    "      .reset_index(name='percent_zero')\n",
    ")\n",
    "\n",
    "\n",
    "fig = go.Figure(layout=dict(\n",
    "        template=\"plotly_dark\",              # built-in dark template :contentReference[oaicite:2]{index=2}\n",
    "        paper_bgcolor=\"black\",               # full black canvas :contentReference[oaicite:3]{index=3}\n",
    "        plot_bgcolor=\"black\",                # black plotting area\n",
    "    ))\n",
    "\n",
    "fig.add_trace(go.Scatter(\n",
    "    x=df_plot[\"date\"],\n",
    "    y=df_plot[\"percent_zero\"],\n",
    "    mode='lines',\n",
    "    name='Zero %',\n",
    "    line=dict(width=2)\n",
    "))\n",
    "\n",
    "fig.update_layout(\n",
    "    title='Monthly Percentage of LSOAs with Zero Burglaries',\n",
    "    template='plotly_dark',           # apply the dark theme :contentReference[oaicite:6]{index=6}\n",
    "    xaxis=dict(title='Date', tickangle=45),\n",
    "    yaxis=dict(title='Percentage of Zero-Burglary LSOAs (%)', range=[0, 60]),\n",
    "    width=1000,\n",
    "    height=700,\n",
    ")\n",
    "\n",
    "fig.show()"
   ]
  },
  {
   "cell_type": "code",
   "execution_count": null,
   "id": "fc6de7a2",
   "metadata": {},
   "outputs": [],
   "source": [
    "df.groupby(\"date\")[\"Burglaries amount\"].sum().plot()"
   ]
  },
  {
   "cell_type": "code",
   "execution_count": null,
   "id": "b545050f",
   "metadata": {},
   "outputs": [],
   "source": [
    "import plotly.graph_objects as go\n",
    "import pandas as pd\n",
    "from plotly.colors import qualitative\n",
    "\n",
    "# Replace this with your actual DataFrame\n",
    "crime_df = df.copy()  \n",
    "\n",
    "# 1. Monthly burglary totals\n",
    "monthly = crime_df.groupby(\"date\")[\"Burglaries amount\"].sum().reset_index()\n",
    "monthly[\"date\"] = pd.to_datetime(monthly[\"date\"])\n",
    "\n",
    "# 2. Key event periods\n",
    "events = [\n",
    "    {\"Event\": \"2012 Olympics\",        \"Start\": \"2012-05-27\", \"End\": \"2012-10-12\"},\n",
    "    {\"Event\": \"Brexit Referendum\",    \"Start\": \"2016-05-23\", \"End\": \"2016-07-23\"},\n",
    "    {\"Event\": \"Knife Crime Peak\",     \"Start\": \"2017-01-01\", \"End\": \"2018-12-31\"},\n",
    "    {\"Event\": \"COVID Lockdowns\",      \"Start\": \"2020-01-23\", \"End\": \"2021-06-30\"},\n",
    "    {\"Event\": \"Post-Pandemic Surge\",  \"Start\": \"2021-06-30\", \"End\": \"2023-12-31\"},\n",
    "]\n",
    "for ev in events:\n",
    "    ev[\"Start\"] = pd.to_datetime(ev[\"Start\"])\n",
    "    ev[\"End\"]   = pd.to_datetime(ev[\"End\"])\n",
    "\n",
    "# 3. Assign each event a distinct color\n",
    "palette = qualitative.Plotly  # has at least 10 distinct colors\n",
    "colors = {ev[\"Event\"]: palette[i % len(palette)] for i, ev in enumerate(events)}\n",
    "\n",
    "# 4. Build figure\n",
    "\n",
    "fig = go.Figure(layout=dict(\n",
    "        template=\"plotly_dark\",              # built-in dark template :contentReference[oaicite:2]{index=2}\n",
    "        paper_bgcolor=\"black\",               # full black canvas :contentReference[oaicite:3]{index=3}\n",
    "        plot_bgcolor=\"black\",                # black plotting area\n",
    "    ))\n",
    "\n",
    "for ev in events:\n",
    "    color = colors[ev[\"Event\"]]\n",
    "    # shaded band\n",
    "    fig.add_shape(\n",
    "        type=\"rect\",\n",
    "        x0=ev[\"Start\"], x1=ev[\"End\"],\n",
    "        y0=0, y1=1,\n",
    "        xref=\"x\", yref=\"paper\",\n",
    "        fillcolor=color,\n",
    "        opacity=0.15,\n",
    "        line_width=0\n",
    "    )\n",
    "    # centered label above the band\n",
    "    fig.add_annotation(\n",
    "        x=ev[\"Start\"] + (ev[\"End\"] - ev[\"Start\"]) / 2,\n",
    "        y=1.05,\n",
    "        xref=\"x\", yref=\"paper\",\n",
    "        text=ev[\"Event\"],\n",
    "        showarrow=False,\n",
    "        font=dict(color=color, size=14, family=\"Arial\"),\n",
    "        align=\"center\"\n",
    "    )\n",
    "\n",
    "# 5. Add burglary time series\n",
    "fig.add_trace(go.Scatter(\n",
    "    x=monthly[\"date\"],\n",
    "    y=monthly[\"Burglaries amount\"],\n",
    "    mode=\"lines\",\n",
    "    name=\"Monthly Burglaries\",\n",
    "    line=dict(color=\"lime\", width=2)\n",
    "))\n",
    "\n",
    "# 6. Layout tweaks\n",
    "fig.update_layout(\n",
    "    template=\"plotly_dark\",\n",
    "    title=\"Monthly Burglaries with Key Events Overlay\",\n",
    "    xaxis_title=\"Date\",\n",
    "    yaxis_title=\"Number of Burglaries\",\n",
    "    width=1500,\n",
    "    height=600,\n",
    "    margin=dict(l=80, r=20, t=100, b=50),\n",
    "    xaxis=dict(showgrid=False),\n",
    "    yaxis=dict(showgrid=False)\n",
    ")\n",
    "\n",
    "fig.show()\n"
   ]
  },
  {
   "cell_type": "code",
   "execution_count": null,
   "id": "c4ecccde",
   "metadata": {},
   "outputs": [],
   "source": []
  }
 ],
 "metadata": {
  "kernelspec": {
   "display_name": "py311",
   "language": "python",
   "name": "python3"
  },
  "language_info": {
   "codemirror_mode": {
    "name": "ipython",
    "version": 3
   },
   "file_extension": ".py",
   "mimetype": "text/x-python",
   "name": "python",
   "nbconvert_exporter": "python",
   "pygments_lexer": "ipython3",
   "version": "3.11.12"
  }
 },
 "nbformat": 4,
 "nbformat_minor": 5
}
