{
 "cells": [
  {
   "cell_type": "code",
   "execution_count": 1,
   "id": "ab91d236",
   "metadata": {},
   "outputs": [],
   "source": [
    "from data_prep.data_prep import prepare_all_data\n",
    "from training.training import prepare_model_data, grid_search\n",
    "from training.feature_selection import forward_feature_selection, correlation_feature_selection,projection_predictive_selection,apply_correlation_filter_and_corona_interactions\n",
    "from model import burglary_model\n",
    "from utils.utils import single_out_last, setup_reproducibility\n",
    "from testing.testing import StatisticalTester\n",
    "from pipeline import train_and_evaluate_model, cross_validate_time_splits\n",
    "model_tuple, occupation_mappings,ward_idx_map = prepare_all_data(\"../merged_data.parquet\", \"lsoa\")"
   ]
  },
  {
   "cell_type": "code",
   "execution_count": 2,
   "id": "1779d37c",
   "metadata": {},
   "outputs": [
    {
     "name": "stdout",
     "output_type": "stream",
     "text": [
      "Using device: cuda\n"
     ]
    }
   ],
   "source": [
    "device = setup_reproducibility(42)\n",
    "print(f'Using device: {device}')\n",
    "training_data, testing_data = single_out_last(model_tuple[0])"
   ]
  },
  {
   "cell_type": "code",
   "execution_count": 3,
   "id": "3cbb4216",
   "metadata": {},
   "outputs": [],
   "source": [
    "# # #Automated Feature Selection Block \n",
    "# # #Correlation Feature Selection: Computationally Light\n",
    "# # #FORWARD Feature Selection: Computationally Heavy, More Accurate but needs a GPU\n",
    "# # inner_train,inner_val = single_out_last(training_data)\n",
    "# # candidate_features = {\n",
    "# #     \"static\": model_tuple[1],\n",
    "# #     'dynamic': model_tuple[2],\n",
    "# #     'seasonal': model_tuple[3],\n",
    "# #     'time_trend': model_tuple[4],\n",
    "# #     'temporal': model_tuple[5],\n",
    "# #     'spatial': model_tuple[6],\n",
    "# #     }\n",
    "# # #selected_feats = correlation_feature_selection(inner_train,candidate_features, max_features=12,print_progress=True)\n",
    "# # selected_feats=projection_predictive_selection(\n",
    "# #     burglary_model,\n",
    "# #     inner_train,\n",
    "# #     inner_val,\n",
    "# #     candidate_features,\n",
    "# #     device,\n",
    "# #     num_steps=200,\n",
    "# #     lr=1e-3,\n",
    "# #     guide_type='diag',\n",
    "# #     verbose=False,\n",
    "# #     max_features=10,\n",
    "# #     print_progress=True\n",
    "# # )\n",
    "# # print(f\"Selected features: {selected_feats}\")\n",
    "# # #Forward Feature Selection:\n",
    "# # #selected_feats = forward_feature_selection(burglary_model,inner_train,inner_val,candidate_features,device,num_steps=200,lr=1e-3,guide_type='diag',verbose=False max_features=10, print_progress=True)\n",
    "# # ['Car or van availability|1 car or van in household (%)', 'Car or van availability|Cars per household', 'Car or van availability|No cars or vans in household (%)', 'Ethnic Group|BAME (%)', 'Household Composition|% Other multi person household', 'Household Composition|% Couple household with dependent children', 'Public Transport Accessibility Levels|Number of people in each PTAL level:|6a', 'Public Transport Accessibility Levels|Number of people in each PTAL level:|2', 'Tenure|Owned outright (%)', 'n_neighbors', 'Public Transport Accessibility Levels|% 4-6 (good access)|Level3_67', 'Tenure|Owned with a mortgage or loan (%)', 'Public Transport Accessibility Levels|Number of people in each PTAL level:|1b', 'Dwelling type|Flat, maisonette or apartment (%)', 'Public Transport Accessibility Levels|Number of people in each PTAL level:|4', 'Public Transport Accessibility Levels|Number of people in each PTAL level:|5', 'Household Composition|% One person household', 'Ethnic Group|Asian/Asian British (%)', 'Public Transport Accessibility Levels|Number of people in each PTAL level:|3', 'Shopping locations', 'Ethnic Group|Black/African/Caribbean/Black British (%)', 'Ethnic Group|Other ethnic group (%)', 'area', 'Public transport locations', 'Public Transport Accessibility Levels|% 2-3 (average access)|Level3_66', 'Ethnic Group|White (%)', 'Education locations', 'Car or van availability|4 or more cars or vans in household (%)', 'Public Transport Accessibility Levels|Number of people in each PTAL level:|1a', 'Public Transport Accessibility Levels|Number of people in each PTAL level:|6b', 'Public Transport Accessibility Levels|% 0-1 (poor access)|Level3_65', 'Car or van availability|2 cars or vans in household (%)'],\n",
    "# # ['Barriers to Housing and Services Rank (where 1 is most deprived)', 'Mid-year Population Estimates|All Ages', 'Mid-year Population Estimates|Aged 45-64', 'Mid-year Population Estimates|Aged 0-15', 'lag_1_x_n_neighbors', 'Employment Rank (where 1 is most deprived)', 'Index of Multiple Deprivation (IMD) Rank (where 1 is most deprived)', 'Mid-year Population Estimates|Working-age', 'Health Deprivation and Disability Rank (where 1 is most deprived)', 'Mid-year Population Estimates|Aged 65+', 'Education, Skills and Training Rank (where 1 is most deprived)', 'Income Rank (where 1 is most deprived)'],\n",
    "# # ['during_corona', 'post_corona'],\n",
    "# # ['time_log'],\n",
    "# # ['lag_1', 'lag_3'],\n",
    "# # ['lag1_diff_neighbors', 'lag_1_x_n_neighbors', 'lag1_median_neighbors', 'lag1_mean_neighbors', 'lag1_sum_neighbors'],\n",
    "\n",
    "# # rmse          2.185602\n",
    "# # mae           1.073718\n",
    "# # crps          1.527997\n",
    "\n",
    "\n",
    "# # ['Ethnic Group|BAME (%)', 'Car or van availability|No cars or vans in household (%)', 'Public Transport Accessibility Levels|Number of people in each PTAL level:|4', 'n_neighbors', 'Public Transport Accessibility Levels|Number of people in each PTAL level:|3', 'Public Transport Accessibility Levels|% 0-1 (poor access)|Level3_65', 'Household Composition|% One person household', 'Public Transport Accessibility Levels|Number of people in each PTAL level:|6a', 'Ethnic Group|Asian/Asian British (%)', 'Public Transport Accessibility Levels|Number of people in each PTAL level:|2', 'Ethnic Group|Black/African/Caribbean/Black British (%)', 'Public Transport Accessibility Levels|Number of people in each PTAL level:|6b', 'Car or van availability|1 car or van in household (%)', 'Ethnic Group|Other ethnic group (%)', 'Tenure|Owned with a mortgage or loan (%)', 'Car or van availability|2 cars or vans in household (%)'],\n",
    "# # ['Mid-year Population Estimates|All Ages', 'Mid-year Population Estimates|Aged 0-15', 'Index of Multiple Deprivation (IMD) Rank (where 1 is most deprived)', 'Education, Skills and Training Rank (where 1 is most deprived)', 'Mid-year Population Estimates|Aged 45-64', 'Employment Rank (where 1 is most deprived)', 'Income Rank (where 1 is most deprived)'],\n",
    "# # [\"post_corona\", \"month_sin\"],\n",
    "# # ['time_log'],\n",
    "# # ['lag_1'],\n",
    "# # ['lag1_diff_neighbors', 'lag1_mean_neighbors', 'lag_1_x_n_neighbors']\n",
    "\n",
    "# # rmse          1.595894\n",
    "# # mae           0.933347\n",
    "# # crps          0.702800\n",
    "\n",
    "\n",
    "\n",
    "# # ['Tenure|Owned with a mortgage or loan (%)', 'Public Transport Accessibility Levels|Number of people in each PTAL level:|2', 'Car or van availability|No cars or vans in household (%)', 'Household Composition|% One person household', 'Public Transport Accessibility Levels|Number of people in each PTAL level:|4', 'Ethnic Group|Black/African/Caribbean/Black British (%)'],\n",
    "# # ['Index of Multiple Deprivation (IMD) Rank (where 1 is most deprived)', 'Employment Rank (where 1 is most deprived)', 'Mid-year Population Estimates|Aged 0-15', 'Income Rank (where 1 is most deprived)'],\n",
    "# # [\"during_corona\", \"month_sin\"],\n",
    "# # ['time_log'],\n",
    "# # ['lag_1'],\n",
    "# # ['lag1_diff_neighbors', 'lag1_mean_neighbors']\n",
    "\n",
    "# # rmse          1.595894\n",
    "# # mae           0.933347\n",
    "# # crps          0.702800\n",
    "\n",
    "# #model_tuple = (\n",
    "# #    model_tuple[0],\n",
    "# #['Ethnic Group|BAME (%)', 'Car or van availability|No cars or vans in household (%)', 'Public Transport Accessibility Levels|Number of people in each PTAL level:|4', 'n_neighbors', 'Public Transport Accessibility Levels|Number of people in each PTAL level:|3', 'Public Transport Accessibility Levels|% 0-1 (poor access)|Level3_65', 'Household Composition|% One person household', 'Public Transport Accessibility Levels|Number of people in each PTAL level:|6a', 'Ethnic Group|Asian/Asian British (%)', 'Public Transport Accessibility Levels|Number of people in each PTAL level:|2', 'Ethnic Group|Black/African/Caribbean/Black British (%)', 'Public Transport Accessibility Levels|Number of people in each PTAL level:|6b', 'Car or van availability|1 car or van in household (%)', 'Ethnic Group|Other ethnic group (%)', 'Tenure|Owned with a mortgage or loan (%)', 'Car or van availability|2 cars or vans in household (%)'],\n",
    "# #['Mid-year Population Estimates|All Ages', 'Mid-year Population Estimates|Aged 0-15', 'Index of Multiple Deprivation (IMD) Rank (where 1 is most deprived)', 'Education, Skills and Training Rank (where 1 is most deprived)', 'Mid-year Population Estimates|Aged 45-64', 'Employment Rank (where 1 is most deprived)', 'Income Rank (where 1 is most deprived)'],\n",
    "# #[\"post_corona\", \"month_sin\"],\n",
    "# #['time_log'],\n",
    "# #['lag_1'],\n",
    "# #['lag1_diff_neighbors', 'lag1_mean_neighbors', 'lag_1_x_n_neighbors']\n",
    "# #)\n",
    "\n",
    "# gdf = model_tuple[0]\n",
    "# split_point = gdf['time_s'].max() - 3\n",
    "# train_df = gdf[gdf['time_s'] < split_point]\n",
    "# val_df = gdf[gdf['time_s'] >= split_point]\n",
    "\n",
    "# candidate_features = {\n",
    "#     'static': model_tuple[1],\n",
    "#     'dynamic': model_tuple[2],\n",
    "#     'seasonal': model_tuple[3],\n",
    "#     'time_trend': model_tuple[4],\n",
    "#     'temporal': model_tuple[5],\n",
    "#     'spatial': model_tuple[6],\n",
    "# }\n",
    "\n",
    "# # selected_feats = forward_feature_selection(\n",
    "# #     burglary_model,\n",
    "# #     train_df,\n",
    "# #     val_df,\n",
    "# #     candidate_features,\n",
    "# #     device,\n",
    "# #     max_features=10,\n",
    "# #     debug_random=False,\n",
    "# # )\n",
    "\n",
    "# # print('Selected features (debug mode):')\n",
    "# # for group, feats in selected_feats.items():\n",
    "# #     print(group, feats)\n",
    "\n",
    "# # model_tuple = (\n",
    "# #     model_tuple[0],\n",
    "# #     selected_feats['static'],\n",
    "# #     selected_feats['dynamic'],\n",
    "# #     selected_feats['seasonal'],\n",
    "# #     selected_feats['time_trend'],\n",
    "# #     selected_feats['temporal'],\n",
    "# #     selected_feats['spatial'],\n",
    "# # )\n",
    "# #print(model_tuple)\n",
    "# gdf, candidate_features = apply_correlation_filter_and_corona_interactions(\n",
    "#     burglary_model,\n",
    "#     train_df,\n",
    "#     val_df,\n",
    "#     candidate_features,\n",
    "#     device,\n",
    "#     max_features=10,\n",
    "#     debug_random=False,\n",
    "# )\n",
    "\n",
    "# # Build model tuple\n",
    "# model_tuple = (\n",
    "#     gdf,\n",
    "#     candidate_features['static'],\n",
    "#     candidate_features['dynamic'],\n",
    "#     candidate_features['seasonal'],\n",
    "#     candidate_features['time_trend'],\n",
    "#     candidate_features['temporal'],\n",
    "#     candidate_features['spatial'],\n",
    "# )"
   ]
  },
  {
   "cell_type": "code",
   "execution_count": 4,
   "id": "150a5f30",
   "metadata": {},
   "outputs": [
    {
     "name": "stderr",
     "output_type": "stream",
     "text": [
      "Training SVI: 100%|██████████| 500/500 [00:29<00:00, 17.16it/s]\n",
      "Training SVI: 100%|██████████| 500/500 [00:25<00:00, 19.42it/s]\n",
      "Training SVI: 100%|██████████| 500/500 [00:25<00:00, 19.76it/s]\n",
      "Training SVI: 100%|██████████| 500/500 [00:26<00:00, 19.15it/s]\n",
      "Training SVI: 100%|██████████| 500/500 [00:21<00:00, 23.11it/s]\n",
      "Training SVI: 100%|██████████| 500/500 [00:18<00:00, 27.69it/s]\n",
      "Training SVI: 100%|██████████| 500/500 [00:17<00:00, 28.38it/s]\n",
      "Training SVI: 100%|██████████| 500/500 [00:17<00:00, 28.04it/s]\n",
      "Training SVI: 100%|██████████| 500/500 [00:18<00:00, 26.76it/s]\n",
      "Training SVI: 100%|██████████| 500/500 [00:17<00:00, 28.53it/s]\n",
      "Training SVI: 100%|██████████| 500/500 [00:17<00:00, 28.10it/s]\n",
      "Training SVI: 100%|██████████| 500/500 [00:18<00:00, 27.49it/s]\n"
     ]
    }
   ],
   "source": [
    "results = cross_validate_time_splits(model_tuple, \"time_s\", 12, burglary_model,\n",
    "                           occupation_mappings[1], device, ward_idx_map)"
   ]
  },
  {
   "cell_type": "code",
   "execution_count": 5,
   "id": "789372e0",
   "metadata": {},
   "outputs": [
    {
     "data": {
      "text/html": [
       "<div>\n",
       "<style scoped>\n",
       "    .dataframe tbody tr th:only-of-type {\n",
       "        vertical-align: middle;\n",
       "    }\n",
       "\n",
       "    .dataframe tbody tr th {\n",
       "        vertical-align: top;\n",
       "    }\n",
       "\n",
       "    .dataframe thead th {\n",
       "        text-align: right;\n",
       "    }\n",
       "</style>\n",
       "<table border=\"1\" class=\"dataframe\">\n",
       "  <thead>\n",
       "    <tr style=\"text-align: right;\">\n",
       "      <th></th>\n",
       "      <th>train_time</th>\n",
       "      <th>test_time</th>\n",
       "      <th>rmse</th>\n",
       "      <th>mae</th>\n",
       "      <th>crps</th>\n",
       "    </tr>\n",
       "  </thead>\n",
       "  <tbody>\n",
       "    <tr>\n",
       "      <th>0</th>\n",
       "      <td>-1.480323</td>\n",
       "      <td>1.500464</td>\n",
       "      <td>2.337660</td>\n",
       "      <td>1.124673</td>\n",
       "      <td>19.086427</td>\n",
       "    </tr>\n",
       "    <tr>\n",
       "      <th>1</th>\n",
       "      <td>-1.480323</td>\n",
       "      <td>1.520604</td>\n",
       "      <td>1.877143</td>\n",
       "      <td>0.897684</td>\n",
       "      <td>13.691343</td>\n",
       "    </tr>\n",
       "    <tr>\n",
       "      <th>2</th>\n",
       "      <td>-1.480323</td>\n",
       "      <td>1.540745</td>\n",
       "      <td>17.263020</td>\n",
       "      <td>1.118026</td>\n",
       "      <td>29.497423</td>\n",
       "    </tr>\n",
       "    <tr>\n",
       "      <th>3</th>\n",
       "      <td>-1.480323</td>\n",
       "      <td>1.560885</td>\n",
       "      <td>1.859409</td>\n",
       "      <td>0.898691</td>\n",
       "      <td>10.202966</td>\n",
       "    </tr>\n",
       "    <tr>\n",
       "      <th>4</th>\n",
       "      <td>-1.480323</td>\n",
       "      <td>1.581026</td>\n",
       "      <td>25.571463</td>\n",
       "      <td>1.525478</td>\n",
       "      <td>21.515228</td>\n",
       "    </tr>\n",
       "    <tr>\n",
       "      <th>5</th>\n",
       "      <td>-1.480323</td>\n",
       "      <td>1.601166</td>\n",
       "      <td>1.774214</td>\n",
       "      <td>0.894058</td>\n",
       "      <td>13.935850</td>\n",
       "    </tr>\n",
       "    <tr>\n",
       "      <th>6</th>\n",
       "      <td>-1.480323</td>\n",
       "      <td>1.621307</td>\n",
       "      <td>2.084825</td>\n",
       "      <td>1.121676</td>\n",
       "      <td>20.734171</td>\n",
       "    </tr>\n",
       "    <tr>\n",
       "      <th>7</th>\n",
       "      <td>-1.480323</td>\n",
       "      <td>1.641447</td>\n",
       "      <td>15.764304</td>\n",
       "      <td>1.209106</td>\n",
       "      <td>15.226465</td>\n",
       "    </tr>\n",
       "    <tr>\n",
       "      <th>8</th>\n",
       "      <td>-1.480323</td>\n",
       "      <td>1.661587</td>\n",
       "      <td>2.172831</td>\n",
       "      <td>1.013296</td>\n",
       "      <td>12.147021</td>\n",
       "    </tr>\n",
       "    <tr>\n",
       "      <th>9</th>\n",
       "      <td>-1.480323</td>\n",
       "      <td>1.681728</td>\n",
       "      <td>14.671867</td>\n",
       "      <td>1.567889</td>\n",
       "      <td>23.521215</td>\n",
       "    </tr>\n",
       "    <tr>\n",
       "      <th>10</th>\n",
       "      <td>-1.480323</td>\n",
       "      <td>1.701868</td>\n",
       "      <td>121.926331</td>\n",
       "      <td>4.686543</td>\n",
       "      <td>45.991900</td>\n",
       "    </tr>\n",
       "    <tr>\n",
       "      <th>11</th>\n",
       "      <td>-1.480323</td>\n",
       "      <td>1.722009</td>\n",
       "      <td>53.347553</td>\n",
       "      <td>1.708300</td>\n",
       "      <td>16.750757</td>\n",
       "    </tr>\n",
       "  </tbody>\n",
       "</table>\n",
       "</div>"
      ],
      "text/plain": [
       "    train_time  test_time        rmse       mae       crps\n",
       "0    -1.480323   1.500464    2.337660  1.124673  19.086427\n",
       "1    -1.480323   1.520604    1.877143  0.897684  13.691343\n",
       "2    -1.480323   1.540745   17.263020  1.118026  29.497423\n",
       "3    -1.480323   1.560885    1.859409  0.898691  10.202966\n",
       "4    -1.480323   1.581026   25.571463  1.525478  21.515228\n",
       "5    -1.480323   1.601166    1.774214  0.894058  13.935850\n",
       "6    -1.480323   1.621307    2.084825  1.121676  20.734171\n",
       "7    -1.480323   1.641447   15.764304  1.209106  15.226465\n",
       "8    -1.480323   1.661587    2.172831  1.013296  12.147021\n",
       "9    -1.480323   1.681728   14.671867  1.567889  23.521215\n",
       "10   -1.480323   1.701868  121.926331  4.686543  45.991900\n",
       "11   -1.480323   1.722009   53.347553  1.708300  16.750757"
      ]
     },
     "execution_count": 5,
     "metadata": {},
     "output_type": "execute_result"
    }
   ],
   "source": [
    "results[0]"
   ]
  },
  {
   "cell_type": "code",
   "execution_count": 6,
   "id": "44a93729",
   "metadata": {},
   "outputs": [
    {
     "data": {
      "text/plain": [
       "train_time    -1.480323\n",
       "test_time      1.611236\n",
       "rmse          21.720886\n",
       "mae            1.480452\n",
       "crps          20.191730\n",
       "dtype: float64"
      ]
     },
     "execution_count": 6,
     "metadata": {},
     "output_type": "execute_result"
    }
   ],
   "source": [
    "results[0].mean()"
   ]
  },
  {
   "cell_type": "code",
   "execution_count": 7,
   "id": "531bc2e0",
   "metadata": {},
   "outputs": [
    {
     "name": "stderr",
     "output_type": "stream",
     "text": [
      "Training SVI: 100%|██████████| 500/500 [00:16<00:00, 30.70it/s]\n"
     ]
    }
   ],
   "source": [
    "train_data = prepare_model_data(training_data, *model_tuple[1:], device, ward_idx_map=ward_idx_map)\n",
    "test_data = prepare_model_data(testing_data, *model_tuple[1:], device, train_data[\"means\"], train_data[\"stds\"], ward_idx_map)\n",
    "\n",
    "evaluation_metrics, svi, svi.guide, prediction_tester = train_and_evaluate_model(train_data, test_data, burglary_model, occupation_mappings[1])"
   ]
  },
  {
   "cell_type": "code",
   "execution_count": 8,
   "id": "6f049756",
   "metadata": {},
   "outputs": [],
   "source": [
    "factors_map ={\n",
    "    \"b_static\": model_tuple[1],\n",
    "    \"b_dynamic\": model_tuple[2],\n",
    "    \"b_seasonal\": model_tuple[3],\n",
    "    \"b_time_tr\": model_tuple[4],\n",
    "    \"b_temporal\": model_tuple[5],\n",
    "    \"b_spatial\": model_tuple[6],\n",
    "}\n",
    "\n",
    "statistical_tester = StatisticalTester(test_data, burglary_model, svi.guide, factors_map)"
   ]
  },
  {
   "cell_type": "code",
   "execution_count": 9,
   "id": "36193bbc",
   "metadata": {},
   "outputs": [],
   "source": [
    "statistical_tester.predict(5_000)"
   ]
  },
  {
   "cell_type": "code",
   "execution_count": 10,
   "id": "a600a2d5",
   "metadata": {},
   "outputs": [],
   "source": [
    "factor_summaries = statistical_tester.evaluate_all(alpha=0.1)"
   ]
  },
  {
   "cell_type": "code",
   "execution_count": 11,
   "id": "1ddbe0e3",
   "metadata": {},
   "outputs": [],
   "source": [
    "# import pandas as pd\n",
    "# inner_train, inner_val = single_out_last(training_data)\n",
    "# param_grid = {\n",
    "#       \"lr\": [1e-2, 5e-3, 1e-3],\n",
    "#       \"guide_type\": [\"diag\", \"lowrank\"]\n",
    "#       }\n",
    "# results_df = grid_search(\n",
    "#       burglary_model,\n",
    "#       inner_train,\n",
    "#       inner_val,\n",
    "#       *model_tuple[1:],\n",
    "#       device,\n",
    "#       param_grid,\n",
    "#       ward_idx_map=ward_idx_map,\n",
    "#       num_steps=500,\n",
    "#       )\n",
    "# print(results_df)\n",
    "# print(\"Best parameters:\", results_df.loc[0].to_dict())"
   ]
  },
  {
   "cell_type": "code",
   "execution_count": 12,
   "id": "e3817d52",
   "metadata": {},
   "outputs": [
    {
     "name": "stdout",
     "output_type": "stream",
     "text": [
      "['Entertainment locations', 'Households|All households', 'Tenure|Private rented (%)', 'n_neighbors', 'Ethnic Group|Black/African/Caribbean/Black British (%)', 'Public Transport Accessibility Levels|Average Score|Level3_64', 'Tenure|Owned with a mortgage or loan (%)', 'Ethnic Group|White (%)', 'area', 'Household Composition|% Lone parent household', 'Ethnic Group|Asian/Asian British (%)', 'Car or van availability|Cars per household', 'Parking locations', 'Public Transport Accessibility Levels|Number of people in each PTAL level:|5']\n",
      "['Barriers to Housing and Services Rank (where 1 is most deprived)', 'Mid-year Population Estimates|Aged 0-15', 'lag1_diff_neighbors', 'Mid-year Population Estimates|Aged 45-64', 'Health Deprivation and Disability Rank (where 1 is most deprived)', 'lag_1_x_n_neighbors', 'Mid-year Population Estimates|Aged 30-44', 'Income Rank (where 1 is most deprived)']\n",
      "[]\n",
      "[]\n",
      "['roll_6_mean', 'roll_12_mean', 'lag_3', 'lag_1', 'lag_4', 'lag_2']\n",
      "['lag1_median_neighbors']\n"
     ]
    }
   ],
   "source": [
    "for key, value in factor_summaries.items():\n",
    "    print(value.query(\"significant_CI == 'Yes'\")[\"col\"].tolist())"
   ]
  },
  {
   "cell_type": "code",
   "execution_count": 13,
   "id": "dfae39d5",
   "metadata": {},
   "outputs": [
    {
     "ename": "KeyError",
     "evalue": "'Crime Rank (where 1 is most deprived)'",
     "output_type": "error",
     "traceback": [
      "\u001b[31m---------------------------------------------------------------------------\u001b[39m",
      "\u001b[31mKeyError\u001b[39m                                  Traceback (most recent call last)",
      "\u001b[36mFile \u001b[39m\u001b[32mc:\\MiniConda\\envs\\py311\\Lib\\site-packages\\pandas\\core\\indexes\\base.py:3805\u001b[39m, in \u001b[36mIndex.get_loc\u001b[39m\u001b[34m(self, key)\u001b[39m\n\u001b[32m   3804\u001b[39m \u001b[38;5;28;01mtry\u001b[39;00m:\n\u001b[32m-> \u001b[39m\u001b[32m3805\u001b[39m     \u001b[38;5;28;01mreturn\u001b[39;00m \u001b[38;5;28;43mself\u001b[39;49m\u001b[43m.\u001b[49m\u001b[43m_engine\u001b[49m\u001b[43m.\u001b[49m\u001b[43mget_loc\u001b[49m\u001b[43m(\u001b[49m\u001b[43mcasted_key\u001b[49m\u001b[43m)\u001b[49m\n\u001b[32m   3806\u001b[39m \u001b[38;5;28;01mexcept\u001b[39;00m \u001b[38;5;167;01mKeyError\u001b[39;00m \u001b[38;5;28;01mas\u001b[39;00m err:\n",
      "\u001b[36mFile \u001b[39m\u001b[32mindex.pyx:167\u001b[39m, in \u001b[36mpandas._libs.index.IndexEngine.get_loc\u001b[39m\u001b[34m()\u001b[39m\n",
      "\u001b[36mFile \u001b[39m\u001b[32mindex.pyx:196\u001b[39m, in \u001b[36mpandas._libs.index.IndexEngine.get_loc\u001b[39m\u001b[34m()\u001b[39m\n",
      "\u001b[36mFile \u001b[39m\u001b[32mpandas\\\\_libs\\\\hashtable_class_helper.pxi:7081\u001b[39m, in \u001b[36mpandas._libs.hashtable.PyObjectHashTable.get_item\u001b[39m\u001b[34m()\u001b[39m\n",
      "\u001b[36mFile \u001b[39m\u001b[32mpandas\\\\_libs\\\\hashtable_class_helper.pxi:7089\u001b[39m, in \u001b[36mpandas._libs.hashtable.PyObjectHashTable.get_item\u001b[39m\u001b[34m()\u001b[39m\n",
      "\u001b[31mKeyError\u001b[39m: 'Crime Rank (where 1 is most deprived)'",
      "\nThe above exception was the direct cause of the following exception:\n",
      "\u001b[31mKeyError\u001b[39m                                  Traceback (most recent call last)",
      "\u001b[36mCell\u001b[39m\u001b[36m \u001b[39m\u001b[32mIn[13]\u001b[39m\u001b[32m, line 1\u001b[39m\n\u001b[32m----> \u001b[39m\u001b[32m1\u001b[39m \u001b[43mmodel_tuple\u001b[49m\u001b[43m[\u001b[49m\u001b[32;43m0\u001b[39;49m\u001b[43m]\u001b[49m\u001b[43m[\u001b[49m\u001b[33;43m\"\u001b[39;49m\u001b[33;43mCrime Rank (where 1 is most deprived)\u001b[39;49m\u001b[33;43m\"\u001b[39;49m\u001b[43m]\u001b[49m.value_counts()\n",
      "\u001b[36mFile \u001b[39m\u001b[32mc:\\MiniConda\\envs\\py311\\Lib\\site-packages\\pandas\\core\\frame.py:4102\u001b[39m, in \u001b[36mDataFrame.__getitem__\u001b[39m\u001b[34m(self, key)\u001b[39m\n\u001b[32m   4100\u001b[39m \u001b[38;5;28;01mif\u001b[39;00m \u001b[38;5;28mself\u001b[39m.columns.nlevels > \u001b[32m1\u001b[39m:\n\u001b[32m   4101\u001b[39m     \u001b[38;5;28;01mreturn\u001b[39;00m \u001b[38;5;28mself\u001b[39m._getitem_multilevel(key)\n\u001b[32m-> \u001b[39m\u001b[32m4102\u001b[39m indexer = \u001b[38;5;28;43mself\u001b[39;49m\u001b[43m.\u001b[49m\u001b[43mcolumns\u001b[49m\u001b[43m.\u001b[49m\u001b[43mget_loc\u001b[49m\u001b[43m(\u001b[49m\u001b[43mkey\u001b[49m\u001b[43m)\u001b[49m\n\u001b[32m   4103\u001b[39m \u001b[38;5;28;01mif\u001b[39;00m is_integer(indexer):\n\u001b[32m   4104\u001b[39m     indexer = [indexer]\n",
      "\u001b[36mFile \u001b[39m\u001b[32mc:\\MiniConda\\envs\\py311\\Lib\\site-packages\\pandas\\core\\indexes\\base.py:3812\u001b[39m, in \u001b[36mIndex.get_loc\u001b[39m\u001b[34m(self, key)\u001b[39m\n\u001b[32m   3807\u001b[39m     \u001b[38;5;28;01mif\u001b[39;00m \u001b[38;5;28misinstance\u001b[39m(casted_key, \u001b[38;5;28mslice\u001b[39m) \u001b[38;5;129;01mor\u001b[39;00m (\n\u001b[32m   3808\u001b[39m         \u001b[38;5;28misinstance\u001b[39m(casted_key, abc.Iterable)\n\u001b[32m   3809\u001b[39m         \u001b[38;5;129;01mand\u001b[39;00m \u001b[38;5;28many\u001b[39m(\u001b[38;5;28misinstance\u001b[39m(x, \u001b[38;5;28mslice\u001b[39m) \u001b[38;5;28;01mfor\u001b[39;00m x \u001b[38;5;129;01min\u001b[39;00m casted_key)\n\u001b[32m   3810\u001b[39m     ):\n\u001b[32m   3811\u001b[39m         \u001b[38;5;28;01mraise\u001b[39;00m InvalidIndexError(key)\n\u001b[32m-> \u001b[39m\u001b[32m3812\u001b[39m     \u001b[38;5;28;01mraise\u001b[39;00m \u001b[38;5;167;01mKeyError\u001b[39;00m(key) \u001b[38;5;28;01mfrom\u001b[39;00m\u001b[38;5;250m \u001b[39m\u001b[34;01merr\u001b[39;00m\n\u001b[32m   3813\u001b[39m \u001b[38;5;28;01mexcept\u001b[39;00m \u001b[38;5;167;01mTypeError\u001b[39;00m:\n\u001b[32m   3814\u001b[39m     \u001b[38;5;66;03m# If we have a listlike key, _check_indexing_error will raise\u001b[39;00m\n\u001b[32m   3815\u001b[39m     \u001b[38;5;66;03m#  InvalidIndexError. Otherwise we fall through and re-raise\u001b[39;00m\n\u001b[32m   3816\u001b[39m     \u001b[38;5;66;03m#  the TypeError.\u001b[39;00m\n\u001b[32m   3817\u001b[39m     \u001b[38;5;28mself\u001b[39m._check_indexing_error(key)\n",
      "\u001b[31mKeyError\u001b[39m: 'Crime Rank (where 1 is most deprived)'"
     ]
    }
   ],
   "source": [
    "model_tuple[0][\"Crime Rank (where 1 is most deprived)\"].value_counts()"
   ]
  },
  {
   "cell_type": "code",
   "execution_count": null,
   "id": "f11b69e0",
   "metadata": {},
   "outputs": [],
   "source": [
    "factor_summaries[\"b_dynamic\"]"
   ]
  },
  {
   "cell_type": "code",
   "execution_count": null,
   "id": "1506497c",
   "metadata": {},
   "outputs": [],
   "source": [
    "factors_map ={\n",
    "    \"b_static\": model_tuple[1],\n",
    "    \"b_dynamic\": model_tuple[2],\n",
    "    \"b_seasonal\": model_tuple[3],\n",
    "    \"b_time_tr\": model_tuple[4],\n",
    "    \"b_temporal\": model_tuple[5],\n",
    "    \"b_spatial\": model_tuple[6],\n",
    "}"
   ]
  },
  {
   "cell_type": "code",
   "execution_count": null,
   "id": "d1cba5df",
   "metadata": {},
   "outputs": [],
   "source": [
    "check = prediction_tester.get_median_predictions()"
   ]
  },
  {
   "cell_type": "code",
   "execution_count": null,
   "id": "d1520dbd",
   "metadata": {},
   "outputs": [],
   "source": [
    "check[\"true\"] = prediction_tester.y\n",
    "check[\"diff\"] = check[\"median\"] - check[\"true\"]"
   ]
  },
  {
   "cell_type": "code",
   "execution_count": null,
   "id": "de093592",
   "metadata": {},
   "outputs": [],
   "source": [
    "check"
   ]
  },
  {
   "cell_type": "code",
   "execution_count": null,
   "id": "735ebd97",
   "metadata": {},
   "outputs": [],
   "source": [
    "import matplotlib.pyplot as plt\n",
    "wtf = check.nlargest(200, columns=[\"diff\"])\n",
    "plt.figure(figsize=(15, 6))\n",
    "plt.plot(wtf.index, wtf[\"median\"], marker='o', label=\"Predicted Median\")\n",
    "plt.plot(wtf.index, wtf[\"true\"], marker='s', label=\"Actual\")\n",
    "\n",
    "plt.xlabel(\"Date\")\n",
    "plt.ylabel(\"Value\")\n",
    "plt.title(\"Two Series on the Same Scale\")\n",
    "plt.legend()\n",
    "plt.grid(True)\n",
    "plt.tight_layout()\n",
    "plt.show()"
   ]
  },
  {
   "cell_type": "code",
   "execution_count": null,
   "id": "86e0fcab",
   "metadata": {},
   "outputs": [],
   "source": [
    "check[[\"median\", \"true\", \"diff\"]].describe()"
   ]
  },
  {
   "cell_type": "code",
   "execution_count": null,
   "id": "9dd011a8",
   "metadata": {},
   "outputs": [],
   "source": [
    "\n"
   ]
  },
  {
   "cell_type": "code",
   "execution_count": null,
   "id": "38da631e",
   "metadata": {},
   "outputs": [],
   "source": []
  }
 ],
 "metadata": {
  "kernelspec": {
   "display_name": "py311",
   "language": "python",
   "name": "python3"
  },
  "language_info": {
   "codemirror_mode": {
    "name": "ipython",
    "version": 3
   },
   "file_extension": ".py",
   "mimetype": "text/x-python",
   "name": "python",
   "nbconvert_exporter": "python",
   "pygments_lexer": "ipython3",
   "version": "3.11.12"
  }
 },
 "nbformat": 4,
 "nbformat_minor": 5
}
