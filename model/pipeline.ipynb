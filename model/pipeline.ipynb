{
 "cells": [
  {
   "cell_type": "code",
   "execution_count": 1,
   "id": "ab91d236",
   "metadata": {},
   "outputs": [
    {
     "name": "stderr",
     "output_type": "stream",
     "text": [
      "c:\\Users\\rayan\\anaconda3\\envs\\fdc2\\Lib\\site-packages\\tqdm\\auto.py:21: TqdmWarning: IProgress not found. Please update jupyter and ipywidgets. See https://ipywidgets.readthedocs.io/en/stable/user_install.html\n",
      "  from .autonotebook import tqdm as notebook_tqdm\n"
     ]
    }
   ],
   "source": [
    "from data_prep.data_prep import prepare_all_data\n",
    "from training.training import prepare_model_data, grid_search\n",
    "from training.feature_selection import forward_feature_selection, correlation_feature_selection,projection_predictive_selection,apply_correlation_filter_and_corona_interactions\n",
    "from model import burglary_model\n",
    "from utils.utils import single_out_last, setup_reproducibility\n",
    "from testing.testing import StatisticalTester\n",
    "from pipeline import train_and_evaluate_model, cross_validate_time_splits\n",
    "model_tuple, occupation_mappings,ward_idx_map = prepare_all_data(\"../merged_data.parquet\", \"lsoa\")"
   ]
  },
  {
   "cell_type": "code",
   "execution_count": 2,
   "id": "1779d37c",
   "metadata": {},
   "outputs": [
    {
     "name": "stdout",
     "output_type": "stream",
     "text": [
      "Using device: cpu\n"
     ]
    }
   ],
   "source": [
    "device = setup_reproducibility(42)\n",
    "print(f'Using device: {device}')\n",
    "training_data, testing_data = single_out_last(model_tuple[0])"
   ]
  },
  {
   "cell_type": "code",
   "execution_count": null,
   "id": "3cbb4216",
   "metadata": {},
   "outputs": [
    {
     "ename": "NameError",
     "evalue": "name 'candidate_features' is not defined",
     "output_type": "error",
     "traceback": [
      "\u001b[31m---------------------------------------------------------------------------\u001b[39m",
      "\u001b[31mNameError\u001b[39m                                 Traceback (most recent call last)",
      "\u001b[36mCell\u001b[39m\u001b[36m \u001b[39m\u001b[32mIn[3]\u001b[39m\u001b[32m, line 118\u001b[39m\n\u001b[32m     79\u001b[39m val_df = gdf[gdf[\u001b[33m'\u001b[39m\u001b[33mtime_s\u001b[39m\u001b[33m'\u001b[39m] >= split_point]\n\u001b[32m     81\u001b[39m \u001b[38;5;66;03m# candidate_features = {\u001b[39;00m\n\u001b[32m     82\u001b[39m \u001b[38;5;66;03m#     'static': model_tuple[1],\u001b[39;00m\n\u001b[32m     83\u001b[39m \u001b[38;5;66;03m#     'dynamic': model_tuple[2],\u001b[39;00m\n\u001b[32m   (...)\u001b[39m\u001b[32m    112\u001b[39m \u001b[38;5;66;03m# )\u001b[39;00m\n\u001b[32m    113\u001b[39m \u001b[38;5;66;03m#print(model_tuple)\u001b[39;00m\n\u001b[32m    114\u001b[39m gdf, candidate_features = apply_correlation_filter_and_corona_interactions(\n\u001b[32m    115\u001b[39m     burglary_model,\n\u001b[32m    116\u001b[39m     train_df,\n\u001b[32m    117\u001b[39m     val_df,\n\u001b[32m--> \u001b[39m\u001b[32m118\u001b[39m     \u001b[43mcandidate_features\u001b[49m,\n\u001b[32m    119\u001b[39m     device,\n\u001b[32m    120\u001b[39m     max_features=\u001b[32m10\u001b[39m,\n\u001b[32m    121\u001b[39m     debug_random=\u001b[38;5;28;01mFalse\u001b[39;00m,\n\u001b[32m    122\u001b[39m )\n\u001b[32m    124\u001b[39m \u001b[38;5;66;03m# Build model tuple\u001b[39;00m\n\u001b[32m    125\u001b[39m model_tuple = (\n\u001b[32m    126\u001b[39m     gdf,\n\u001b[32m    127\u001b[39m     candidate_features[\u001b[33m'\u001b[39m\u001b[33mstatic\u001b[39m\u001b[33m'\u001b[39m],\n\u001b[32m   (...)\u001b[39m\u001b[32m    132\u001b[39m     candidate_features[\u001b[33m'\u001b[39m\u001b[33mspatial\u001b[39m\u001b[33m'\u001b[39m],\n\u001b[32m    133\u001b[39m )\n",
      "\u001b[31mNameError\u001b[39m: name 'candidate_features' is not defined"
     ]
    }
   ],
   "source": [
    "# #Automated Feature Selection Block \n",
    "# #Correlation Feature Selection: Computationally Light\n",
    "# #FORWARD Feature Selection: Computationally Heavy, More Accurate but needs a GPU\n",
    "# inner_train,inner_val = single_out_last(training_data)\n",
    "# candidate_features = {\n",
    "#     \"static\": model_tuple[1],\n",
    "#     'dynamic': model_tuple[2],\n",
    "#     'seasonal': model_tuple[3],\n",
    "#     'time_trend': model_tuple[4],\n",
    "#     'temporal': model_tuple[5],\n",
    "#     'spatial': model_tuple[6],\n",
    "#     }\n",
    "# #selected_feats = correlation_feature_selection(inner_train,candidate_features, max_features=12,print_progress=True)\n",
    "# selected_feats=projection_predictive_selection(\n",
    "#     burglary_model,\n",
    "#     inner_train,\n",
    "#     inner_val,\n",
    "#     candidate_features,\n",
    "#     device,\n",
    "#     num_steps=200,\n",
    "#     lr=1e-3,\n",
    "#     guide_type='diag',\n",
    "#     verbose=False,\n",
    "#     max_features=10,\n",
    "#     print_progress=True\n",
    "# )\n",
    "# print(f\"Selected features: {selected_feats}\")\n",
    "# #Forward Feature Selection:\n",
    "# #selected_feats = forward_feature_selection(burglary_model,inner_train,inner_val,candidate_features,device,num_steps=200,lr=1e-3,guide_type='diag',verbose=False max_features=10, print_progress=True)\n",
    "# ['Car or van availability|1 car or van in household (%)', 'Car or van availability|Cars per household', 'Car or van availability|No cars or vans in household (%)', 'Ethnic Group|BAME (%)', 'Household Composition|% Other multi person household', 'Household Composition|% Couple household with dependent children', 'Public Transport Accessibility Levels|Number of people in each PTAL level:|6a', 'Public Transport Accessibility Levels|Number of people in each PTAL level:|2', 'Tenure|Owned outright (%)', 'n_neighbors', 'Public Transport Accessibility Levels|% 4-6 (good access)|Level3_67', 'Tenure|Owned with a mortgage or loan (%)', 'Public Transport Accessibility Levels|Number of people in each PTAL level:|1b', 'Dwelling type|Flat, maisonette or apartment (%)', 'Public Transport Accessibility Levels|Number of people in each PTAL level:|4', 'Public Transport Accessibility Levels|Number of people in each PTAL level:|5', 'Household Composition|% One person household', 'Ethnic Group|Asian/Asian British (%)', 'Public Transport Accessibility Levels|Number of people in each PTAL level:|3', 'Shopping locations', 'Ethnic Group|Black/African/Caribbean/Black British (%)', 'Ethnic Group|Other ethnic group (%)', 'area', 'Public transport locations', 'Public Transport Accessibility Levels|% 2-3 (average access)|Level3_66', 'Ethnic Group|White (%)', 'Education locations', 'Car or van availability|4 or more cars or vans in household (%)', 'Public Transport Accessibility Levels|Number of people in each PTAL level:|1a', 'Public Transport Accessibility Levels|Number of people in each PTAL level:|6b', 'Public Transport Accessibility Levels|% 0-1 (poor access)|Level3_65', 'Car or van availability|2 cars or vans in household (%)'],\n",
    "# ['Barriers to Housing and Services Rank (where 1 is most deprived)', 'Mid-year Population Estimates|All Ages', 'Mid-year Population Estimates|Aged 45-64', 'Mid-year Population Estimates|Aged 0-15', 'lag_1_x_n_neighbors', 'Employment Rank (where 1 is most deprived)', 'Index of Multiple Deprivation (IMD) Rank (where 1 is most deprived)', 'Mid-year Population Estimates|Working-age', 'Health Deprivation and Disability Rank (where 1 is most deprived)', 'Mid-year Population Estimates|Aged 65+', 'Education, Skills and Training Rank (where 1 is most deprived)', 'Income Rank (where 1 is most deprived)'],\n",
    "# ['during_corona', 'post_corona'],\n",
    "# ['time_log'],\n",
    "# ['lag_1', 'lag_3'],\n",
    "# ['lag1_diff_neighbors', 'lag_1_x_n_neighbors', 'lag1_median_neighbors', 'lag1_mean_neighbors', 'lag1_sum_neighbors'],\n",
    "\n",
    "# rmse          2.185602\n",
    "# mae           1.073718\n",
    "# crps          1.527997\n",
    "\n",
    "\n",
    "# ['Ethnic Group|BAME (%)', 'Car or van availability|No cars or vans in household (%)', 'Public Transport Accessibility Levels|Number of people in each PTAL level:|4', 'n_neighbors', 'Public Transport Accessibility Levels|Number of people in each PTAL level:|3', 'Public Transport Accessibility Levels|% 0-1 (poor access)|Level3_65', 'Household Composition|% One person household', 'Public Transport Accessibility Levels|Number of people in each PTAL level:|6a', 'Ethnic Group|Asian/Asian British (%)', 'Public Transport Accessibility Levels|Number of people in each PTAL level:|2', 'Ethnic Group|Black/African/Caribbean/Black British (%)', 'Public Transport Accessibility Levels|Number of people in each PTAL level:|6b', 'Car or van availability|1 car or van in household (%)', 'Ethnic Group|Other ethnic group (%)', 'Tenure|Owned with a mortgage or loan (%)', 'Car or van availability|2 cars or vans in household (%)'],\n",
    "# ['Mid-year Population Estimates|All Ages', 'Mid-year Population Estimates|Aged 0-15', 'Index of Multiple Deprivation (IMD) Rank (where 1 is most deprived)', 'Education, Skills and Training Rank (where 1 is most deprived)', 'Mid-year Population Estimates|Aged 45-64', 'Employment Rank (where 1 is most deprived)', 'Income Rank (where 1 is most deprived)'],\n",
    "# [\"post_corona\", \"month_sin\"],\n",
    "# ['time_log'],\n",
    "# ['lag_1'],\n",
    "# ['lag1_diff_neighbors', 'lag1_mean_neighbors', 'lag_1_x_n_neighbors']\n",
    "\n",
    "# rmse          1.595894\n",
    "# mae           0.933347\n",
    "# crps          0.702800\n",
    "\n",
    "\n",
    "\n",
    "# ['Tenure|Owned with a mortgage or loan (%)', 'Public Transport Accessibility Levels|Number of people in each PTAL level:|2', 'Car or van availability|No cars or vans in household (%)', 'Household Composition|% One person household', 'Public Transport Accessibility Levels|Number of people in each PTAL level:|4', 'Ethnic Group|Black/African/Caribbean/Black British (%)'],\n",
    "# ['Index of Multiple Deprivation (IMD) Rank (where 1 is most deprived)', 'Employment Rank (where 1 is most deprived)', 'Mid-year Population Estimates|Aged 0-15', 'Income Rank (where 1 is most deprived)'],\n",
    "# [\"during_corona\", \"month_sin\"],\n",
    "# ['time_log'],\n",
    "# ['lag_1'],\n",
    "# ['lag1_diff_neighbors', 'lag1_mean_neighbors']\n",
    "\n",
    "# rmse          1.595894\n",
    "# mae           0.933347\n",
    "# crps          0.702800\n",
    "\n",
    "#model_tuple = (\n",
    "#    model_tuple[0],\n",
    "#['Ethnic Group|BAME (%)', 'Car or van availability|No cars or vans in household (%)', 'Public Transport Accessibility Levels|Number of people in each PTAL level:|4', 'n_neighbors', 'Public Transport Accessibility Levels|Number of people in each PTAL level:|3', 'Public Transport Accessibility Levels|% 0-1 (poor access)|Level3_65', 'Household Composition|% One person household', 'Public Transport Accessibility Levels|Number of people in each PTAL level:|6a', 'Ethnic Group|Asian/Asian British (%)', 'Public Transport Accessibility Levels|Number of people in each PTAL level:|2', 'Ethnic Group|Black/African/Caribbean/Black British (%)', 'Public Transport Accessibility Levels|Number of people in each PTAL level:|6b', 'Car or van availability|1 car or van in household (%)', 'Ethnic Group|Other ethnic group (%)', 'Tenure|Owned with a mortgage or loan (%)', 'Car or van availability|2 cars or vans in household (%)'],\n",
    "#['Mid-year Population Estimates|All Ages', 'Mid-year Population Estimates|Aged 0-15', 'Index of Multiple Deprivation (IMD) Rank (where 1 is most deprived)', 'Education, Skills and Training Rank (where 1 is most deprived)', 'Mid-year Population Estimates|Aged 45-64', 'Employment Rank (where 1 is most deprived)', 'Income Rank (where 1 is most deprived)'],\n",
    "#[\"post_corona\", \"month_sin\"],\n",
    "#['time_log'],\n",
    "#['lag_1'],\n",
    "#['lag1_diff_neighbors', 'lag1_mean_neighbors', 'lag_1_x_n_neighbors']\n",
    "#)\n",
    "\n",
    "gdf = model_tuple[0]\n",
    "split_point = gdf['time_s'].max() - 3\n",
    "train_df = gdf[gdf['time_s'] < split_point]\n",
    "val_df = gdf[gdf['time_s'] >= split_point]\n",
    "\n",
    "candidate_features = {\n",
    "    'static': model_tuple[1],\n",
    "    'dynamic': model_tuple[2],\n",
    "    'seasonal': model_tuple[3],\n",
    "    'time_trend': model_tuple[4],\n",
    "    'temporal': model_tuple[5],\n",
    "    'spatial': model_tuple[6],\n",
    "}\n",
    "\n",
    "# selected_feats = forward_feature_selection(\n",
    "#     burglary_model,\n",
    "#     train_df,\n",
    "#     val_df,\n",
    "#     candidate_features,\n",
    "#     device,\n",
    "#     max_features=10,\n",
    "#     debug_random=False,\n",
    "# )\n",
    "\n",
    "# print('Selected features (debug mode):')\n",
    "# for group, feats in selected_feats.items():\n",
    "#     print(group, feats)\n",
    "\n",
    "# model_tuple = (\n",
    "#     model_tuple[0],\n",
    "#     selected_feats['static'],\n",
    "#     selected_feats['dynamic'],\n",
    "#     selected_feats['seasonal'],\n",
    "#     selected_feats['time_trend'],\n",
    "#     selected_feats['temporal'],\n",
    "#     selected_feats['spatial'],\n",
    "# )\n",
    "#print(model_tuple)\n",
    "gdf, candidate_features = apply_correlation_filter_and_corona_interactions(\n",
    "    burglary_model,\n",
    "    train_df,\n",
    "    val_df,\n",
    "    candidate_features,\n",
    "    device,\n",
    "    max_features=10,\n",
    "    debug_random=False,\n",
    ")\n",
    "\n",
    "# Build model tuple\n",
    "model_tuple = (\n",
    "    gdf,\n",
    "    candidate_features['static'],\n",
    "    candidate_features['dynamic'],\n",
    "    candidate_features['seasonal'],\n",
    "    candidate_features['time_trend'],\n",
    "    candidate_features['temporal'],\n",
    "    candidate_features['spatial'],\n",
    ")"
   ]
  },
  {
   "cell_type": "code",
   "execution_count": null,
   "id": "150a5f30",
   "metadata": {},
   "outputs": [
    {
     "ename": "KeyError",
     "evalue": "'time_s'",
     "output_type": "error",
     "traceback": [
      "\u001b[31m---------------------------------------------------------------------------\u001b[39m",
      "\u001b[31mKeyError\u001b[39m                                  Traceback (most recent call last)",
      "\u001b[32m~\\AppData\\Local\\Temp\\ipykernel_436\\2183201057.py\u001b[39m in \u001b[36m?\u001b[39m\u001b[34m()\u001b[39m\n\u001b[32m----> \u001b[39m\u001b[32m1\u001b[39m results = cross_validate_time_splits(model_tuple, \"time_s\", 12, burglary_model,\n\u001b[32m      2\u001b[39m                            occupation_mappings[1], device, ward_idx_map)\n",
      "\u001b[32mc:\\Users\\rayan\\OneDrive\\Documents\\GitHub\\ARWCASP\\model\\pipeline.py\u001b[39m in \u001b[36m?\u001b[39m\u001b[34m(model_tuple, time_col, n_splits, burglary_model, occupation_map, device, ward_idx_map)\u001b[39m\n\u001b[32m     55\u001b[39m     Perform rolling‐window cross‐validation over the last `n_splits` time points.\n\u001b[32m     56\u001b[39m     For each split, train on the immediately preceding time_s value \u001b[38;5;28;01mand\u001b[39;00m test on that time_s.\n\u001b[32m     57\u001b[39m     Returns a DataFrame summarizing the evaluation metrics \u001b[38;5;28;01mfor\u001b[39;00m each split.\n\u001b[32m     58\u001b[39m     \"\"\"\n\u001b[32m---> \u001b[39m\u001b[32m59\u001b[39m     splits = last_n_time_splits(model_tuple[\u001b[32m0\u001b[39m], time_col=time_col, n_splits=n_splits)\n\u001b[32m     60\u001b[39m     records = []\n\u001b[32m     61\u001b[39m \n\u001b[32m     62\u001b[39m     \u001b[38;5;28;01mfor\u001b[39;00m train_df, test_df \u001b[38;5;28;01min\u001b[39;00m splits:\n",
      "\u001b[32mc:\\Users\\rayan\\OneDrive\\Documents\\GitHub\\ARWCASP\\model\\utils\\utils.py\u001b[39m in \u001b[36m?\u001b[39m\u001b[34m(df, time_col, n_splits)\u001b[39m\n\u001b[32m    103\u001b[39m         (\n\u001b[32m    104\u001b[39m             df.query(\u001b[33mf\"{time_col} < {time_vallue}\"\u001b[39m).copy(),\n\u001b[32m    105\u001b[39m             df.query(\u001b[33mf\"{time_col} == {time_vallue}\"\u001b[39m).copy(),\n\u001b[32m    106\u001b[39m         )\n\u001b[32m--> \u001b[39m\u001b[32m107\u001b[39m         \u001b[38;5;28;01mfor\u001b[39;00m time_vallue \u001b[38;5;28;01min\u001b[39;00m df.sort_values(time_col)[time_col]\n\u001b[32m    108\u001b[39m         .unique()\n\u001b[32m    109\u001b[39m         .tolist()[-n_splits:]\n\u001b[32m    110\u001b[39m     )\n",
      "\u001b[32mc:\\Users\\rayan\\anaconda3\\envs\\fdc2\\Lib\\site-packages\\pandas\\core\\frame.py\u001b[39m in \u001b[36m?\u001b[39m\u001b[34m(self, by, axis, ascending, inplace, kind, na_position, ignore_index, key)\u001b[39m\n\u001b[32m   7185\u001b[39m             )\n\u001b[32m   7186\u001b[39m         \u001b[38;5;28;01melif\u001b[39;00m len(by):\n\u001b[32m   7187\u001b[39m             \u001b[38;5;66;03m# len(by) == 1\u001b[39;00m\n\u001b[32m   7188\u001b[39m \n\u001b[32m-> \u001b[39m\u001b[32m7189\u001b[39m             k = self._get_label_or_level_values(by[\u001b[32m0\u001b[39m], axis=axis)\n\u001b[32m   7190\u001b[39m \n\u001b[32m   7191\u001b[39m             \u001b[38;5;66;03m# need to rewrap column in Series to apply key function\u001b[39;00m\n\u001b[32m   7192\u001b[39m             \u001b[38;5;28;01mif\u001b[39;00m key \u001b[38;5;28;01mis\u001b[39;00m \u001b[38;5;28;01mnot\u001b[39;00m \u001b[38;5;28;01mNone\u001b[39;00m:\n",
      "\u001b[32mc:\\Users\\rayan\\anaconda3\\envs\\fdc2\\Lib\\site-packages\\pandas\\core\\generic.py\u001b[39m in \u001b[36m?\u001b[39m\u001b[34m(self, key, axis)\u001b[39m\n\u001b[32m   1907\u001b[39m             values = self.xs(key, axis=other_axes[\u001b[32m0\u001b[39m])._values\n\u001b[32m   1908\u001b[39m         \u001b[38;5;28;01melif\u001b[39;00m self._is_level_reference(key, axis=axis):\n\u001b[32m   1909\u001b[39m             values = self.axes[axis].get_level_values(key)._values\n\u001b[32m   1910\u001b[39m         \u001b[38;5;28;01melse\u001b[39;00m:\n\u001b[32m-> \u001b[39m\u001b[32m1911\u001b[39m             \u001b[38;5;28;01mraise\u001b[39;00m KeyError(key)\n\u001b[32m   1912\u001b[39m \n\u001b[32m   1913\u001b[39m         \u001b[38;5;66;03m# Check for duplicates\u001b[39;00m\n\u001b[32m   1914\u001b[39m         \u001b[38;5;28;01mif\u001b[39;00m values.ndim > \u001b[32m1\u001b[39m:\n",
      "\u001b[31mKeyError\u001b[39m: 'time_s'"
     ]
    }
   ],
   "source": [
    "results = cross_validate_time_splits(model_tuple, \"time_s\", 12, burglary_model,\n",
    "                           occupation_mappings[1], device, ward_idx_map)"
   ]
  },
  {
   "cell_type": "code",
   "execution_count": null,
   "id": "789372e0",
   "metadata": {},
   "outputs": [],
   "source": [
    "results[0]"
   ]
  },
  {
   "cell_type": "code",
   "execution_count": null,
   "id": "44a93729",
   "metadata": {},
   "outputs": [],
   "source": [
    "results[0].mean()"
   ]
  },
  {
   "cell_type": "code",
   "execution_count": null,
   "id": "531bc2e0",
   "metadata": {},
   "outputs": [],
   "source": [
    "train_data = prepare_model_data(training_data, *model_tuple[1:], device, ward_idx_map=ward_idx_map)\n",
    "test_data = prepare_model_data(testing_data, *model_tuple[1:], device, train_data[\"means\"], train_data[\"stds\"], ward_idx_map)\n",
    "\n",
    "evaluation_metrics, svi, svi.guide, prediction_tester = train_and_evaluate_model(train_data, test_data, burglary_model, occupation_mappings[1])"
   ]
  },
  {
   "cell_type": "code",
   "execution_count": null,
   "id": "6f049756",
   "metadata": {},
   "outputs": [],
   "source": [
    "factors_map ={\n",
    "    \"b_static\": model_tuple[1],\n",
    "    \"b_dynamic\": model_tuple[2],\n",
    "    \"b_seasonal\": model_tuple[3],\n",
    "    \"b_time_tr\": model_tuple[4],\n",
    "    \"b_temporal\": model_tuple[5],\n",
    "    \"b_spatial\": model_tuple[6],\n",
    "}\n",
    "\n",
    "statistical_tester = StatisticalTester(test_data, burglary_model, svi.guide, factors_map)"
   ]
  },
  {
   "cell_type": "code",
   "execution_count": null,
   "id": "36193bbc",
   "metadata": {},
   "outputs": [],
   "source": [
    "statistical_tester.predict(5_000)"
   ]
  },
  {
   "cell_type": "code",
   "execution_count": null,
   "id": "a600a2d5",
   "metadata": {},
   "outputs": [],
   "source": [
    "factor_summaries = statistical_tester.evaluate_all(alpha=0.1)"
   ]
  },
  {
   "cell_type": "code",
   "execution_count": null,
   "id": "1ddbe0e3",
   "metadata": {},
   "outputs": [],
   "source": [
    "# import pandas as pd\n",
    "# inner_train, inner_val = single_out_last(training_data)\n",
    "# param_grid = {\n",
    "#       \"lr\": [1e-2, 5e-3, 1e-3],\n",
    "#       \"guide_type\": [\"diag\", \"lowrank\"]\n",
    "#       }\n",
    "# results_df = grid_search(\n",
    "#       burglary_model,\n",
    "#       inner_train,\n",
    "#       inner_val,\n",
    "#       *model_tuple[1:],\n",
    "#       device,\n",
    "#       param_grid,\n",
    "#       ward_idx_map=ward_idx_map,\n",
    "#       num_steps=500,\n",
    "#       )\n",
    "# print(results_df)\n",
    "# print(\"Best parameters:\", results_df.loc[0].to_dict())"
   ]
  },
  {
   "cell_type": "code",
   "execution_count": null,
   "id": "e3817d52",
   "metadata": {},
   "outputs": [],
   "source": [
    "for key, value in factor_summaries.items():\n",
    "    print(value.query(\"significant_CI == 'Yes'\")[\"col\"].tolist())"
   ]
  },
  {
   "cell_type": "code",
   "execution_count": null,
   "id": "dfae39d5",
   "metadata": {},
   "outputs": [],
   "source": [
    "model_tuple[0][\"Crime Rank (where 1 is most deprived)\"].value_counts()"
   ]
  },
  {
   "cell_type": "code",
   "execution_count": null,
   "id": "f11b69e0",
   "metadata": {},
   "outputs": [],
   "source": [
    "factor_summaries[\"b_dynamic\"]"
   ]
  },
  {
   "cell_type": "code",
   "execution_count": null,
   "id": "1506497c",
   "metadata": {},
   "outputs": [],
   "source": [
    "factors_map ={\n",
    "    \"b_static\": model_tuple[1],\n",
    "    \"b_dynamic\": model_tuple[2],\n",
    "    \"b_seasonal\": model_tuple[3],\n",
    "    \"b_time_tr\": model_tuple[4],\n",
    "    \"b_temporal\": model_tuple[5],\n",
    "    \"b_spatial\": model_tuple[6],\n",
    "}"
   ]
  },
  {
   "cell_type": "code",
   "execution_count": null,
   "id": "d1cba5df",
   "metadata": {},
   "outputs": [],
   "source": [
    "check = prediction_tester.get_median_predictions()"
   ]
  },
  {
   "cell_type": "code",
   "execution_count": null,
   "id": "d1520dbd",
   "metadata": {},
   "outputs": [],
   "source": [
    "check[\"true\"] = prediction_tester.y\n",
    "check[\"diff\"] = check[\"median\"] - check[\"true\"]"
   ]
  },
  {
   "cell_type": "code",
   "execution_count": null,
   "id": "de093592",
   "metadata": {},
   "outputs": [],
   "source": [
    "check"
   ]
  },
  {
   "cell_type": "code",
   "execution_count": null,
   "id": "735ebd97",
   "metadata": {},
   "outputs": [],
   "source": [
    "import matplotlib.pyplot as plt\n",
    "wtf = check.nlargest(200, columns=[\"diff\"])\n",
    "plt.figure(figsize=(15, 6))\n",
    "plt.plot(wtf.index, wtf[\"median\"], marker='o', label=\"Predicted Median\")\n",
    "plt.plot(wtf.index, wtf[\"true\"], marker='s', label=\"Actual\")\n",
    "\n",
    "plt.xlabel(\"Date\")\n",
    "plt.ylabel(\"Value\")\n",
    "plt.title(\"Two Series on the Same Scale\")\n",
    "plt.legend()\n",
    "plt.grid(True)\n",
    "plt.tight_layout()\n",
    "plt.show()"
   ]
  },
  {
   "cell_type": "code",
   "execution_count": null,
   "id": "86e0fcab",
   "metadata": {},
   "outputs": [],
   "source": [
    "check[[\"median\", \"true\", \"diff\"]].describe()"
   ]
  },
  {
   "cell_type": "code",
   "execution_count": null,
   "id": "9dd011a8",
   "metadata": {},
   "outputs": [],
   "source": []
  }
 ],
 "metadata": {
  "kernelspec": {
   "display_name": "fdc2",
   "language": "python",
   "name": "python3"
  },
  "language_info": {
   "codemirror_mode": {
    "name": "ipython",
    "version": 3
   },
   "file_extension": ".py",
   "mimetype": "text/x-python",
   "name": "python",
   "nbconvert_exporter": "python",
   "pygments_lexer": "ipython3",
   "version": "3.11.11"
  }
 },
 "nbformat": 4,
 "nbformat_minor": 5
}
