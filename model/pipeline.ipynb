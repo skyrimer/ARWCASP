{
 "cells": [
  {
   "cell_type": "code",
   "execution_count": 1,
   "id": "ab91d236",
   "metadata": {},
   "outputs": [
    {
     "name": "stderr",
     "output_type": "stream",
     "text": [
      "C:\\Users\\20231596\\AppData\\Roaming\\Python\\Python312\\site-packages\\tqdm\\auto.py:21: TqdmWarning: IProgress not found. Please update jupyter and ipywidgets. See https://ipywidgets.readthedocs.io/en/stable/user_install.html\n",
      "  from .autonotebook import tqdm as notebook_tqdm\n"
     ]
    }
   ],
   "source": [
    "from data_prep.data_prep import prepare_all_data\n",
    "from training.training import prepare_model_data, grid_search\n",
    "from training.feature_selection import forward_feature_selection, correlation_feature_selection,projection_predictive_selection\n",
    "from model import burglary_model\n",
    "from utils.utils import single_out_last, setup_reproducibility\n",
    "from testing.testing import StatisticalTester\n",
    "from pipeline import train_and_evaluate_model\n",
    "model_tuple, occupation_mappings,ward_idx_map = prepare_all_data(\"../merged_data.parquet\", \"lsoa\")"
   ]
  },
  {
   "cell_type": "code",
   "execution_count": 2,
   "id": "1779d37c",
   "metadata": {},
   "outputs": [
    {
     "name": "stdout",
     "output_type": "stream",
     "text": [
      "Using device: cuda\n"
     ]
    }
   ],
   "source": [
    "device = setup_reproducibility(42)\n",
    "print(f'Using device: {device}')\n",
    "training_data, testing_data = single_out_last(model_tuple[0])"
   ]
  },
  {
   "cell_type": "code",
   "execution_count": 3,
   "id": "3cbb4216",
   "metadata": {},
   "outputs": [],
   "source": [
    "# #Automated Feature Selection Block \n",
    "# #Correlation Feature Selection: Computationally Light\n",
    "# #FORWARD Feature Selection: Computationally Heavy, More Accurate but needs a GPU\n",
    "# inner_train,inner_val = single_out_last(training_data)\n",
    "# candidate_features = {\n",
    "#     \"static\": model_tuple[1],\n",
    "#     'dynamic': model_tuple[2],\n",
    "#     'seasonal': model_tuple[3],\n",
    "#     'time_trend': model_tuple[4],\n",
    "#     'temporal': model_tuple[5],\n",
    "#     'spatial': model_tuple[6],\n",
    "#     }\n",
    "# #selected_feats = correlation_feature_selection(inner_train,candidate_features, max_features=12,print_progress=True)\n",
    "# selected_feats=projection_predictive_selection(\n",
    "#     burglary_model,\n",
    "#     inner_train,\n",
    "#     inner_val,\n",
    "#     candidate_features,\n",
    "#     device,\n",
    "#     num_steps=200,\n",
    "#     lr=1e-3,\n",
    "#     guide_type='diag',\n",
    "#     verbose=False,\n",
    "#     max_features=10,\n",
    "#     print_progress=True\n",
    "# )\n",
    "# print(f\"Selected features: {selected_feats}\")\n",
    "# #Forward Feature Selection:\n",
    "# #selected_feats = forward_feature_selection(burglary_model,inner_train,inner_val,candidate_features,device,num_steps=200,lr=1e-3,guide_type='diag',verbose=False max_features=10, print_progress=True)\n",
    "# model_tuple = (\n",
    "#     model_tuple[0],\n",
    "#     selected_feats['static'],\n",
    "#     selected_feats['dynamic'],\n",
    "#     selected_feats['seasonal'],\n",
    "#     selected_feats['time_trend'],\n",
    "#     selected_feats['temporal'],\n",
    "#     selected_feats['spatial'],\n",
    "#     )"
   ]
  },
  {
   "cell_type": "code",
   "execution_count": 4,
   "id": "531bc2e0",
   "metadata": {},
   "outputs": [
    {
     "name": "stderr",
     "output_type": "stream",
     "text": [
      "Training SVI: 100%|██████████| 500/500 [00:25<00:00, 19.81it/s]\n"
     ]
    }
   ],
   "source": [
    "train_data = prepare_model_data(training_data, *model_tuple[1:], device, ward_idx_map=ward_idx_map)\n",
    "test_data = prepare_model_data(testing_data, *model_tuple[1:], device, train_data[\"means\"], train_data[\"stds\"], ward_idx_map)\n",
    "\n",
    "evaluation_metrics, svi, svi.guide, prediction_tester = train_and_evaluate_model(train_data, test_data, burglary_model, occupation_mappings[1])"
   ]
  },
  {
   "cell_type": "code",
   "execution_count": 7,
   "id": "b85f656a",
   "metadata": {},
   "outputs": [
    {
     "data": {
      "text/plain": [
       "{'rmse': np.float32(2.4565933),\n",
       " 'mae': np.float32(1.4824739),\n",
       " 'crps': 2.213439655641901}"
      ]
     },
     "execution_count": 7,
     "metadata": {},
     "output_type": "execute_result"
    }
   ],
   "source": [
    "evaluation_metrics"
   ]
  },
  {
   "cell_type": "code",
   "execution_count": 5,
   "id": "6f049756",
   "metadata": {},
   "outputs": [],
   "source": [
    "factors_map ={\n",
    "    \"b_static\": model_tuple[1],\n",
    "    \"b_dynamic\": model_tuple[2],\n",
    "    \"b_seasonal\": model_tuple[3],\n",
    "    \"b_time_tr\": model_tuple[4],\n",
    "    \"b_temporal\": model_tuple[5],\n",
    "    \"b_spatial\": model_tuple[6],\n",
    "}\n",
    "\n",
    "\n",
    "statistical_tester = StatisticalTester(test_data, burglary_model, svi.guide, factors_map)"
   ]
  },
  {
   "cell_type": "code",
   "execution_count": 6,
   "id": "36193bbc",
   "metadata": {},
   "outputs": [
    {
     "ename": "KeyboardInterrupt",
     "evalue": "",
     "output_type": "error",
     "traceback": [
      "\u001b[31m---------------------------------------------------------------------------\u001b[39m",
      "\u001b[31mKeyboardInterrupt\u001b[39m                         Traceback (most recent call last)",
      "\u001b[36mCell\u001b[39m\u001b[36m \u001b[39m\u001b[32mIn[6]\u001b[39m\u001b[32m, line 1\u001b[39m\n\u001b[32m----> \u001b[39m\u001b[32m1\u001b[39m \u001b[43mstatistical_tester\u001b[49m\u001b[43m.\u001b[49m\u001b[43mpredict\u001b[49m\u001b[43m(\u001b[49m\u001b[32;43m5_000\u001b[39;49m\u001b[43m)\u001b[49m\n",
      "\u001b[36mFile \u001b[39m\u001b[32mc:\\Users\\Chekm\\Jupiter\\ARWCASP\\model\\testing\\testing.py:264\u001b[39m, in \u001b[36mStatisticalTester.predict\u001b[39m\u001b[34m(self, num_samples)\u001b[39m\n\u001b[32m    253\u001b[39m \u001b[38;5;250m\u001b[39m\u001b[33;03m\"\"\"\u001b[39;00m\n\u001b[32m    254\u001b[39m \u001b[33;03mDraw `num_samples` posterior samples for each factor listed in factors_map.\u001b[39;00m\n\u001b[32m    255\u001b[39m \u001b[33;03mStores self.posterior_samples as a dict mapping factor names to Tensors\u001b[39;00m\n\u001b[32m    256\u001b[39m \u001b[33;03mof shape (num_samples, 1, n_cols) or (num_samples, n_cols).\u001b[39;00m\n\u001b[32m    257\u001b[39m \u001b[33;03m\"\"\"\u001b[39;00m\n\u001b[32m    258\u001b[39m predictive = Predictive(\n\u001b[32m    259\u001b[39m     model=\u001b[38;5;28mself\u001b[39m.model,\n\u001b[32m    260\u001b[39m     guide=\u001b[38;5;28mself\u001b[39m.guide,\n\u001b[32m    261\u001b[39m     num_samples=num_samples,\n\u001b[32m    262\u001b[39m     return_sites=\u001b[38;5;28mlist\u001b[39m(\u001b[38;5;28mself\u001b[39m.factors_map.keys())\n\u001b[32m    263\u001b[39m )\n\u001b[32m--> \u001b[39m\u001b[32m264\u001b[39m \u001b[38;5;28mself\u001b[39m.posterior_samples = \u001b[43mpredictive\u001b[49m\u001b[43m(\u001b[49m\n\u001b[32m    265\u001b[39m \u001b[43m    \u001b[49m\u001b[38;5;28;43mself\u001b[39;49m\u001b[43m.\u001b[49m\u001b[43moccupation_idx\u001b[49m\u001b[43m,\u001b[49m\n\u001b[32m    266\u001b[39m \u001b[43m    \u001b[49m\u001b[38;5;28;43mself\u001b[39;49m\u001b[43m.\u001b[49m\u001b[43mward_idx\u001b[49m\u001b[43m,\u001b[49m\n\u001b[32m    267\u001b[39m \u001b[43m    \u001b[49m\u001b[38;5;28;43mself\u001b[39;49m\u001b[43m.\u001b[49m\u001b[43mX_static\u001b[49m\u001b[43m,\u001b[49m\n\u001b[32m    268\u001b[39m \u001b[43m    \u001b[49m\u001b[38;5;28;43mself\u001b[39;49m\u001b[43m.\u001b[49m\u001b[43mX_dynamic\u001b[49m\u001b[43m,\u001b[49m\n\u001b[32m    269\u001b[39m \u001b[43m    \u001b[49m\u001b[38;5;28;43mself\u001b[39;49m\u001b[43m.\u001b[49m\u001b[43mX_seasonal\u001b[49m\u001b[43m,\u001b[49m\n\u001b[32m    270\u001b[39m \u001b[43m    \u001b[49m\u001b[38;5;28;43mself\u001b[39;49m\u001b[43m.\u001b[49m\u001b[43mX_time_trend\u001b[49m\u001b[43m,\u001b[49m\n\u001b[32m    271\u001b[39m \u001b[43m    \u001b[49m\u001b[38;5;28;43mself\u001b[39;49m\u001b[43m.\u001b[49m\u001b[43mX_temporal\u001b[49m\u001b[43m,\u001b[49m\n\u001b[32m    272\u001b[39m \u001b[43m    \u001b[49m\u001b[38;5;28;43mself\u001b[39;49m\u001b[43m.\u001b[49m\u001b[43mX_spatial\u001b[49m\n\u001b[32m    273\u001b[39m \u001b[43m\u001b[49m\u001b[43m)\u001b[49m\n",
      "\u001b[36mFile \u001b[39m\u001b[32mc:\\MiniConda\\envs\\py311\\Lib\\site-packages\\torch\\nn\\modules\\module.py:1751\u001b[39m, in \u001b[36mModule._wrapped_call_impl\u001b[39m\u001b[34m(self, *args, **kwargs)\u001b[39m\n\u001b[32m   1749\u001b[39m     \u001b[38;5;28;01mreturn\u001b[39;00m \u001b[38;5;28mself\u001b[39m._compiled_call_impl(*args, **kwargs)  \u001b[38;5;66;03m# type: ignore[misc]\u001b[39;00m\n\u001b[32m   1750\u001b[39m \u001b[38;5;28;01melse\u001b[39;00m:\n\u001b[32m-> \u001b[39m\u001b[32m1751\u001b[39m     \u001b[38;5;28;01mreturn\u001b[39;00m \u001b[38;5;28;43mself\u001b[39;49m\u001b[43m.\u001b[49m\u001b[43m_call_impl\u001b[49m\u001b[43m(\u001b[49m\u001b[43m*\u001b[49m\u001b[43margs\u001b[49m\u001b[43m,\u001b[49m\u001b[43m \u001b[49m\u001b[43m*\u001b[49m\u001b[43m*\u001b[49m\u001b[43mkwargs\u001b[49m\u001b[43m)\u001b[49m\n",
      "\u001b[36mFile \u001b[39m\u001b[32mc:\\MiniConda\\envs\\py311\\Lib\\site-packages\\torch\\nn\\modules\\module.py:1762\u001b[39m, in \u001b[36mModule._call_impl\u001b[39m\u001b[34m(self, *args, **kwargs)\u001b[39m\n\u001b[32m   1757\u001b[39m \u001b[38;5;66;03m# If we don't have any hooks, we want to skip the rest of the logic in\u001b[39;00m\n\u001b[32m   1758\u001b[39m \u001b[38;5;66;03m# this function, and just call forward.\u001b[39;00m\n\u001b[32m   1759\u001b[39m \u001b[38;5;28;01mif\u001b[39;00m \u001b[38;5;129;01mnot\u001b[39;00m (\u001b[38;5;28mself\u001b[39m._backward_hooks \u001b[38;5;129;01mor\u001b[39;00m \u001b[38;5;28mself\u001b[39m._backward_pre_hooks \u001b[38;5;129;01mor\u001b[39;00m \u001b[38;5;28mself\u001b[39m._forward_hooks \u001b[38;5;129;01mor\u001b[39;00m \u001b[38;5;28mself\u001b[39m._forward_pre_hooks\n\u001b[32m   1760\u001b[39m         \u001b[38;5;129;01mor\u001b[39;00m _global_backward_pre_hooks \u001b[38;5;129;01mor\u001b[39;00m _global_backward_hooks\n\u001b[32m   1761\u001b[39m         \u001b[38;5;129;01mor\u001b[39;00m _global_forward_hooks \u001b[38;5;129;01mor\u001b[39;00m _global_forward_pre_hooks):\n\u001b[32m-> \u001b[39m\u001b[32m1762\u001b[39m     \u001b[38;5;28;01mreturn\u001b[39;00m \u001b[43mforward_call\u001b[49m\u001b[43m(\u001b[49m\u001b[43m*\u001b[49m\u001b[43margs\u001b[49m\u001b[43m,\u001b[49m\u001b[43m \u001b[49m\u001b[43m*\u001b[49m\u001b[43m*\u001b[49m\u001b[43mkwargs\u001b[49m\u001b[43m)\u001b[49m\n\u001b[32m   1764\u001b[39m result = \u001b[38;5;28;01mNone\u001b[39;00m\n\u001b[32m   1765\u001b[39m called_always_called_hooks = \u001b[38;5;28mset\u001b[39m()\n",
      "\u001b[36mFile \u001b[39m\u001b[32mc:\\MiniConda\\envs\\py311\\Lib\\site-packages\\pyro\\infer\\predictive.py:268\u001b[39m, in \u001b[36mPredictive.forward\u001b[39m\u001b[34m(self, *args, **kwargs)\u001b[39m\n\u001b[32m    265\u001b[39m \u001b[38;5;28;01mif\u001b[39;00m \u001b[38;5;28mself\u001b[39m.guide \u001b[38;5;129;01mis\u001b[39;00m \u001b[38;5;129;01mnot\u001b[39;00m \u001b[38;5;28;01mNone\u001b[39;00m:\n\u001b[32m    266\u001b[39m     \u001b[38;5;66;03m# return all sites by default if a guide is provided.\u001b[39;00m\n\u001b[32m    267\u001b[39m     return_sites = \u001b[38;5;28;01mNone\u001b[39;00m \u001b[38;5;28;01mif\u001b[39;00m \u001b[38;5;129;01mnot\u001b[39;00m return_sites \u001b[38;5;28;01melse\u001b[39;00m return_sites\n\u001b[32m--> \u001b[39m\u001b[32m268\u001b[39m     posterior_samples = \u001b[43m_predictive\u001b[49m\u001b[43m(\u001b[49m\n\u001b[32m    269\u001b[39m \u001b[43m        \u001b[49m\u001b[38;5;28;43mself\u001b[39;49m\u001b[43m.\u001b[49m\u001b[43mguide\u001b[49m\u001b[43m,\u001b[49m\n\u001b[32m    270\u001b[39m \u001b[43m        \u001b[49m\u001b[43mposterior_samples\u001b[49m\u001b[43m,\u001b[49m\n\u001b[32m    271\u001b[39m \u001b[43m        \u001b[49m\u001b[38;5;28;43mself\u001b[39;49m\u001b[43m.\u001b[49m\u001b[43mnum_samples\u001b[49m\u001b[43m,\u001b[49m\n\u001b[32m    272\u001b[39m \u001b[43m        \u001b[49m\u001b[43mreturn_sites\u001b[49m\u001b[43m=\u001b[49m\u001b[38;5;28;43;01mNone\u001b[39;49;00m\u001b[43m,\u001b[49m\n\u001b[32m    273\u001b[39m \u001b[43m        \u001b[49m\u001b[43mparallel\u001b[49m\u001b[43m=\u001b[49m\u001b[38;5;28;43mself\u001b[39;49m\u001b[43m.\u001b[49m\u001b[43mparallel\u001b[49m\u001b[43m,\u001b[49m\n\u001b[32m    274\u001b[39m \u001b[43m        \u001b[49m\u001b[43mmodel_args\u001b[49m\u001b[43m=\u001b[49m\u001b[43margs\u001b[49m\u001b[43m,\u001b[49m\n\u001b[32m    275\u001b[39m \u001b[43m        \u001b[49m\u001b[43mmodel_kwargs\u001b[49m\u001b[43m=\u001b[49m\u001b[43mkwargs\u001b[49m\u001b[43m,\u001b[49m\n\u001b[32m    276\u001b[39m \u001b[43m    \u001b[49m\u001b[43m)\u001b[49m.samples\n\u001b[32m    277\u001b[39m \u001b[38;5;28;01mreturn\u001b[39;00m _predictive(\n\u001b[32m    278\u001b[39m     \u001b[38;5;28mself\u001b[39m.model,\n\u001b[32m    279\u001b[39m     posterior_samples,\n\u001b[32m   (...)\u001b[39m\u001b[32m    284\u001b[39m     model_kwargs=kwargs,\n\u001b[32m    285\u001b[39m ).samples\n",
      "\u001b[36mFile \u001b[39m\u001b[32mc:\\MiniConda\\envs\\py311\\Lib\\site-packages\\pyro\\infer\\predictive.py:132\u001b[39m, in \u001b[36m_predictive\u001b[39m\u001b[34m(model, posterior_samples, num_samples, return_sites, parallel, model_args, model_kwargs, mask)\u001b[39m\n\u001b[32m    129\u001b[39m     return_site_shapes[\u001b[33m\"\u001b[39m\u001b[33m_RETURN\u001b[39m\u001b[33m\"\u001b[39m] = shape\n\u001b[32m    131\u001b[39m \u001b[38;5;28;01mif\u001b[39;00m \u001b[38;5;129;01mnot\u001b[39;00m parallel:\n\u001b[32m--> \u001b[39m\u001b[32m132\u001b[39m     \u001b[38;5;28;01mreturn\u001b[39;00m \u001b[43m_predictive_sequential\u001b[49m\u001b[43m(\u001b[49m\n\u001b[32m    133\u001b[39m \u001b[43m        \u001b[49m\u001b[43mmodel\u001b[49m\u001b[43m,\u001b[49m\n\u001b[32m    134\u001b[39m \u001b[43m        \u001b[49m\u001b[43mposterior_samples\u001b[49m\u001b[43m,\u001b[49m\n\u001b[32m    135\u001b[39m \u001b[43m        \u001b[49m\u001b[43mmodel_args\u001b[49m\u001b[43m,\u001b[49m\n\u001b[32m    136\u001b[39m \u001b[43m        \u001b[49m\u001b[43mmodel_kwargs\u001b[49m\u001b[43m,\u001b[49m\n\u001b[32m    137\u001b[39m \u001b[43m        \u001b[49m\u001b[43mnum_samples\u001b[49m\u001b[43m,\u001b[49m\n\u001b[32m    138\u001b[39m \u001b[43m        \u001b[49m\u001b[43mreturn_site_shapes\u001b[49m\u001b[43m,\u001b[49m\n\u001b[32m    139\u001b[39m \u001b[43m    \u001b[49m\u001b[43m)\u001b[49m\n\u001b[32m    141\u001b[39m trace = poutine.trace(\n\u001b[32m    142\u001b[39m     poutine.condition(vectorize(model), reshaped_samples)\n\u001b[32m    143\u001b[39m ).get_trace(*model_args, **model_kwargs)\n\u001b[32m    144\u001b[39m predictions = {}\n",
      "\u001b[36mFile \u001b[39m\u001b[32mc:\\MiniConda\\envs\\py311\\Lib\\site-packages\\pyro\\infer\\predictive.py:58\u001b[39m, in \u001b[36m_predictive_sequential\u001b[39m\u001b[34m(model, posterior_samples, model_args, model_kwargs, num_samples, return_site_shapes)\u001b[39m\n\u001b[32m     54\u001b[39m samples = [\n\u001b[32m     55\u001b[39m     {k: v[i] \u001b[38;5;28;01mfor\u001b[39;00m k, v \u001b[38;5;129;01min\u001b[39;00m posterior_samples.items()} \u001b[38;5;28;01mfor\u001b[39;00m i \u001b[38;5;129;01min\u001b[39;00m \u001b[38;5;28mrange\u001b[39m(num_samples)\n\u001b[32m     56\u001b[39m ]\n\u001b[32m     57\u001b[39m \u001b[38;5;28;01mfor\u001b[39;00m i \u001b[38;5;129;01min\u001b[39;00m \u001b[38;5;28mrange\u001b[39m(num_samples):\n\u001b[32m---> \u001b[39m\u001b[32m58\u001b[39m     trace = \u001b[43mpoutine\u001b[49m\u001b[43m.\u001b[49m\u001b[43mtrace\u001b[49m\u001b[43m(\u001b[49m\u001b[43mpoutine\u001b[49m\u001b[43m.\u001b[49m\u001b[43mcondition\u001b[49m\u001b[43m(\u001b[49m\u001b[43mmodel\u001b[49m\u001b[43m,\u001b[49m\u001b[43m \u001b[49m\u001b[43msamples\u001b[49m\u001b[43m[\u001b[49m\u001b[43mi\u001b[49m\u001b[43m]\u001b[49m\u001b[43m)\u001b[49m\u001b[43m)\u001b[49m\u001b[43m.\u001b[49m\u001b[43mget_trace\u001b[49m\u001b[43m(\u001b[49m\n\u001b[32m     59\u001b[39m \u001b[43m        \u001b[49m\u001b[43m*\u001b[49m\u001b[43mmodel_args\u001b[49m\u001b[43m,\u001b[49m\u001b[43m \u001b[49m\u001b[43m*\u001b[49m\u001b[43m*\u001b[49m\u001b[43mmodel_kwargs\u001b[49m\n\u001b[32m     60\u001b[39m \u001b[43m    \u001b[49m\u001b[43m)\u001b[49m\n\u001b[32m     61\u001b[39m     collected_trace.append(trace)\n\u001b[32m     62\u001b[39m     collected_samples.append(\n\u001b[32m     63\u001b[39m         {site: trace.nodes[site][\u001b[33m\"\u001b[39m\u001b[33mvalue\u001b[39m\u001b[33m\"\u001b[39m] \u001b[38;5;28;01mfor\u001b[39;00m site \u001b[38;5;129;01min\u001b[39;00m return_site_shapes}\n\u001b[32m     64\u001b[39m     )\n",
      "\u001b[36mFile \u001b[39m\u001b[32mc:\\MiniConda\\envs\\py311\\Lib\\site-packages\\pyro\\poutine\\trace_messenger.py:216\u001b[39m, in \u001b[36mTraceHandler.get_trace\u001b[39m\u001b[34m(self, *args, **kwargs)\u001b[39m\n\u001b[32m    208\u001b[39m \u001b[38;5;28;01mdef\u001b[39;00m\u001b[38;5;250m \u001b[39m\u001b[34mget_trace\u001b[39m(\u001b[38;5;28mself\u001b[39m, *args, **kwargs) -> Trace:\n\u001b[32m    209\u001b[39m \u001b[38;5;250m    \u001b[39m\u001b[33;03m\"\"\"\u001b[39;00m\n\u001b[32m    210\u001b[39m \u001b[33;03m    :returns: data structure\u001b[39;00m\n\u001b[32m    211\u001b[39m \u001b[33;03m    :rtype: pyro.poutine.Trace\u001b[39;00m\n\u001b[32m   (...)\u001b[39m\u001b[32m    214\u001b[39m \u001b[33;03m    Calls this poutine and returns its trace instead of the function's return value.\u001b[39;00m\n\u001b[32m    215\u001b[39m \u001b[33;03m    \"\"\"\u001b[39;00m\n\u001b[32m--> \u001b[39m\u001b[32m216\u001b[39m     \u001b[38;5;28;43mself\u001b[39;49m\u001b[43m(\u001b[49m\u001b[43m*\u001b[49m\u001b[43margs\u001b[49m\u001b[43m,\u001b[49m\u001b[43m \u001b[49m\u001b[43m*\u001b[49m\u001b[43m*\u001b[49m\u001b[43mkwargs\u001b[49m\u001b[43m)\u001b[49m\n\u001b[32m    217\u001b[39m     \u001b[38;5;28;01mreturn\u001b[39;00m \u001b[38;5;28mself\u001b[39m.msngr.get_trace()\n",
      "\u001b[36mFile \u001b[39m\u001b[32mc:\\MiniConda\\envs\\py311\\Lib\\site-packages\\pyro\\poutine\\trace_messenger.py:191\u001b[39m, in \u001b[36mTraceHandler.__call__\u001b[39m\u001b[34m(self, *args, **kwargs)\u001b[39m\n\u001b[32m    187\u001b[39m \u001b[38;5;28mself\u001b[39m.msngr.trace.add_node(\n\u001b[32m    188\u001b[39m     \u001b[33m\"\u001b[39m\u001b[33m_INPUT\u001b[39m\u001b[33m\"\u001b[39m, name=\u001b[33m\"\u001b[39m\u001b[33m_INPUT\u001b[39m\u001b[33m\"\u001b[39m, \u001b[38;5;28mtype\u001b[39m=\u001b[33m\"\u001b[39m\u001b[33margs\u001b[39m\u001b[33m\"\u001b[39m, args=args, kwargs=kwargs\n\u001b[32m    189\u001b[39m )\n\u001b[32m    190\u001b[39m \u001b[38;5;28;01mtry\u001b[39;00m:\n\u001b[32m--> \u001b[39m\u001b[32m191\u001b[39m     ret = \u001b[38;5;28;43mself\u001b[39;49m\u001b[43m.\u001b[49m\u001b[43mfn\u001b[49m\u001b[43m(\u001b[49m\u001b[43m*\u001b[49m\u001b[43margs\u001b[49m\u001b[43m,\u001b[49m\u001b[43m \u001b[49m\u001b[43m*\u001b[49m\u001b[43m*\u001b[49m\u001b[43mkwargs\u001b[49m\u001b[43m)\u001b[49m\n\u001b[32m    192\u001b[39m \u001b[38;5;28;01mexcept\u001b[39;00m (\u001b[38;5;167;01mValueError\u001b[39;00m, \u001b[38;5;167;01mRuntimeError\u001b[39;00m) \u001b[38;5;28;01mas\u001b[39;00m e:\n\u001b[32m    193\u001b[39m     exc_type, exc_value, traceback = sys.exc_info()\n",
      "\u001b[36mFile \u001b[39m\u001b[32mc:\\MiniConda\\envs\\py311\\Lib\\site-packages\\pyro\\poutine\\messenger.py:32\u001b[39m, in \u001b[36m_context_wrap\u001b[39m\u001b[34m(context, fn, *args, **kwargs)\u001b[39m\n\u001b[32m     25\u001b[39m \u001b[38;5;28;01mdef\u001b[39;00m\u001b[38;5;250m \u001b[39m\u001b[34m_context_wrap\u001b[39m(\n\u001b[32m     26\u001b[39m     context: \u001b[33m\"\u001b[39m\u001b[33mMessenger\u001b[39m\u001b[33m\"\u001b[39m,\n\u001b[32m     27\u001b[39m     fn: Callable,\n\u001b[32m     28\u001b[39m     *args: Any,\n\u001b[32m     29\u001b[39m     **kwargs: Any,\n\u001b[32m     30\u001b[39m ) -> Any:\n\u001b[32m     31\u001b[39m     \u001b[38;5;28;01mwith\u001b[39;00m context:\n\u001b[32m---> \u001b[39m\u001b[32m32\u001b[39m         \u001b[38;5;28;01mreturn\u001b[39;00m \u001b[43mfn\u001b[49m\u001b[43m(\u001b[49m\u001b[43m*\u001b[49m\u001b[43margs\u001b[49m\u001b[43m,\u001b[49m\u001b[43m \u001b[49m\u001b[43m*\u001b[49m\u001b[43m*\u001b[49m\u001b[43mkwargs\u001b[49m\u001b[43m)\u001b[49m\n",
      "\u001b[36mFile \u001b[39m\u001b[32mc:\\MiniConda\\envs\\py311\\Lib\\site-packages\\torch\\utils\\_contextlib.py:116\u001b[39m, in \u001b[36mcontext_decorator.<locals>.decorate_context\u001b[39m\u001b[34m(*args, **kwargs)\u001b[39m\n\u001b[32m    113\u001b[39m \u001b[38;5;129m@functools\u001b[39m.wraps(func)\n\u001b[32m    114\u001b[39m \u001b[38;5;28;01mdef\u001b[39;00m\u001b[38;5;250m \u001b[39m\u001b[34mdecorate_context\u001b[39m(*args, **kwargs):\n\u001b[32m    115\u001b[39m     \u001b[38;5;28;01mwith\u001b[39;00m ctx_factory():\n\u001b[32m--> \u001b[39m\u001b[32m116\u001b[39m         \u001b[38;5;28;01mreturn\u001b[39;00m \u001b[43mfunc\u001b[49m\u001b[43m(\u001b[49m\u001b[43m*\u001b[49m\u001b[43margs\u001b[49m\u001b[43m,\u001b[49m\u001b[43m \u001b[49m\u001b[43m*\u001b[49m\u001b[43m*\u001b[49m\u001b[43mkwargs\u001b[49m\u001b[43m)\u001b[49m\n",
      "\u001b[36mFile \u001b[39m\u001b[32mc:\\MiniConda\\envs\\py311\\Lib\\site-packages\\pyro\\poutine\\messenger.py:32\u001b[39m, in \u001b[36m_context_wrap\u001b[39m\u001b[34m(context, fn, *args, **kwargs)\u001b[39m\n\u001b[32m     25\u001b[39m \u001b[38;5;28;01mdef\u001b[39;00m\u001b[38;5;250m \u001b[39m\u001b[34m_context_wrap\u001b[39m(\n\u001b[32m     26\u001b[39m     context: \u001b[33m\"\u001b[39m\u001b[33mMessenger\u001b[39m\u001b[33m\"\u001b[39m,\n\u001b[32m     27\u001b[39m     fn: Callable,\n\u001b[32m     28\u001b[39m     *args: Any,\n\u001b[32m     29\u001b[39m     **kwargs: Any,\n\u001b[32m     30\u001b[39m ) -> Any:\n\u001b[32m     31\u001b[39m     \u001b[38;5;28;01mwith\u001b[39;00m context:\n\u001b[32m---> \u001b[39m\u001b[32m32\u001b[39m         \u001b[38;5;28;01mreturn\u001b[39;00m \u001b[43mfn\u001b[49m\u001b[43m(\u001b[49m\u001b[43m*\u001b[49m\u001b[43margs\u001b[49m\u001b[43m,\u001b[49m\u001b[43m \u001b[49m\u001b[43m*\u001b[49m\u001b[43m*\u001b[49m\u001b[43mkwargs\u001b[49m\u001b[43m)\u001b[49m\n",
      "\u001b[36mFile \u001b[39m\u001b[32mc:\\MiniConda\\envs\\py311\\Lib\\site-packages\\pyro\\nn\\module.py:520\u001b[39m, in \u001b[36mPyroModule.__call__\u001b[39m\u001b[34m(self, *args, **kwargs)\u001b[39m\n\u001b[32m    518\u001b[39m \u001b[38;5;28;01mdef\u001b[39;00m\u001b[38;5;250m \u001b[39m\u001b[34m__call__\u001b[39m(\u001b[38;5;28mself\u001b[39m, *args: Any, **kwargs: Any) -> Any:\n\u001b[32m    519\u001b[39m     \u001b[38;5;28;01mwith\u001b[39;00m \u001b[38;5;28mself\u001b[39m._pyro_context:\n\u001b[32m--> \u001b[39m\u001b[32m520\u001b[39m         result = \u001b[38;5;28;43msuper\u001b[39;49m\u001b[43m(\u001b[49m\u001b[43m)\u001b[49m\u001b[43m.\u001b[49m\u001b[34;43m__call__\u001b[39;49m\u001b[43m(\u001b[49m\u001b[43m*\u001b[49m\u001b[43margs\u001b[49m\u001b[43m,\u001b[49m\u001b[43m \u001b[49m\u001b[43m*\u001b[49m\u001b[43m*\u001b[49m\u001b[43mkwargs\u001b[49m\u001b[43m)\u001b[49m\n\u001b[32m    521\u001b[39m     \u001b[38;5;28;01mif\u001b[39;00m (\n\u001b[32m    522\u001b[39m         pyro.settings.get(\u001b[33m\"\u001b[39m\u001b[33mvalidate_poutine\u001b[39m\u001b[33m\"\u001b[39m)\n\u001b[32m    523\u001b[39m         \u001b[38;5;129;01mand\u001b[39;00m \u001b[38;5;129;01mnot\u001b[39;00m \u001b[38;5;28mself\u001b[39m._pyro_context.active\n\u001b[32m    524\u001b[39m         \u001b[38;5;129;01mand\u001b[39;00m _is_module_local_param_enabled()\n\u001b[32m    525\u001b[39m     ):\n\u001b[32m    526\u001b[39m         \u001b[38;5;28mself\u001b[39m._check_module_local_param_usage()\n",
      "\u001b[36mFile \u001b[39m\u001b[32mc:\\MiniConda\\envs\\py311\\Lib\\site-packages\\torch\\nn\\modules\\module.py:1751\u001b[39m, in \u001b[36mModule._wrapped_call_impl\u001b[39m\u001b[34m(self, *args, **kwargs)\u001b[39m\n\u001b[32m   1749\u001b[39m     \u001b[38;5;28;01mreturn\u001b[39;00m \u001b[38;5;28mself\u001b[39m._compiled_call_impl(*args, **kwargs)  \u001b[38;5;66;03m# type: ignore[misc]\u001b[39;00m\n\u001b[32m   1750\u001b[39m \u001b[38;5;28;01melse\u001b[39;00m:\n\u001b[32m-> \u001b[39m\u001b[32m1751\u001b[39m     \u001b[38;5;28;01mreturn\u001b[39;00m \u001b[38;5;28;43mself\u001b[39;49m\u001b[43m.\u001b[49m\u001b[43m_call_impl\u001b[49m\u001b[43m(\u001b[49m\u001b[43m*\u001b[49m\u001b[43margs\u001b[49m\u001b[43m,\u001b[49m\u001b[43m \u001b[49m\u001b[43m*\u001b[49m\u001b[43m*\u001b[49m\u001b[43mkwargs\u001b[49m\u001b[43m)\u001b[49m\n",
      "\u001b[36mFile \u001b[39m\u001b[32mc:\\MiniConda\\envs\\py311\\Lib\\site-packages\\torch\\nn\\modules\\module.py:1762\u001b[39m, in \u001b[36mModule._call_impl\u001b[39m\u001b[34m(self, *args, **kwargs)\u001b[39m\n\u001b[32m   1757\u001b[39m \u001b[38;5;66;03m# If we don't have any hooks, we want to skip the rest of the logic in\u001b[39;00m\n\u001b[32m   1758\u001b[39m \u001b[38;5;66;03m# this function, and just call forward.\u001b[39;00m\n\u001b[32m   1759\u001b[39m \u001b[38;5;28;01mif\u001b[39;00m \u001b[38;5;129;01mnot\u001b[39;00m (\u001b[38;5;28mself\u001b[39m._backward_hooks \u001b[38;5;129;01mor\u001b[39;00m \u001b[38;5;28mself\u001b[39m._backward_pre_hooks \u001b[38;5;129;01mor\u001b[39;00m \u001b[38;5;28mself\u001b[39m._forward_hooks \u001b[38;5;129;01mor\u001b[39;00m \u001b[38;5;28mself\u001b[39m._forward_pre_hooks\n\u001b[32m   1760\u001b[39m         \u001b[38;5;129;01mor\u001b[39;00m _global_backward_pre_hooks \u001b[38;5;129;01mor\u001b[39;00m _global_backward_hooks\n\u001b[32m   1761\u001b[39m         \u001b[38;5;129;01mor\u001b[39;00m _global_forward_hooks \u001b[38;5;129;01mor\u001b[39;00m _global_forward_pre_hooks):\n\u001b[32m-> \u001b[39m\u001b[32m1762\u001b[39m     \u001b[38;5;28;01mreturn\u001b[39;00m \u001b[43mforward_call\u001b[49m\u001b[43m(\u001b[49m\u001b[43m*\u001b[49m\u001b[43margs\u001b[49m\u001b[43m,\u001b[49m\u001b[43m \u001b[49m\u001b[43m*\u001b[49m\u001b[43m*\u001b[49m\u001b[43mkwargs\u001b[49m\u001b[43m)\u001b[49m\n\u001b[32m   1764\u001b[39m result = \u001b[38;5;28;01mNone\u001b[39;00m\n\u001b[32m   1765\u001b[39m called_always_called_hooks = \u001b[38;5;28mset\u001b[39m()\n",
      "\u001b[36mFile \u001b[39m\u001b[32mc:\\MiniConda\\envs\\py311\\Lib\\site-packages\\pyro\\infer\\autoguide\\guides.py:761\u001b[39m, in \u001b[36mAutoContinuous.forward\u001b[39m\u001b[34m(self, *args, **kwargs)\u001b[39m\n\u001b[32m    758\u001b[39m \u001b[38;5;28;01mif\u001b[39;00m \u001b[38;5;28mself\u001b[39m.prototype_trace \u001b[38;5;129;01mis\u001b[39;00m \u001b[38;5;28;01mNone\u001b[39;00m:\n\u001b[32m    759\u001b[39m     \u001b[38;5;28mself\u001b[39m._setup_prototype(*args, **kwargs)\n\u001b[32m--> \u001b[39m\u001b[32m761\u001b[39m latent = \u001b[38;5;28;43mself\u001b[39;49m\u001b[43m.\u001b[49m\u001b[43msample_latent\u001b[49m\u001b[43m(\u001b[49m\u001b[43m*\u001b[49m\u001b[43margs\u001b[49m\u001b[43m,\u001b[49m\u001b[43m \u001b[49m\u001b[43m*\u001b[49m\u001b[43m*\u001b[49m\u001b[43mkwargs\u001b[49m\u001b[43m)\u001b[49m\n\u001b[32m    762\u001b[39m plates = \u001b[38;5;28mself\u001b[39m._create_plates(*args, **kwargs)\n\u001b[32m    764\u001b[39m \u001b[38;5;66;03m# unpack continuous latent samples\u001b[39;00m\n",
      "\u001b[36mFile \u001b[39m\u001b[32mc:\\MiniConda\\envs\\py311\\Lib\\site-packages\\pyro\\infer\\autoguide\\guides.py:714\u001b[39m, in \u001b[36mAutoContinuous.sample_latent\u001b[39m\u001b[34m(self, *args, **kwargs)\u001b[39m\n\u001b[32m    709\u001b[39m \u001b[38;5;28;01mdef\u001b[39;00m\u001b[38;5;250m \u001b[39m\u001b[34msample_latent\u001b[39m(\u001b[38;5;28mself\u001b[39m, *args, **kwargs):\n\u001b[32m    710\u001b[39m \u001b[38;5;250m    \u001b[39m\u001b[33;03m\"\"\"\u001b[39;00m\n\u001b[32m    711\u001b[39m \u001b[33;03m    Samples an encoded latent given the same ``*args, **kwargs`` as the\u001b[39;00m\n\u001b[32m    712\u001b[39m \u001b[33;03m    base ``model``.\u001b[39;00m\n\u001b[32m    713\u001b[39m \u001b[33;03m    \"\"\"\u001b[39;00m\n\u001b[32m--> \u001b[39m\u001b[32m714\u001b[39m     pos_dist = \u001b[38;5;28;43mself\u001b[39;49m\u001b[43m.\u001b[49m\u001b[43mget_posterior\u001b[49m\u001b[43m(\u001b[49m\u001b[43m*\u001b[49m\u001b[43margs\u001b[49m\u001b[43m,\u001b[49m\u001b[43m \u001b[49m\u001b[43m*\u001b[49m\u001b[43m*\u001b[49m\u001b[43mkwargs\u001b[49m\u001b[43m)\u001b[49m\n\u001b[32m    715\u001b[39m     \u001b[38;5;28;01mreturn\u001b[39;00m pyro.sample(\n\u001b[32m    716\u001b[39m         \u001b[33m\"\u001b[39m\u001b[33m_\u001b[39m\u001b[38;5;132;01m{}\u001b[39;00m\u001b[33m_latent\u001b[39m\u001b[33m\"\u001b[39m.format(\u001b[38;5;28mself\u001b[39m._pyro_name), pos_dist, infer={\u001b[33m\"\u001b[39m\u001b[33mis_auxiliary\u001b[39m\u001b[33m\"\u001b[39m: \u001b[38;5;28;01mTrue\u001b[39;00m}\n\u001b[32m    717\u001b[39m     )\n",
      "\u001b[36mFile \u001b[39m\u001b[32mc:\\MiniConda\\envs\\py311\\Lib\\site-packages\\pyro\\infer\\autoguide\\guides.py:958\u001b[39m, in \u001b[36mAutoDiagonalNormal.get_posterior\u001b[39m\u001b[34m(self, *args, **kwargs)\u001b[39m\n\u001b[32m    954\u001b[39m \u001b[38;5;28;01mdef\u001b[39;00m\u001b[38;5;250m \u001b[39m\u001b[34mget_posterior\u001b[39m(\u001b[38;5;28mself\u001b[39m, *args, **kwargs):\n\u001b[32m    955\u001b[39m \u001b[38;5;250m    \u001b[39m\u001b[33;03m\"\"\"\u001b[39;00m\n\u001b[32m    956\u001b[39m \u001b[33;03m    Returns a diagonal Normal posterior distribution.\u001b[39;00m\n\u001b[32m    957\u001b[39m \u001b[33;03m    \"\"\"\u001b[39;00m\n\u001b[32m--> \u001b[39m\u001b[32m958\u001b[39m     \u001b[38;5;28;01mreturn\u001b[39;00m \u001b[43mdist\u001b[49m\u001b[43m.\u001b[49m\u001b[43mNormal\u001b[49m\u001b[43m(\u001b[49m\u001b[38;5;28;43mself\u001b[39;49m\u001b[43m.\u001b[49m\u001b[43mloc\u001b[49m\u001b[43m,\u001b[49m\u001b[43m \u001b[49m\u001b[38;5;28;43mself\u001b[39;49m\u001b[43m.\u001b[49m\u001b[43mscale\u001b[49m\u001b[43m)\u001b[49m.to_event(\u001b[32m1\u001b[39m)\n",
      "\u001b[36mFile \u001b[39m\u001b[32mc:\\MiniConda\\envs\\py311\\Lib\\site-packages\\pyro\\distributions\\distribution.py:26\u001b[39m, in \u001b[36mDistributionMeta.__call__\u001b[39m\u001b[34m(cls, *args, **kwargs)\u001b[39m\n\u001b[32m     24\u001b[39m     \u001b[38;5;28;01mif\u001b[39;00m result \u001b[38;5;129;01mis\u001b[39;00m \u001b[38;5;129;01mnot\u001b[39;00m \u001b[38;5;28;01mNone\u001b[39;00m:\n\u001b[32m     25\u001b[39m         \u001b[38;5;28;01mreturn\u001b[39;00m result\n\u001b[32m---> \u001b[39m\u001b[32m26\u001b[39m \u001b[38;5;28;01mreturn\u001b[39;00m \u001b[38;5;28;43msuper\u001b[39;49m\u001b[43m(\u001b[49m\u001b[43m)\u001b[49m\u001b[43m.\u001b[49m\u001b[34;43m__call__\u001b[39;49m\u001b[43m(\u001b[49m\u001b[43m*\u001b[49m\u001b[43margs\u001b[49m\u001b[43m,\u001b[49m\u001b[43m \u001b[49m\u001b[43m*\u001b[49m\u001b[43m*\u001b[49m\u001b[43mkwargs\u001b[49m\u001b[43m)\u001b[49m\n",
      "\u001b[36mFile \u001b[39m\u001b[32mc:\\MiniConda\\envs\\py311\\Lib\\site-packages\\torch\\distributions\\normal.py:60\u001b[39m, in \u001b[36mNormal.__init__\u001b[39m\u001b[34m(self, loc, scale, validate_args)\u001b[39m\n\u001b[32m     58\u001b[39m \u001b[38;5;28;01melse\u001b[39;00m:\n\u001b[32m     59\u001b[39m     batch_shape = \u001b[38;5;28mself\u001b[39m.loc.size()\n\u001b[32m---> \u001b[39m\u001b[32m60\u001b[39m \u001b[38;5;28;43msuper\u001b[39;49m\u001b[43m(\u001b[49m\u001b[43m)\u001b[49m\u001b[43m.\u001b[49m\u001b[34;43m__init__\u001b[39;49m\u001b[43m(\u001b[49m\u001b[43mbatch_shape\u001b[49m\u001b[43m,\u001b[49m\u001b[43m \u001b[49m\u001b[43mvalidate_args\u001b[49m\u001b[43m=\u001b[49m\u001b[43mvalidate_args\u001b[49m\u001b[43m)\u001b[49m\n",
      "\u001b[36mFile \u001b[39m\u001b[32mc:\\MiniConda\\envs\\py311\\Lib\\site-packages\\torch\\distributions\\distribution.py:71\u001b[39m, in \u001b[36mDistribution.__init__\u001b[39m\u001b[34m(self, batch_shape, event_shape, validate_args)\u001b[39m\n\u001b[32m     69\u001b[39m         value = \u001b[38;5;28mgetattr\u001b[39m(\u001b[38;5;28mself\u001b[39m, param)\n\u001b[32m     70\u001b[39m         valid = constraint.check(value)\n\u001b[32m---> \u001b[39m\u001b[32m71\u001b[39m         \u001b[38;5;28;01mif\u001b[39;00m \u001b[38;5;129;01mnot\u001b[39;00m \u001b[43mtorch\u001b[49m\u001b[43m.\u001b[49m\u001b[43m_is_all_true\u001b[49m\u001b[43m(\u001b[49m\u001b[43mvalid\u001b[49m\u001b[43m)\u001b[49m:\n\u001b[32m     72\u001b[39m             \u001b[38;5;28;01mraise\u001b[39;00m \u001b[38;5;167;01mValueError\u001b[39;00m(\n\u001b[32m     73\u001b[39m                 \u001b[33mf\u001b[39m\u001b[33m\"\u001b[39m\u001b[33mExpected parameter \u001b[39m\u001b[38;5;132;01m{\u001b[39;00mparam\u001b[38;5;132;01m}\u001b[39;00m\u001b[33m \u001b[39m\u001b[33m\"\u001b[39m\n\u001b[32m     74\u001b[39m                 \u001b[33mf\u001b[39m\u001b[33m\"\u001b[39m\u001b[33m(\u001b[39m\u001b[38;5;132;01m{\u001b[39;00m\u001b[38;5;28mtype\u001b[39m(value).\u001b[34m__name__\u001b[39m\u001b[38;5;132;01m}\u001b[39;00m\u001b[33m of shape \u001b[39m\u001b[38;5;132;01m{\u001b[39;00m\u001b[38;5;28mtuple\u001b[39m(value.shape)\u001b[38;5;132;01m}\u001b[39;00m\u001b[33m) \u001b[39m\u001b[33m\"\u001b[39m\n\u001b[32m   (...)\u001b[39m\u001b[32m     77\u001b[39m                 \u001b[33mf\u001b[39m\u001b[33m\"\u001b[39m\u001b[33mbut found invalid values:\u001b[39m\u001b[38;5;130;01m\\n\u001b[39;00m\u001b[38;5;132;01m{\u001b[39;00mvalue\u001b[38;5;132;01m}\u001b[39;00m\u001b[33m\"\u001b[39m\n\u001b[32m     78\u001b[39m             )\n\u001b[32m     79\u001b[39m \u001b[38;5;28msuper\u001b[39m().\u001b[34m__init__\u001b[39m()\n",
      "\u001b[36mFile \u001b[39m\u001b[32mc:\\MiniConda\\envs\\py311\\Lib\\site-packages\\torch\\utils\\_device.py:100\u001b[39m, in \u001b[36mDeviceContext.__torch_function__\u001b[39m\u001b[34m(self, func, types, args, kwargs)\u001b[39m\n\u001b[32m     97\u001b[39m     \u001b[38;5;28;01mfor\u001b[39;00m mode \u001b[38;5;129;01min\u001b[39;00m \u001b[38;5;28mreversed\u001b[39m(cur_stack):\n\u001b[32m     98\u001b[39m         _push_mode(mode)\n\u001b[32m--> \u001b[39m\u001b[32m100\u001b[39m \u001b[38;5;28;01mdef\u001b[39;00m\u001b[38;5;250m \u001b[39m\u001b[34m__torch_function__\u001b[39m(\u001b[38;5;28mself\u001b[39m, func, types, args=(), kwargs=\u001b[38;5;28;01mNone\u001b[39;00m):\n\u001b[32m    101\u001b[39m     kwargs = kwargs \u001b[38;5;129;01mor\u001b[39;00m {}\n\u001b[32m    102\u001b[39m     \u001b[38;5;28;01mif\u001b[39;00m func \u001b[38;5;129;01min\u001b[39;00m _device_constructors() \u001b[38;5;129;01mand\u001b[39;00m kwargs.get(\u001b[33m'\u001b[39m\u001b[33mdevice\u001b[39m\u001b[33m'\u001b[39m) \u001b[38;5;129;01mis\u001b[39;00m \u001b[38;5;28;01mNone\u001b[39;00m:\n",
      "\u001b[31mKeyboardInterrupt\u001b[39m: "
     ]
    }
   ],
   "source": [
    "statistical_tester.predict(5_000)"
   ]
  },
  {
   "cell_type": "code",
   "execution_count": null,
   "id": "a600a2d5",
   "metadata": {},
   "outputs": [],
   "source": [
    "factor_summaries= statistical_tester.evaluate_all()\n",
    "print(factor_summaries)"
   ]
  },
  {
   "cell_type": "code",
   "execution_count": null,
   "id": "1ddbe0e3",
   "metadata": {},
   "outputs": [],
   "source": [
    "\n",
    "import pandas as pd\n",
    "inner_train, inner_val = single_out_last(training_data)\n",
    "param_grid = {\n",
    "      \"lr\": [1e-2, 5e-3, 1e-3],\n",
    "      \"guide_type\": [\"diag\", \"lowrank\"]\n",
    "      }\n",
    "results_df = grid_search(\n",
    "      burglary_model,\n",
    "      inner_train,\n",
    "      inner_val,\n",
    "      *model_tuple[1:],\n",
    "      device,\n",
    "      param_grid,\n",
    "      ward_idx_map=ward_idx_map,\n",
    "      num_steps=500,\n",
    "      )\n",
    "print(results_df)\n",
    "print(\"Best parameters:\", results_df.loc[0].to_dict())"
   ]
  }
 ],
 "metadata": {
  "kernelspec": {
   "display_name": "Python 3",
   "language": "python",
   "name": "python3"
  },
  "language_info": {
   "codemirror_mode": {
    "name": "ipython",
    "version": 3
   },
   "file_extension": ".py",
   "mimetype": "text/x-python",
   "name": "python",
   "nbconvert_exporter": "python",
   "pygments_lexer": "ipython3",
   "version": "3.12.3"
  }
 },
 "nbformat": 4,
 "nbformat_minor": 5
}
