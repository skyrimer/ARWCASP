{
 "cells": [
  {
   "cell_type": "code",
   "execution_count": null,
   "id": "478b03b9",
   "metadata": {},
   "outputs": [],
   "source": [
    "import os\n",
    "import pandas as pd\n",
    "from tqdm import tqdm\n",
    "def read_city_of_london_street_csvs(folder_path, file_pattern):\n",
    "    \"\"\"\n",
    "    Reads all CSV files in the given folder whose filenames contain 'city-of-london-street',\n",
    "    and concatenates them into a single pandas DataFrame.\n",
    "\n",
    "    Args:\n",
    "        folder_path (str): Path to the folder containing the CSV files.\n",
    "\n",
    "    Returns:\n",
    "        pd.DataFrame: A single concatenated DataFrame containing all matching CSVs' data.\n",
    "    \"\"\"\n",
    "    # List to collect individual DataFrames\n",
    "    dataframes = []\n",
    "\n",
    "    for root, _, files in tqdm(os.walk(folder_path), desc=\"Reading CSV files\"):\n",
    "        for filename in tqdm(files, desc=\"Processing files\", leave=False):\n",
    "            if file_pattern in filename and filename.endswith(\".csv\"):\n",
    "                file_path = os.path.join(root, filename)\n",
    "                df = pd.read_csv(file_path)\n",
    "                dataframes.append(df)\n",
    "\n",
    "    return (\n",
    "        pd.concat(dataframes, ignore_index=True)\n",
    "        if dataframes\n",
    "        else pd.DataFrame()\n",
    "    )\n",
    "\n",
    "# Example usage (uncomment to use):\n",
    "combined_df = read_city_of_london_street_csvs(os.path.join(\"data\", \"relevant_data\"), \"street\")"
   ]
  },
  {
   "cell_type": "code",
   "execution_count": null,
   "id": "e94cd9b2",
   "metadata": {},
   "outputs": [],
   "source": [
    "combined_df.info()"
   ]
  },
  {
   "cell_type": "code",
   "execution_count": null,
   "id": "4cfbc8ce",
   "metadata": {},
   "outputs": [],
   "source": [
    "combined_df = combined_df.query(\"`Crime type` == 'Burglary'\").copy()\n",
    "combined_df[['year', 'month']] = combined_df['Month'].str.split('-', expand=True)\n",
    "combined_df['year'] = pd.to_numeric(combined_df['year'], errors='coerce', downcast='integer')\n",
    "combined_df['month'] = pd.to_numeric(combined_df['month'], errors='coerce', downcast='integer')\n",
    "combined_df[\"Latitude\"] = pd.to_numeric(combined_df[\"Latitude\"], errors='coerce', downcast='float')\n",
    "combined_df[\"Longitude\"] = pd.to_numeric(combined_df[\"Longitude\"], errors='coerce', downcast='float')\n",
    "combined_df[\"Reported by\"] = combined_df[\"Reported by\"].astype(\"category\")\n",
    "combined_df[\"Falls within\"] = combined_df[\"Falls within\"].astype(\"category\")\n",
    "combined_df[\"Location\"] = combined_df[\"Location\"].astype(\"category\") #but technically str\n",
    "combined_df[\"LSOA code\"] = combined_df[\"LSOA code\"].astype(\"category\") #but technically str\n",
    "combined_df[\"Last outcome category\"] = combined_df[\"Last outcome category\"].astype(\"category\") #but technically str\n",
    "# LSOA code functionally determines the LSOA name\n",
    "lookup = combined_df[[\"LSOA code\", \"LSOA name\"]].drop_duplicates().reset_index(drop=True)\n",
    "combined_df = combined_df.drop(columns=['Month', \"LSOA name\", \"Context\", \"Crime type\"], errors='ignore')"
   ]
  },
  {
   "cell_type": "code",
   "execution_count": null,
   "id": "592e4c53",
   "metadata": {},
   "outputs": [],
   "source": [
    "combined_df.info()"
   ]
  },
  {
   "cell_type": "code",
   "execution_count": null,
   "id": "4c633e26",
   "metadata": {},
   "outputs": [],
   "source": [
    "combined_df.isna().sum().sort_values() / len(combined_df) * 100"
   ]
  },
  {
   "cell_type": "code",
   "execution_count": null,
   "id": "b49c6745",
   "metadata": {},
   "outputs": [],
   "source": [
    "combined_df.to_parquet(\n",
    "    os.path.join(\"data\", \"processed_data\", \"street.parquet\"),\n",
    "    index=False,\n",
    "    engine=\"pyarrow\"\n",
    ")"
   ]
  },
  {
   "cell_type": "markdown",
   "id": "95edd11b",
   "metadata": {},
   "source": [
    "# Outcomes"
   ]
  },
  {
   "cell_type": "code",
   "execution_count": null,
   "id": "071584b6",
   "metadata": {},
   "outputs": [],
   "source": [
    "outcomes = read_city_of_london_street_csvs(os.path.join(\"data\", \"relevant_data\"), \"outcomes\")\n"
   ]
  },
  {
   "cell_type": "code",
   "execution_count": null,
   "id": "fc68b81c",
   "metadata": {},
   "outputs": [],
   "source": [
    "outcomes.info()"
   ]
  },
  {
   "cell_type": "code",
   "execution_count": null,
   "id": "4f3a0a56",
   "metadata": {},
   "outputs": [],
   "source": [
    "# combined_df = combined_df.query(\"`Crime type` == 'Burglary'\").copy()\n",
    "outcomes = outcomes[outcomes[\"Crime ID\"].isin(combined_df[\"Crime ID\"].unique())].copy()\n",
    "outcomes[['year', 'month']] = outcomes['Month'].str.split('-', expand=True)\n",
    "outcomes['year'] = pd.to_numeric(outcomes['year'], errors='coerce', downcast='integer')\n",
    "outcomes['month'] = pd.to_numeric(outcomes['month'], errors='coerce', downcast='integer')\n",
    "outcomes[\"Latitude\"] = pd.to_numeric(outcomes[\"Latitude\"], errors='coerce', downcast='float')\n",
    "outcomes[\"Longitude\"] = pd.to_numeric(outcomes[\"Longitude\"], errors='coerce', downcast='float')\n",
    "outcomes[\"Reported by\"] = outcomes[\"Reported by\"].astype(\"category\")\n",
    "outcomes[\"Falls within\"] = outcomes[\"Falls within\"].astype(\"category\")\n",
    "outcomes[\"Location\"] = outcomes[\"Location\"].astype(\"category\") #but technically str\n",
    "outcomes[\"LSOA code\"] = outcomes[\"LSOA code\"].astype(\"category\") #but technically str\n",
    "outcomes[\"Outcome type\"] = outcomes[\"Outcome type\"].astype(\"category\") #but technically str\n",
    "# LSOA code functionally determines the LSOA name\n",
    "# lookup = outcomes[[\"LSOA code\", \"LSOA name\"]].drop_duplicates().reset_index(drop=True)\n",
    "outcomes = outcomes.drop(columns=['Month', \"LSOA name\"], errors='ignore')"
   ]
  },
  {
   "cell_type": "code",
   "execution_count": null,
   "id": "969ba39e",
   "metadata": {},
   "outputs": [],
   "source": [
    "outcomes.info()"
   ]
  },
  {
   "cell_type": "code",
   "execution_count": null,
   "id": "32cff191",
   "metadata": {},
   "outputs": [],
   "source": [
    "outcomes.isna().sum().sort_values() / len(outcomes) * 100"
   ]
  },
  {
   "cell_type": "code",
   "execution_count": null,
   "id": "03ada8b3",
   "metadata": {},
   "outputs": [],
   "source": [
    "outcomes.to_parquet(\n",
    "    os.path.join(\"data\", \"processed_data\", \"outcomes.parquet\"),\n",
    "    index=False,\n",
    "    engine=\"pyarrow\"\n",
    ")"
   ]
  },
  {
   "cell_type": "markdown",
   "id": "26f2a0e0",
   "metadata": {},
   "source": [
    "# Search"
   ]
  },
  {
   "cell_type": "code",
   "execution_count": null,
   "id": "cf457097",
   "metadata": {},
   "outputs": [],
   "source": [
    "search = read_city_of_london_street_csvs(os.path.join(\"data\", \"relevant_data\"), \"stop-and-search\")"
   ]
  },
  {
   "cell_type": "code",
   "execution_count": null,
   "id": "323c316d",
   "metadata": {},
   "outputs": [],
   "source": [
    "search.info()"
   ]
  },
  {
   "cell_type": "code",
   "execution_count": null,
   "id": "9d9e9c0b",
   "metadata": {},
   "outputs": [],
   "source": [
    "search[\"Type\"] = search[\"Type\"].astype(\"category\")\n",
    "search[\"Date\"] = pd.to_datetime(search[\"Date\"], errors='coerce')\n",
    "search[\"Latitude\"] = pd.to_numeric(search[\"Latitude\"], errors='coerce', downcast='float')\n",
    "search[\"Longitude\"] = pd.to_numeric(search[\"Longitude\"], errors='coerce', downcast='float')\n",
    "search[\"Gender\"] = search[\"Type\"].astype(\"category\")\n",
    "search[\"Age range\"] = pd.Categorical(search[\"Age range\"],\n",
    "                                 categories=[\"under 10\", \"10-17\", \"18-24\", \"25-34\", \"over 34\"],\n",
    "                                 ordered=True)\n",
    "search[\"Self-defined ethnicity\"] = search[\"Self-defined ethnicity\"].astype(\"category\")\n",
    "search[\"Officer-defined ethnicity\"] = search[\"Officer-defined ethnicity\"].astype(\"category\")\n",
    "search[\"Legislation\"] = search[\"Legislation\"].astype(\"category\")\n",
    "search[\"Object of search\"] = search[\"Object of search\"].astype(\"category\")\n",
    "search[\"Outcome\"] = search[\"Outcome\"].astype(\"category\")\n",
    "search[\"Outcome linked to object of search\"] = search[\"Outcome linked to object of search\"].astype(\"bool\")\n",
    "search[\"Outcome linked to object of search\"] = search[\"Outcome linked to object of search\"].astype(\"bool\")\n",
    "search[\"Person search\"] = search[\"Type\"].str.contains(\"Person\", na=False).astype(\"bool\")\n",
    "search[\"Vehicle search\"] = search[\"Type\"].str.contains(\"Vehicle\", na=False).astype(\"bool\")\n",
    "search = search.drop(columns=[\"Policing operation\", \"Type\"], errors='ignore')"
   ]
  },
  {
   "cell_type": "code",
   "execution_count": null,
   "id": "b228ac61",
   "metadata": {},
   "outputs": [],
   "source": [
    "search.info()"
   ]
  },
  {
   "cell_type": "code",
   "execution_count": null,
   "id": "3b6c8083",
   "metadata": {},
   "outputs": [],
   "source": [
    "search.isna().sum().sort_values() / len(search) * 100"
   ]
  },
  {
   "cell_type": "code",
   "execution_count": null,
   "id": "408978af",
   "metadata": {},
   "outputs": [],
   "source": [
    "search.to_parquet(\n",
    "    os.path.join(\"data\", \"processed_data\", \"search.parquet\"),\n",
    "    index=False,\n",
    "    engine=\"pyarrow\"\n",
    ")"
   ]
  },
  {
   "cell_type": "markdown",
   "id": "4824205b",
   "metadata": {},
   "source": [
    "# TO database"
   ]
  },
  {
   "cell_type": "code",
   "execution_count": null,
   "id": "06dfaaac",
   "metadata": {},
   "outputs": [],
   "source": [
    "import pandas as pd\n",
    "import sqlite3\n",
    "\n",
    "def create_database_from_dataframes(crimes_df, outcomes_df, stop_search_df, db_path=\"police_data.db\"):\n",
    "    \"\"\"\n",
    "    Creates an SQLite database with three tables from given DataFrames.\n",
    "    Adds auto-incremented primary keys to each table.\n",
    "\n",
    "    Args:\n",
    "        crimes_df (pd.DataFrame): DataFrame containing crimes.\n",
    "        outcomes_df (pd.DataFrame): DataFrame containing outcomes.\n",
    "        stop_search_df (pd.DataFrame): DataFrame containing stop and search records.\n",
    "        db_path (str): Path where the SQLite database will be created.\n",
    "    \"\"\"\n",
    "    # Connect to SQLite database (will create if it doesn't exist)\n",
    "    conn = sqlite3.connect(db_path)\n",
    "    cursor = conn.cursor()\n",
    "\n",
    "    # Create Crimes table\n",
    "    cursor.execute(f\"\"\"\n",
    "    CREATE TABLE IF NOT EXISTS crimes (\n",
    "        id INTEGER PRIMARY KEY AUTOINCREMENT,\n",
    "        crime_id CHARACTER(60),\n",
    "        reported_by ENUM({', '.join(f\"'{cat}'\" for cat in combined_df[\"Reported by\"].cat.categories.tolist())}),\n",
    "        falls_within ENUM({', '.join(f\"'{cat}'\" for cat in combined_df[\"Falls within\"].cat.categories.tolist())}),\n",
    "        point_location GEOGRAPHY(POINT, 4326),\n",
    "        location ENUM({', '.join(f\"'{cat}'\" for cat in combined_df[\"Location\"].cat.categories.tolist())}),\n",
    "        lsoa_code CHARACTER(9),\n",
    "        last_outcome_category ENUM({', '.join(f\"'{cat}'\" for cat in combined_df[\"Last outcome category\"].cat.categories.tolist())}),\n",
    "        year SMALLINT,\n",
    "        month TINYINT\n",
    "    );\n",
    "    \"\"\")\n",
    "\n",
    "    # Create Outcomes table\n",
    "    cursor.execute(f\"\"\"\n",
    "    CREATE TABLE IF NOT EXISTS outcomes (\n",
    "        id INTEGER PRIMARY KEY AUTOINCREMENT,\n",
    "        crime_id CHARACTER(60),\n",
    "        reported_by ENUM({', '.join(f\"'{cat}'\" for cat in outcomes[\"Reported by\"].cat.categories.tolist())}),\n",
    "        falls_within ENUM({', '.join(f\"'{cat}'\" for cat in outcomes[\"Falls within\"].cat.categories.tolist())}),\n",
    "        point_location GEOGRAPHY(POINT, 4326),\n",
    "        location ENUM({', '.join(f\"'{cat}'\" for cat in outcomes[\"Location\"].cat.categories.tolist())}),\n",
    "        lsoa_code CHAR(9),\n",
    "        outcome_type ENUM({', '.join(f\"'{cat}'\" for cat in outcomes[\"Outcome type\"].cat.categories.tolist())}),\n",
    "        year SMALLINT,\n",
    "        month TINYINT\n",
    "    );\n",
    "    \"\"\")\n",
    "\n",
    "    # Create Stop and Search table\n",
    "    cursor.execute(f\"\"\"\n",
    "    CREATE TABLE IF NOT EXISTS stop_search (\n",
    "        id INTEGER PRIMARY KEY AUTOINCREMENT,\n",
    "        date TIMESTAMP,\n",
    "        part_of_policing_operation BOOLEAN,\n",
    "        point_location GEOGRAPHY(POINT, 4326),\n",
    "        person_search BOOLEAN,\n",
    "        vehicle_search BOOLEAN,\n",
    "        gender ENUM({', '.join(f\"'{cat}'\" for cat in search[\"Gender\"].cat.categories.tolist())}),\n",
    "        age_range ENUM({', '.join(f\"'{cat}'\" for cat in search[\"Age range\"].cat.categories.tolist())}),\n",
    "        self_defined_ethnicity ENUM({', '.join(f\"'{cat}'\" for cat in search[\"Self-defined ethnicity\"].cat.categories.tolist())}),\n",
    "        officer_defined_ethnicity ENUM({', '.join(f\"'{cat}'\" for cat in search[\"Officer-defined ethnicity\"].cat.categories.tolist())}),\n",
    "        legislation ENUM({', '.join(f\"'{cat}'\" for cat in search[\"Legislation\"].cat.categories.tolist())}),\n",
    "        object_of_search ENUM({', '.join(f\"'{cat}'\" for cat in search[\"Object of search\"].cat.categories.tolist())}),\n",
    "        outcome ENUM({', '.join(f\"'{cat}'\" for cat in search[\"Outcome\"].cat.categories.tolist())}),\n",
    "        outcome_linked_to_object_of_search BOOLEAN,\n",
    "        removal_of_more_than_outer_clothing TEXT\n",
    "    );\n",
    "    \"\"\")\n",
    "\n",
    "    # Insert data into the tables\n",
    "    # crimes_df.to_sql('crimes', conn, if_exists='append', index=False)\n",
    "    # outcomes_df.to_sql('outcomes', conn, if_exists='append', index=False)\n",
    "    # stop_search_df.to_sql('stop_search', conn, if_exists='append', index=False)\n",
    "\n",
    "    # Commit and close connection\n",
    "    conn.commit()\n",
    "    conn.close()\n",
    "\n",
    "# Example usage (replace these with your actual dataframes):\n",
    "create_database_from_dataframes(combined_df, outcomes, search)"
   ]
  },
  {
   "cell_type": "code",
   "execution_count": null,
   "id": "bc612c4d",
   "metadata": {},
   "outputs": [],
   "source": [
    "', '.join(f\"'{cat}'\" for cat in combined_df[\"Falls Wi\"].cat.categories.tolist())"
   ]
  },
  {
   "cell_type": "code",
   "execution_count": null,
   "id": "83dfb1c9",
   "metadata": {},
   "outputs": [],
   "source": [
    "print(f\"\"\"\n",
    "    CREATE TABLE IF NOT EXISTS crimes (\n",
    "        id INTEGER PRIMARY KEY AUTOINCREMENT,\n",
    "        crime_id CHARACTER(60),\n",
    "        reported_by {', '.join(f\"'{cat}'\" for cat in combined_df[\"Reported by\"].cat.categories.tolist())},\n",
    "        falls_within {', '.join(f\"'{cat}'\" for cat in combined_df[\"Falls within\"].cat.categories.tolist())},\n",
    "        point_location GEOGRAPHY(POINT, 4326),\n",
    "        location {', '.join(f\"'{cat}'\" for cat in combined_df[\"Location\"].cat.categories.tolist())},\n",
    "        lsoa_code CHARACTER(9),\n",
    "        last_outcome_category {', '.join(f\"'{cat}'\" for cat in combined_df[\"Last outcome category\"].cat.categories.tolist())},\n",
    "        year SMALLINT,\n",
    "        month TINYINT\n",
    "    );\n",
    "    \"\"\")"
   ]
  },
  {
   "cell_type": "markdown",
   "id": "e6956c78",
   "metadata": {},
   "source": []
  },
  {
   "cell_type": "code",
   "execution_count": null,
   "id": "e217fd94",
   "metadata": {},
   "outputs": [],
   "source": []
  }
 ],
 "metadata": {
  "kernelspec": {
   "display_name": ".venv",
   "language": "python",
   "name": "python3"
  },
  "language_info": {
   "codemirror_mode": {
    "name": "ipython",
    "version": 3
   },
   "file_extension": ".py",
   "mimetype": "text/x-python",
   "name": "python",
   "nbconvert_exporter": "python",
   "pygments_lexer": "ipython3",
   "version": "3.13.1"
  }
 },
 "nbformat": 4,
 "nbformat_minor": 5
}
