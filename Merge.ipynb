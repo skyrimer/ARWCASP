{
 "cells": [
  {
   "cell_type": "code",
   "execution_count": 3,
   "id": "7d4f0ec7-6979-4b26-a14a-08885770ea4b",
   "metadata": {},
   "outputs": [],
   "source": [
    "import pandas as pd\n",
    "import matplotlib.pyplot as plt\n",
    "import geopandas as gpd\n",
    "\n",
    "# List of all of the data the model is going to use\n",
    "lsoa_data = pd.read_parquet(\"./processed_data/lsoa_data.parquet\")\n",
    "lsoa_data2 = pd.read_parquet(\"./processed_data/lsoa_data.parquet\")\n",
    "deprivation_2015 = pd.read_parquet(\"./processed_data/filtered_deprivation_2015.parquet\")\n",
    "deprivation_2019 = pd.read_parquet(\"./processed_data/deprivation_index.parquet\")\n",
    "street = gpd.read_parquet(\"./processed_data/street.parquet\")\n",
    "outcomes = gpd.read_parquet(\"./processed_data/outcomes.parquet\")\n",
    "busy = pd.read_parquet(\"./processed_data/busy_with_lsoa.parquet\")\n"
   ]
  },
  {
   "cell_type": "code",
   "execution_count": null,
   "id": "8aa60109-a41b-4855-a4c5-2b0a327e6c97",
   "metadata": {},
   "outputs": [],
   "source": []
  }
 ],
 "metadata": {
  "kernelspec": {
   "display_name": "Python 3 (ipykernel)",
   "language": "python",
   "name": "python3"
  },
  "language_info": {
   "codemirror_mode": {
    "name": "ipython",
    "version": 3
   },
   "file_extension": ".py",
   "mimetype": "text/x-python",
   "name": "python",
   "nbconvert_exporter": "python",
   "pygments_lexer": "ipython3",
   "version": "3.13.2"
  }
 },
 "nbformat": 4,
 "nbformat_minor": 5
}
